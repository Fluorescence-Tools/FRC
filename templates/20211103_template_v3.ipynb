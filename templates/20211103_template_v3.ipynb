{
 "cells": [
  {
   "cell_type": "markdown",
   "metadata": {},
   "source": [
    "# Contents\n",
    "1) imports  \n",
    "2) global settings  \n",
    "3) analysis  \n",
    "4) Visualization  \n",
    "5) A-A distance analysis  \n",
    "6) no FRET distance analysis  \n",
    "7) high FRET distance analysis  \n",
    "8) particle alignment  "
   ]
  },
  {
   "cell_type": "markdown",
   "metadata": {},
   "source": [
    "# Imports"
   ]
  },
  {
   "cell_type": "code",
   "execution_count": 1,
   "metadata": {},
   "outputs": [],
   "source": [
    "import numpy as np\n",
    "import matplotlib.pyplot as plt\n",
    "import matplotlib as mpl\n",
    "import ImageManipulation as IM\n",
    "import os\n",
    "import precisionFuncs as pF\n",
    "import developmental_functions as df\n",
    "import AlignStructures as AS\n",
    "import utility\n",
    "import histogram_fitting as hfit\n",
    "from lmfit import fit_report\n",
    "import aid_functions as aid\n",
    "import copy\n",
    "import sys"
   ]
  },
  {
   "cell_type": "code",
   "execution_count": 12,
   "metadata": {},
   "outputs": [],
   "source": [
    "#for development only\n",
    "from importlib import reload"
   ]
  },
  {
   "cell_type": "markdown",
   "metadata": {},
   "source": [
    "# 2) global settings"
   ]
  },
  {
   "cell_type": "markdown",
   "metadata": {},
   "source": [
    "### optional: merge subfolders into one folder"
   ]
  },
  {
   "cell_type": "code",
   "execution_count": 13,
   "metadata": {},
   "outputs": [
    {
     "name": "stdout",
     "output_type": "stream",
     "text": [
      "P:\\STED-FRET3D\\02_data\\211202_DNA_origami_CLR_MR\\all\n"
     ]
    }
   ],
   "source": [
    "#FRET-nanoscopy acquisition software creates one folder for each confocal area. \n",
    "#Run this function to copy all .ptu files from subfolders of the input folder ('infolder')\n",
    "#by default all files will be copied into a new subfolder called 'all'.\n",
    "infolder = r'P:\\STED-FRET3D\\02_data\\211202_DNA_origami_CLR_MR'\n",
    "aid.simplePTUmerge(infolder)"
   ]
  },
  {
   "cell_type": "markdown",
   "metadata": {},
   "source": [
    "### set global parameters"
   ]
  },
  {
   "cell_type": "code",
   "execution_count": 2,
   "metadata": {},
   "outputs": [],
   "source": [
    "# directory of this notebook\n",
    "notebookdir = sys.path[0]\n",
    "# directory of the dataset\n",
    "rootdir = os.path.split(notebookdir)[0]\n",
    "#where the .ptu files are located\n",
    "wdir = os.path.join(rootdir, 'demo', '20211202')\n",
    "#where you'd like to save your result files\n",
    "resdir = os.path.join(rootdir, 'demo', 'analysis')\n",
    "#this identifier will be used for filenames and graph titles\n",
    "identifier = 'O(HF+NF)'"
   ]
  },
  {
   "cell_type": "markdown",
   "metadata": {},
   "source": [
    "### optional: load previously analysed data"
   ]
  },
  {
   "cell_type": "markdown",
   "metadata": {},
   "source": [
    "if you load previously analysed data, the data will include the first 300 structures and you can skip the analysis step"
   ]
  },
  {
   "cell_type": "code",
   "execution_count": 3,
   "metadata": {},
   "outputs": [
    {
     "ename": "FileNotFoundError",
     "evalue": "[Errno 2] No such file or directory: 'K:\\\\vanderVoortN\\\\Seidel\\\\demo\\\\analysis\\\\O(HF+NF).spots'",
     "output_type": "error",
     "traceback": [
      "\u001b[1;31m---------------------------------------------------------------------------\u001b[0m",
      "\u001b[1;31mFileNotFoundError\u001b[0m                         Traceback (most recent call last)",
      "\u001b[1;32m~\\AppData\\Local\\Temp/ipykernel_27268/1214270465.py\u001b[0m in \u001b[0;36m<module>\u001b[1;34m\u001b[0m\n\u001b[0;32m      1\u001b[0m \u001b[0mlocfile\u001b[0m \u001b[1;33m=\u001b[0m \u001b[0mos\u001b[0m\u001b[1;33m.\u001b[0m\u001b[0mpath\u001b[0m\u001b[1;33m.\u001b[0m\u001b[0mjoin\u001b[0m\u001b[1;33m(\u001b[0m\u001b[0mresdir\u001b[0m\u001b[1;33m,\u001b[0m \u001b[0midentifier\u001b[0m  \u001b[1;33m+\u001b[0m \u001b[1;34m'.spots'\u001b[0m\u001b[1;33m)\u001b[0m\u001b[1;33m\u001b[0m\u001b[1;33m\u001b[0m\u001b[0m\n\u001b[0;32m      2\u001b[0m \u001b[0manfile\u001b[0m \u001b[1;33m=\u001b[0m \u001b[0mos\u001b[0m\u001b[1;33m.\u001b[0m\u001b[0mpath\u001b[0m\u001b[1;33m.\u001b[0m\u001b[0mjoin\u001b[0m\u001b[1;33m(\u001b[0m\u001b[0mresdir\u001b[0m\u001b[1;33m,\u001b[0m \u001b[0midentifier\u001b[0m \u001b[1;33m+\u001b[0m \u001b[1;34m'_an.spots'\u001b[0m\u001b[1;33m)\u001b[0m\u001b[1;33m\u001b[0m\u001b[1;33m\u001b[0m\u001b[0m\n\u001b[1;32m----> 3\u001b[1;33m \u001b[0mlocLst\u001b[0m \u001b[1;33m=\u001b[0m \u001b[0mdf\u001b[0m\u001b[1;33m.\u001b[0m\u001b[0mloadpickle\u001b[0m\u001b[1;33m(\u001b[0m\u001b[0mlocfile\u001b[0m\u001b[1;33m)\u001b[0m\u001b[1;33m\u001b[0m\u001b[1;33m\u001b[0m\u001b[0m\n\u001b[0m\u001b[0;32m      4\u001b[0m \u001b[0mlocLst_an\u001b[0m \u001b[1;33m=\u001b[0m \u001b[0mdf\u001b[0m\u001b[1;33m.\u001b[0m\u001b[0mloadpickle\u001b[0m\u001b[1;33m(\u001b[0m\u001b[0manfile\u001b[0m\u001b[1;33m)\u001b[0m\u001b[1;33m\u001b[0m\u001b[1;33m\u001b[0m\u001b[0m\n\u001b[0;32m      5\u001b[0m \u001b[0mlocLst_stats\u001b[0m \u001b[1;33m=\u001b[0m \u001b[0mdf\u001b[0m\u001b[1;33m.\u001b[0m\u001b[0mgenStats\u001b[0m\u001b[1;33m(\u001b[0m\u001b[0mlocLst_an\u001b[0m\u001b[1;33m)\u001b[0m\u001b[1;33m\u001b[0m\u001b[1;33m\u001b[0m\u001b[0m\n",
      "\u001b[1;32mK:\\vanderVoortN\\Seidel\\Code\\developmental_functions.py\u001b[0m in \u001b[0;36mloadpickle\u001b[1;34m(outname)\u001b[0m\n\u001b[0;32m    646\u001b[0m \u001b[1;33m\u001b[0m\u001b[0m\n\u001b[0;32m    647\u001b[0m \u001b[1;32mdef\u001b[0m \u001b[0mloadpickle\u001b[0m\u001b[1;33m(\u001b[0m\u001b[0moutname\u001b[0m\u001b[1;33m)\u001b[0m\u001b[1;33m:\u001b[0m\u001b[1;33m\u001b[0m\u001b[1;33m\u001b[0m\u001b[0m\n\u001b[1;32m--> 648\u001b[1;33m     \u001b[1;32mwith\u001b[0m \u001b[0mopen\u001b[0m\u001b[1;33m(\u001b[0m\u001b[0moutname\u001b[0m\u001b[1;33m,\u001b[0m \u001b[1;34m'rb'\u001b[0m\u001b[1;33m)\u001b[0m \u001b[1;32mas\u001b[0m \u001b[0mf\u001b[0m\u001b[1;33m:\u001b[0m\u001b[1;33m\u001b[0m\u001b[1;33m\u001b[0m\u001b[0m\n\u001b[0m\u001b[0;32m    649\u001b[0m         \u001b[1;32mreturn\u001b[0m \u001b[0mpickle\u001b[0m\u001b[1;33m.\u001b[0m\u001b[0mload\u001b[0m\u001b[1;33m(\u001b[0m\u001b[0mf\u001b[0m\u001b[1;33m)\u001b[0m\u001b[1;33m\u001b[0m\u001b[1;33m\u001b[0m\u001b[0m\n\u001b[0;32m    650\u001b[0m \u001b[1;33m\u001b[0m\u001b[0m\n",
      "\u001b[1;31mFileNotFoundError\u001b[0m: [Errno 2] No such file or directory: 'K:\\\\vanderVoortN\\\\Seidel\\\\demo\\\\analysis\\\\O(HF+NF).spots'"
     ]
    }
   ],
   "source": [
    "locfile = os.path.join(resdir, identifier  + '.spots')\n",
    "anfile = os.path.join(resdir, identifier + '_an.spots')\n",
    "locLst = df.loadpickle(locfile)\n",
    "locLst_an = df.loadpickle(anfile)\n",
    "locLst_stats = df.genStats(locLst_an)"
   ]
  },
  {
   "cell_type": "markdown",
   "metadata": {},
   "source": [
    "# 3) analysis"
   ]
  },
  {
   "cell_type": "markdown",
   "metadata": {},
   "source": [
    "a demo sample of 10 ptu files is included for testing."
   ]
  },
  {
   "cell_type": "markdown",
   "metadata": {},
   "source": [
    "### 1st analysis step: localization"
   ]
  },
  {
   "cell_type": "code",
   "execution_count": null,
   "metadata": {
    "scrolled": true
   },
   "outputs": [
    {
     "name": "stdout",
     "output_type": "stream",
     "text": [
      "analysing image no. 0\n",
      "loading file PQSpcm_2019-11-18_23-53-31.ptu\n",
      "number of records is 395821\n",
      "analysing image no. 1\n",
      "loading file PQSpcm_2019-11-18_13-37-22.ptu\n",
      "number of records is 451296\n",
      "analysing image no. 2\n",
      "loading file PQSpcm_2019-11-18_13-37-49.ptu\n",
      "number of records is 440476\n",
      "analysing image no. 3\n",
      "loading file PQSpcm_2019-11-18_13-38-16.ptu\n",
      "number of records is 437328\n",
      "analysing image no. 4\n",
      "loading file PQSpcm_2019-11-18_13-38-43.ptu\n",
      "number of records is 442560\n",
      "analysing image no. 5\n",
      "loading file PQSpcm_2019-11-18_13-39-10.ptu\n",
      "number of records is 430556\n",
      "analysing image no. 6\n",
      "loading file PQSpcm_2019-11-18_13-39-37.ptu\n",
      "number of records is 437831\n",
      "analysing image no. 7\n",
      "loading file PQSpcm_2019-11-18_13-40-04.ptu\n",
      "number of records is 433523\n",
      "analysing image no. 8\n",
      "loading file PQSpcm_2019-11-18_13-40-31.ptu\n",
      "number of records is 442718\n",
      "analysing image no. 9\n",
      "loading file PQSpcm_2019-11-18_13-41-25.ptu\n",
      "number of records is 437833\n",
      "analysing image no. 10\n",
      "loading file PQSpcm_2019-11-18_13-42-19.ptu\n",
      "number of records is 434296\n",
      "analysing image no. 11\n",
      "loading file PQSpcm_2019-11-18_13-42-47.ptu\n",
      "number of records is 434774\n",
      "analysing image no. 12\n",
      "loading file PQSpcm_2019-11-18_13-43-14.ptu\n",
      "number of records is 430627\n",
      "analysing image no. 13\n",
      "loading file PQSpcm_2019-11-18_13-43-41.ptu\n",
      "number of records is 433658\n",
      "analysing image no. 14\n",
      "loading file PQSpcm_2019-11-18_13-44-09.ptu\n",
      "number of records is 442319\n",
      "analysing image no. 15\n",
      "loading file PQSpcm_2019-11-18_13-44-36.ptu\n",
      "number of records is 430297\n",
      "analysing image no. 16\n",
      "loading file PQSpcm_2019-11-18_13-45-04.ptu\n",
      "number of records is 432541\n",
      "analysing image no. 17\n",
      "loading file PQSpcm_2019-11-18_13-45-31.ptu\n",
      "number of records is 437136\n",
      "analysing image no. 18\n",
      "loading file PQSpcm_2019-11-18_13-45-59.ptu\n",
      "number of records is 439675\n",
      "analysing image no. 19\n",
      "loading file PQSpcm_2019-11-18_13-46-26.ptu\n",
      "number of records is 442294\n",
      "analysing image no. 20\n",
      "loading file PQSpcm_2019-11-18_13-46-54.ptu\n",
      "number of records is 427456\n",
      "analysing image no. 21\n",
      "loading file PQSpcm_2019-11-18_13-47-22.ptu\n",
      "number of records is 437812\n",
      "analysing image no. 22\n",
      "loading file PQSpcm_2019-11-18_13-48-46.ptu\n",
      "number of records is 444498\n",
      "analysing image no. 23\n",
      "loading file PQSpcm_2019-11-18_13-49-14.ptu\n",
      "number of records is 414753\n",
      "analysing image no. 24\n",
      "loading file PQSpcm_2019-11-18_13-49-41.ptu\n",
      "number of records is 440066\n",
      "analysing image no. 25\n",
      "loading file PQSpcm_2019-11-18_13-50-09.ptu\n",
      "number of records is 433703\n",
      "analysing image no. 26\n",
      "loading file PQSpcm_2019-11-18_13-50-37.ptu\n",
      "number of records is 428642\n",
      "analysing image no. 27\n",
      "loading file PQSpcm_2019-11-18_13-51-06.ptu\n",
      "number of records is 453229\n",
      "analysing image no. 28\n",
      "loading file PQSpcm_2019-11-18_13-51-34.ptu\n",
      "number of records is 439858\n",
      "analysing image no. 29\n",
      "loading file PQSpcm_2019-11-18_13-52-02.ptu\n",
      "number of records is 452453\n",
      "analysing image no. 30\n",
      "loading file PQSpcm_2019-11-18_13-52-31.ptu\n",
      "number of records is 423531\n",
      "analysing image no. 31\n",
      "loading file PQSpcm_2019-11-18_13-52-59.ptu\n",
      "number of records is 418450\n",
      "analysing image no. 32\n",
      "loading file PQSpcm_2019-11-18_13-53-28.ptu\n",
      "number of records is 434991\n",
      "analysing image no. 33\n",
      "loading file PQSpcm_2019-11-18_13-53-56.ptu\n",
      "number of records is 426343\n",
      "analysing image no. 34\n",
      "loading file PQSpcm_2019-11-18_13-54-53.ptu\n",
      "number of records is 415674\n",
      "analysing image no. 35\n",
      "loading file PQSpcm_2019-11-18_13-55-22.ptu\n",
      "number of records is 433554\n",
      "analysing image no. 36\n",
      "loading file PQSpcm_2019-11-18_13-55-51.ptu\n",
      "number of records is 428481\n",
      "analysing image no. 37\n",
      "loading file PQSpcm_2019-11-18_13-56-20.ptu\n",
      "number of records is 449827\n",
      "analysing image no. 38\n",
      "loading file PQSpcm_2019-11-18_13-57-18.ptu\n",
      "number of records is 421454\n",
      "analysing image no. 39\n",
      "loading file PQSpcm_2019-11-18_13-57-47.ptu\n",
      "number of records is 415888\n",
      "analysing image no. 40\n",
      "loading file PQSpcm_2019-11-18_13-58-16.ptu\n",
      "number of records is 412232\n",
      "analysing image no. 41\n",
      "loading file PQSpcm_2019-11-18_13-58-44.ptu\n",
      "number of records is 431429\n",
      "analysing image no. 42\n",
      "loading file PQSpcm_2019-11-18_13-59-13.ptu\n",
      "number of records is 428875\n",
      "analysing image no. 43\n",
      "loading file PQSpcm_2019-11-18_13-59-43.ptu\n",
      "number of records is 425387\n",
      "analysing image no. 44\n",
      "loading file PQSpcm_2019-11-18_14-00-12.ptu\n",
      "number of records is 443853\n",
      "analysing image no. 45\n",
      "loading file PQSpcm_2019-11-18_14-00-41.ptu\n",
      "number of records is 416927\n",
      "analysing image no. 46\n",
      "loading file PQSpcm_2019-11-18_14-01-10.ptu\n",
      "number of records is 418436\n",
      "analysing image no. 47\n",
      "loading file PQSpcm_2019-11-18_14-01-40.ptu\n",
      "number of records is 424419\n",
      "analysing image no. 48\n",
      "loading file PQSpcm_2019-11-18_14-02-38.ptu\n",
      "number of records is 427623\n",
      "analysing image no. 49\n",
      "loading file PQSpcm_2019-11-18_14-03-08.ptu\n",
      "number of records is 426990\n",
      "analysing image no. 50\n",
      "loading file PQSpcm_2019-11-18_14-03-38.ptu\n",
      "number of records is 436060\n",
      "analysing image no. 51\n",
      "loading file PQSpcm_2019-11-18_14-04-07.ptu\n",
      "number of records is 410497\n",
      "analysing image no. 52\n",
      "loading file PQSpcm_2019-11-18_14-05-07.ptu\n",
      "number of records is 421674\n",
      "analysing image no. 53\n",
      "loading file PQSpcm_2019-11-18_14-05-36.ptu\n",
      "number of records is 433180\n",
      "analysing image no. 54\n",
      "loading file PQSpcm_2019-11-18_14-06-06.ptu\n",
      "number of records is 411928\n",
      "analysing image no. 55\n",
      "loading file PQSpcm_2019-11-18_14-06-36.ptu\n",
      "number of records is 439219\n",
      "analysing image no. 56\n",
      "loading file PQSpcm_2019-11-18_14-07-06.ptu\n",
      "number of records is 428992\n",
      "analysing image no. 57\n",
      "loading file PQSpcm_2019-11-18_14-07-36.ptu\n",
      "number of records is 426980\n",
      "analysing image no. 58\n",
      "loading file PQSpcm_2019-11-18_14-08-06.ptu\n",
      "number of records is 433719\n",
      "analysing image no. 59\n",
      "loading file PQSpcm_2019-11-18_14-08-36.ptu\n",
      "number of records is 429982\n",
      "analysing image no. 60\n",
      "loading file PQSpcm_2019-11-18_14-09-06.ptu\n",
      "number of records is 428703\n",
      "analysing image no. 61\n",
      "loading file PQSpcm_2019-11-18_14-09-36.ptu\n",
      "number of records is 422280\n",
      "analysing image no. 62\n",
      "loading file PQSpcm_2019-11-18_14-10-06.ptu\n",
      "number of records is 438228\n",
      "analysing image no. 63\n",
      "loading file PQSpcm_2019-11-18_14-11-07.ptu\n",
      "number of records is 437568\n",
      "analysing image no. 64\n",
      "loading file PQSpcm_2019-11-18_14-11-38.ptu\n",
      "number of records is 441918\n",
      "analysing image no. 65\n",
      "loading file PQSpcm_2019-11-18_14-12-09.ptu\n",
      "number of records is 427151\n",
      "analysing image no. 66\n",
      "loading file PQSpcm_2019-11-18_14-12-39.ptu\n",
      "number of records is 433168\n",
      "analysing image no. 67\n",
      "loading file PQSpcm_2019-11-18_14-13-10.ptu\n",
      "number of records is 425776\n",
      "analysing image no. 68\n",
      "loading file PQSpcm_2019-11-18_14-13-40.ptu\n",
      "number of records is 415184\n",
      "analysing image no. 69\n",
      "loading file PQSpcm_2019-11-18_14-14-42.ptu\n",
      "number of records is 417556\n",
      "analysing image no. 70\n",
      "loading file PQSpcm_2019-11-18_14-15-13.ptu\n",
      "number of records is 427067\n",
      "analysing image no. 71\n",
      "loading file PQSpcm_2019-11-18_14-15-43.ptu\n",
      "number of records is 434784\n",
      "analysing image no. 72\n",
      "loading file PQSpcm_2019-11-18_14-19-55.ptu\n",
      "number of records is 445499\n",
      "analysing image no. 73\n",
      "loading file PQSpcm_2019-11-18_14-20-22.ptu\n",
      "number of records is 444590\n",
      "analysing image no. 74\n",
      "loading file PQSpcm_2019-11-18_14-20-48.ptu\n",
      "number of records is 436036\n",
      "analysing image no. 75\n",
      "loading file PQSpcm_2019-11-18_14-21-15.ptu\n",
      "number of records is 442640\n",
      "analysing image no. 76\n",
      "loading file PQSpcm_2019-11-18_14-22-35.ptu\n",
      "number of records is 443972\n",
      "analysing image no. 77\n",
      "loading file PQSpcm_2019-11-18_14-23-01.ptu\n",
      "number of records is 443040\n",
      "analysing image no. 78\n",
      "loading file PQSpcm_2019-11-18_14-23-28.ptu\n",
      "number of records is 428521\n",
      "analysing image no. 79\n",
      "loading file PQSpcm_2019-11-18_14-23-55.ptu\n",
      "number of records is 448161\n",
      "analysing image no. 80\n",
      "loading file PQSpcm_2019-11-18_14-24-21.ptu\n",
      "number of records is 445385\n",
      "analysing image no. 81\n",
      "loading file PQSpcm_2019-11-18_14-24-48.ptu\n",
      "number of records is 435848\n"
     ]
    }
   ],
   "source": [
    "#the tcspc tac number for gating away the initial part of the STED decay.\n",
    "gate = 16\n",
    "#set to True to obtain visual plots to monitor the fitting manually\n",
    "#set to False for quicker analysis\n",
    "verbose = False\n",
    "#don't change below settings\n",
    "outname = os.path.join(resdir, identifier + '.spots')\n",
    "options = df.GAP.optionsCluster(fitbg = 0, setbg = 0.2)\n",
    "wdir = r'P:\\STED-FRET\\data\\20-1\\16_CLR_overnight\\18Nov+16Jan_merged'\n",
    "files = os.listdir(wdir)\n",
    "locLst = df.analyseDir(options, wdir, files, Ggate = gate, Rgate = gate, Ygate = gate,\n",
    "                             outname = outname, framestop = -1, ROIsize = 30, verbose = verbose,\n",
    "                        junkIstar = 0.30, garbageBrightness = 50, DTwoIstar = 0.03)\n",
    "CLR3D_27Okt = locLst"
   ]
  },
  {
   "cell_type": "markdown",
   "metadata": {},
   "source": [
    "### 2nd analysis step: FRET information"
   ]
  },
  {
   "cell_type": "code",
   "execution_count": null,
   "metadata": {
    "scrolled": true
   },
   "outputs": [],
   "source": [
    "locfile = os.path.join(resdir, identifier  + '.spots')\n",
    "anfile = os.path.join(resdir, identifier + '_an.spots')\n",
    "load = False\n",
    "if not load:\n",
    "    ntacs = 256\n",
    "    outname = os.path.join(resdir, identifier + '_an.spots')\n",
    "    TACout = os.path.join(resdir, identifier + '_all_PS.dat')\n",
    "    statsout = os.path.join(resdir, identifier + '.pg4')\n",
    "\n",
    "    locLst_an = df.analyseLocLst(locLst, Igate = [0,0,0], ltgate = [gate, gate, gate],\n",
    "                                    verbose = False, framestop = 20, outname = outname,\n",
    "                                    ntacs = ntacs, bgphotons = [3.7, 4.7, 4.9])\n",
    "    posdir = os.path.join(resdir, 'positions')\n",
    "    df.export_position(locLst, posdir)\n",
    "    #an data contains always the full TCSPC decay\n",
    "    df.subensembleTAC(locLst_an, ntacs = ntacs, outfile = TACout)\n",
    "    stats = df.genStats(locLst_an, outfile = statsout, isforMargarita = True)\n",
    "CLR3D_27Okt = locLst\n",
    "CLR3D_27Okt_an = locLst_an\n",
    "CLR3D_27Okt_stats = stats"
   ]
  },
  {
   "cell_type": "markdown",
   "metadata": {},
   "source": [
    "# 4) Visualize"
   ]
  },
  {
   "cell_type": "markdown",
   "metadata": {},
   "source": [
    "### spot stoichiometry"
   ]
  },
  {
   "cell_type": "code",
   "execution_count": 6,
   "metadata": {},
   "outputs": [
    {
     "data": {
      "image/png": "[encoded data removed]",
      "text/plain": [
       "<Figure size 288x288 with 1 Axes>"
      ]
     },
     "metadata": {
      "needs_background": "light"
     },
     "output_type": "display_data"
    },
    {
     "data": {
      "text/plain": [
       "array([[0, 2, 0, 0],\n",
       "       [0, 0, 3, 2],\n",
       "       [0, 0, 2, 0],\n",
       "       [0, 1, 0, 0]])"
      ]
     },
     "execution_count": 6,
     "metadata": {},
     "output_type": "execute_result"
    }
   ],
   "source": [
    "#here you can get an idea about the number of Donor Only, Acceptor only and degree of labelling\n",
    "df.plotOccurence(locLst)"
   ]
  },
  {
   "cell_type": "markdown",
   "metadata": {},
   "source": [
    "### E vs Tau plot"
   ]
  },
  {
   "cell_type": "code",
   "execution_count": 7,
   "metadata": {},
   "outputs": [
    {
     "name": "stdout",
     "output_type": "stream",
     "text": [
      "mean Green lifetime for CLR-3D 27 Okt is 1.4\n",
      "mean Red lifetime for CLR-3D 27 Okt is 3.2\n",
      "mean Yellow lifetime for CLR-3D 27 Okt is 2.9\n"
     ]
    },
    {
     "data": {
      "image/png": "[encoded data removed]",
      "text/plain": [
       "<Figure size 432x432 with 1 Axes>"
      ]
     },
     "metadata": {
      "needs_background": "light"
     },
     "output_type": "display_data"
    }
   ],
   "source": [
    "tauG = df.getFRETind(locLst_an, 'tauG')\n",
    "tauR = df.getFRETind(locLst_an, 'tauR')\n",
    "tauY = df.getFRETind(locLst_an, 'tauY')\n",
    "Eprox = df.getFRETind(locLst_an, 'proxRatio')\n",
    "sample = 'CLR-3D 27 Okt'\n",
    "plt.figure(figsize = (6,6))\n",
    "plt.scatter(tauG, Eprox, s = 10)\n",
    "mpl.rcParams.update({'font.size': 18})\n",
    "plt.xlabel('Green lifetime (ns)')\n",
    "plt.ylabel('proximity ratio')\n",
    "plt.title('single FRET pairs for C-LR origami')\n",
    "plt.xlim(0,5)\n",
    "print('mean Green lifetime for %s is %.1f' %(sample, np.mean(tauG)))\n",
    "print('mean Red lifetime for %s is %.1f' %(sample, np.mean(tauR)))\n",
    "print('mean Yellow lifetime for %s is %.1f' %(sample, np.mean(tauY)))\n",
    "#plt.savefig(os.path.join(outdir, 'C-LR_super_super_res.png'), dpi = 300, bbox_inches = 'tight')"
   ]
  },
  {
   "cell_type": "markdown",
   "metadata": {},
   "source": [
    "# 5) Acceptor-Acceptor distance"
   ]
  },
  {
   "cell_type": "markdown",
   "metadata": {},
   "source": [
    "### function"
   ]
  },
  {
   "cell_type": "markdown",
   "metadata": {},
   "source": [
    "execute these functions in order to obtain your result"
   ]
  },
  {
   "cell_type": "code",
   "execution_count": 22,
   "metadata": {},
   "outputs": [],
   "source": [
    "def getAAdist(AAlocLst, pxSize = 10):\n",
    "    \"\"\"assumes all locs have exactly two acceptors\"\"\"\n",
    "    AAdist = []\n",
    "    for loc in AAlocLst:\n",
    "        Rdist = df. getCoordFromSpot(loc['Y'].spotLst[0]) - \\\n",
    "            df.getCoordFromSpot(loc['Y'].spotLst[1])\n",
    "        AAdist.append(Rdist)\n",
    "    AAdist = np.array(AAdist) * pxSize\n",
    "    return AAdist"
   ]
  },
  {
   "cell_type": "markdown",
   "metadata": {},
   "source": [
    "### settings"
   ]
  },
  {
   "cell_type": "code",
   "execution_count": 23,
   "metadata": {},
   "outputs": [],
   "source": [
    "#set the maximum distance you'd like to plot\n",
    "maxdist = 120\n",
    "#set the binwidth for histogramming the data\n",
    "binwidth = 2\n",
    "#this helps you to recognize your fit later\n",
    "fitIdentifier = 'AAdist'"
   ]
  },
  {
   "cell_type": "markdown",
   "metadata": {},
   "source": [
    "### XY scatter diagram"
   ]
  },
  {
   "cell_type": "code",
   "execution_count": 24,
   "metadata": {},
   "outputs": [
    {
     "name": "stdout",
     "output_type": "stream",
     "text": [
      "center of dataset is 7.62, -5.47 (x,y)\n"
     ]
    },
    {
     "data": {
      "image/png": "[encoded data removed]",
      "text/plain": [
       "<Figure size 432x432 with 1 Axes>"
      ]
     },
     "metadata": {
      "needs_background": "light"
     },
     "output_type": "display_data"
    }
   ],
   "source": [
    "#the diagram is symmetric because the orientation of the molecular assembly on the surface is also random\n",
    "##leave as-is\n",
    "# get the data and filter\n",
    "slocLst = df.selectSpotOccurence(locLst_an, [0,1,2], [2])\n",
    "\n",
    "#settings global to nc Chi fits\n",
    "mpl.rcParams['font.size'] = 12\n",
    "# plot the xy scatter data\n",
    "#this is not generic, make into something generic\n",
    "dist = getAAdist(slocLst)\n",
    "plt.figure(figsize = (6,6))\n",
    "plt.scatter(-dist[:,1], dist[:,0])\n",
    "plt.xlim(-maxdist,maxdist)\n",
    "plt.ylim(-maxdist,maxdist)\n",
    "\n",
    "center = np.mean(dist, axis = 0)\n",
    "plt.scatter(-center[1], center[0], marker = '*')#, color = 'orange')\n",
    "print('center of dataset is %.2f, %.2f (x,y)' % (center[0], center[1]))\n",
    "plt.show()\n"
   ]
  },
  {
   "cell_type": "markdown",
   "metadata": {},
   "source": [
    "### create a histogram"
   ]
  },
  {
   "cell_type": "code",
   "execution_count": 25,
   "metadata": {},
   "outputs": [
    {
     "data": {
      "text/plain": [
       "<Figure size 432x288 with 0 Axes>"
      ]
     },
     "metadata": {},
     "output_type": "display_data"
    }
   ],
   "source": [
    "#get the absolute distance\n",
    "distnorm = np.linalg.norm(dist, axis = 1)\n",
    "# bin the data\n",
    "counts, bin_edges, _ = plt.hist(distnorm, bins = np.arange(0, maxdist, binwidth))\n",
    "plt.clf()\n",
    "Nbins = bin_edges.shape[0] - 1\n",
    "bincenters = np.zeros(Nbins)\n",
    "for i in range(Nbins):\n",
    "    bincenters[i] = (bin_edges[i] + bin_edges[i + 1]) / 2"
   ]
  },
  {
   "cell_type": "markdown",
   "metadata": {},
   "source": [
    "### non-centered chi Fit"
   ]
  },
  {
   "cell_type": "code",
   "execution_count": 26,
   "metadata": {},
   "outputs": [
    {
     "data": {
      "image/png": "[encoded data removed]",
      "text/plain": [
       "<Figure size 432x288 with 1 Axes>"
      ]
     },
     "metadata": {
      "needs_background": "light"
     },
     "output_type": "display_data"
    },
    {
     "name": "stdout",
     "output_type": "stream",
     "text": [
      "[[Fit Statistics]]\n",
      "    # fitting method   = Nelder-Mead\n",
      "    # function evals   = 523\n",
      "    # data points      = 1\n",
      "    # variables        = 6\n",
      "    chi-square         = 6119.28012\n",
      "    reduced chi-square = 6119.28012\n",
      "    Akaike info crit   = 20.7191997\n",
      "    Bayesian info crit = 8.71919974\n",
      "##  Warning: uncertainties could not be estimated:\n",
      "    this fitting method does not natively calculate uncertainties\n",
      "    and numdifftools is not installed for lmfit to do this. Use\n",
      "    `pip install numdifftools` for lmfit to estimate uncertainties\n",
      "    with this fitting method.\n",
      "[[Variables]]\n",
      "    bg:    0 (fixed)\n",
      "    mu0:   79.5118957 (init = 75)\n",
      "    A0:    562.166234 (init = 500)\n",
      "    sig0:  5.33943984 (init = 3)\n",
      "    mu1:   54.4079101 (init = 50)\n",
      "    A1:    9.83550443 (init = 100)\n",
      "    sig1:  3.66788220 (init = 5)\n",
      "AIC for custom fit is 168.45\n"
     ]
    }
   ],
   "source": [
    "# set your fit settings here\n",
    "p = hfit.genPeakEst(2, counts, bincenters)\n",
    "p['bg'].set(vary = False, value = 0)\n",
    "p['mu0'].set(vary = True, value = 75)\n",
    "p['sig0'].set(vary = True, value = 3)\n",
    "p['A0'].set(vary = True, value = 500)\n",
    "p['mu1'].set(vary = True, value = 50)\n",
    "p['sig1'].set(vary = True, value = 5)\n",
    "p['A1'].set(vary = True, value = 100)\n",
    "#p['mu2'].set(vary = False, value = 82)\n",
    "#p['sig2'].set(vary = False, value = 3)\n",
    "#p['A2'].set(vary = True, value = 500)\n",
    "fitres, AIC, *_ = hfit.fitDistr(p, hfit.NncChidistr, bincenters, counts)\n",
    "plt.figure(figsize = (6, 4))\n",
    "hfit.plotdistr(distnorm, bincenters, fit = fitres, title = 'noFRET cut', )\n",
    "                           #modelout = modelout, plotout = plotout)\n",
    "print(fit_report(fitres))\n",
    "print('AIC for custom fit is %.2f' % AIC)"
   ]
  },
  {
   "cell_type": "markdown",
   "metadata": {},
   "source": [
    "### Support plane"
   ]
  },
  {
   "cell_type": "code",
   "execution_count": 27,
   "metadata": {},
   "outputs": [
    {
     "data": {
      "image/png": "[encoded data removed]",
      "text/plain": [
       "<Figure size 432x288 with 3 Axes>"
      ]
     },
     "metadata": {
      "needs_background": "light"
     },
     "output_type": "display_data"
    }
   ],
   "source": [
    "#once you've created your support plane surface, you may re-load it.\n",
    "load = False\n",
    "#set the parameters you'd like to scan\n",
    "param_ranges={\"sig0\":np.arange(2, 3.6, .1),\"mu0\":np.arange(78,79.6, .1)}\n",
    "#set these settings the same as your optimal fit\n",
    "p = hfit.genPeakEst(2, counts, bincenters)\n",
    "p['bg'].set(vary = False, value = 0)\n",
    "p['mu0'].set(vary = True, value = 78)\n",
    "p['sig0'].set(vary = True, value = 5)\n",
    "p['A0'].set(vary = True, value = 859)\n",
    "p['mu1'].set(vary = True, value = 67)\n",
    "p['sig1'].set(vary = True, value = 14)\n",
    "p['A1'].set(vary = True, value = 594)\n",
    "#p['mu2'].set(vary = True, value = 43)\n",
    "#p['sig2'].set(vary = True, value = 22)\n",
    "#p['A2'].set(vary = True, value = 212)\n",
    "\n",
    "surfaceout = os.path.join(resdir, fitIdentifier + 'surface.txt')\n",
    "if load:\n",
    "    surface = np.genfromtxt(surfaceout)\n",
    "else: \n",
    "    surface = hfit.scanLikelihoodSurface(param_ranges, p, bincenters, counts, verbose = False)\n",
    "    np.savetxt(surfaceout, surface)    \n",
    "\n",
    "outname = os.path.join(resdir, fitIdentifier + 'supportplane.png')\n",
    "hfit.plotLikelihoodSurface(surface, param_ranges, outname = outname, title =fitIdentifier, skip = 4,\n",
    "                        figsize = (6, 4), isplotpdf = True)"
   ]
  },
  {
   "cell_type": "markdown",
   "metadata": {},
   "source": [
    "# 6) no FRET distance analysis"
   ]
  },
  {
   "cell_type": "markdown",
   "metadata": {},
   "source": [
    "### settings and filter settings"
   ]
  },
  {
   "cell_type": "markdown",
   "metadata": {},
   "source": [
    "execute these functions in order to obtain your result"
   ]
  },
  {
   "cell_type": "code",
   "execution_count": 53,
   "metadata": {},
   "outputs": [],
   "source": [
    "# we want to isolate the noFRET species using these selection criteria\n",
    "# we want to include as many potential FRET pairs as possible, so we include partially labelled structures\n",
    "slocLst = df.selectSpotOccurence(locLst_an, [1, 2], [1, 2])\n",
    "# select based pseudo-efficiency or proximity FRET\n",
    "# note: start from 0.01 to exclude incomplete pairs\n",
    "slocLst = df.filterFRETind(slocLst, 'proxRatio', 0.01, 0.4)\n",
    "# select on the green fluorescent lifetime (ns)\n",
    "slocLst = df.filterFRETind(slocLst, 'tauG', 2.5, 3.5)\n",
    "# select only spots that have a minumum amount of photons\n",
    "slocLst = df.filterFRETind(slocLst, 'NG', 150, 1e8)\n",
    "slocLst = df.filterFRETind(slocLst, 'NY', 150, 1e8)\n",
    "\n",
    "# for exporting a sub-ensemble lifetime decay, we additionally \n",
    "# select on the localisation-based donor-acceptor distance\n",
    "tcspclocLst = df.filterFRETind(slocLst, 'dist', 10, 25)\n",
    "\n",
    "#set identifier, max distance and binwidth as before\n",
    "fitIdentifier = 'NFdist'\n",
    "maxdist = 40\n",
    "binwidth = 1"
   ]
  },
  {
   "cell_type": "markdown",
   "metadata": {},
   "source": [
    "### make scatter plot"
   ]
  },
  {
   "cell_type": "code",
   "execution_count": 54,
   "metadata": {},
   "outputs": [
    {
     "name": "stdout",
     "output_type": "stream",
     "text": [
      "P:\\STED-FRET\\Origamis\\data\\CLR_stats\n",
      "5.0 nm in x and 0.0 nm in y subtracted\n",
      "center of dataset is 2.60, -1.29 (x,y)\n"
     ]
    },
    {
     "data": {
      "image/png": "[encoded data removed]",
      "text/plain": [
       "<Figure size 432x432 with 1 Axes>"
      ]
     },
     "metadata": {
      "needs_background": "light"
     },
     "output_type": "display_data"
    }
   ],
   "source": [
    "TACout = os.path.join(resdir, identifier + '_NF_P+S_0.txt')\n",
    "df.subensembleTAC(tcspclocLst, outfile = TACout)\n",
    "\n",
    "#settings global to nc Chi fits\n",
    "mpl.rcParams['font.size'] = 12\n",
    "\n",
    "# plot the xy scatter data\n",
    "distx = df.getFRETind(slocLst, 'distx')\n",
    "disty = df.getFRETind(slocLst, 'disty')\n",
    "dist = np.array((distx, disty)).transpose()\n",
    "dist = df.filterVec(dist, maxval = maxdist, center = (5, 0))\n",
    "#dist = df.filterVec(dist, maxval = maxdist)\n",
    "\n",
    "plt.figure(figsize = (6,6))\n",
    "plt.scatter(-dist[:,1], dist[:,0])\n",
    "plt.xlim(-maxdist,maxdist)\n",
    "plt.ylim(-maxdist,maxdist)\n",
    "\n",
    "center = np.mean(dist, axis = 0)\n",
    "plt.scatter(-center[1], center[0], marker = '*')#, color = 'orange')\n",
    "print('center of dataset is %.2f, %.2f (x,y)' % (center[0], center[1]))\n",
    "plt.show()\n"
   ]
  },
  {
   "cell_type": "markdown",
   "metadata": {},
   "source": [
    "### make histogram"
   ]
  },
  {
   "cell_type": "code",
   "execution_count": 55,
   "metadata": {},
   "outputs": [
    {
     "data": {
      "text/plain": [
       "<Figure size 432x288 with 0 Axes>"
      ]
     },
     "metadata": {},
     "output_type": "display_data"
    }
   ],
   "source": [
    "#get the absolute distance\n",
    "distnorm = np.linalg.norm(dist, axis = 1)\n",
    "# bin the data\n",
    "#need to change to using numpy  hist\n",
    "counts, bin_edges, _ = plt.hist(distnorm, bins = np.arange(0, maxdist, binwidth))\n",
    "plt.clf()\n",
    "Nbins = bin_edges.shape[0] - 1\n",
    "bincenters = np.zeros(Nbins)\n",
    "for i in range(Nbins):\n",
    "    bincenters[i] = (bin_edges[i] + bin_edges[i + 1]) / 2"
   ]
  },
  {
   "cell_type": "markdown",
   "metadata": {},
   "source": [
    "### non-centered chi Fit"
   ]
  },
  {
   "cell_type": "code",
   "execution_count": 56,
   "metadata": {},
   "outputs": [
    {
     "data": {
      "image/png": "[encoded data removed]",
      "text/plain": [
       "<Figure size 432x288 with 1 Axes>"
      ]
     },
     "metadata": {
      "needs_background": "light"
     },
     "output_type": "display_data"
    },
    {
     "name": "stdout",
     "output_type": "stream",
     "text": [
      "[[Fit Statistics]]\n",
      "    # fitting method   = Nelder-Mead\n",
      "    # function evals   = 347\n",
      "    # data points      = 1\n",
      "    # variables        = 6\n",
      "    chi-square         = 8507.50574\n",
      "    reduced chi-square = 8507.50574\n",
      "    Akaike info crit   = 21.0487041\n",
      "    Bayesian info crit = 9.04870408\n",
      "##  Warning: uncertainties could not be estimated:\n",
      "    this fitting method does not natively calculate uncertainties\n",
      "    and numdifftools is not installed for lmfit to do this. Use\n",
      "    `pip install numdifftools` for lmfit to estimate uncertainties\n",
      "    with this fitting method.\n",
      "[[Variables]]\n",
      "    bg:    0 (fixed)\n",
      "    mu0:   17.5046877 (init = 16)\n",
      "    A0:    276.400979 (init = 100)\n",
      "    sig0:  3.62886684 (init = 3)\n",
      "    mu1:   0.13298581 (init = 0)\n",
      "    A1:    253.542283 (init = 426)\n",
      "    sig1:  13.5409541 (init = 15)\n",
      "AIC for custom fit is 196.47\n"
     ]
    }
   ],
   "source": [
    "# set your fit parameters here\n",
    "p = hfit.genPeakEst(2, counts, bincenters)\n",
    "p['bg'].set(vary = False, value = 0)\n",
    "p['mu0'].set(vary = True, value = 16)\n",
    "p['sig0'].set(vary = True, value = 3)\n",
    "p['A0'].set(vary = True, value = 100)\n",
    "p['mu1'].set(vary = True, value = 0)\n",
    "p['sig1'].set(vary = True, value = 15)\n",
    "p['A1'].set(vary = True, value = 426)\n",
    "#p['mu2'].set(vary = True, value = 82)\n",
    "#p['sig2'].set(vary = True, value = 5)\n",
    "fitres, AIC, *_ = hfit.fitDistr(p, hfit.NncChidistr, bincenters, counts)\n",
    "plt.figure(figsize = (6, 4))\n",
    "hfit.plotdistr(distnorm, bincenters, fit = fitres, title = 'noFRET cut', )\n",
    "                           #modelout = modelout, plotout = plotout)\n",
    "print(fit_report(fitres))\n",
    "print('AIC for custom fit is %.2f' % AIC)"
   ]
  },
  {
   "cell_type": "markdown",
   "metadata": {},
   "source": [
    "### Support plane"
   ]
  },
  {
   "cell_type": "code",
   "execution_count": 57,
   "metadata": {},
   "outputs": [
    {
     "data": {
      "image/png": "[encoded data removed]",
      "text/plain": [
       "<Figure size 432x288 with 3 Axes>"
      ]
     },
     "metadata": {
      "needs_background": "light"
     },
     "output_type": "display_data"
    }
   ],
   "source": [
    "#once you've created your support plane, you may re-load it.\n",
    "load = False\n",
    "#set the parameters you'd like to scan\n",
    "param_ranges={\"sig0\":np.arange(2.0,5.1,.2),\"mu0\":np.arange(14,19.1, .2)}\n",
    "#set these settings the same as your optimal fit\n",
    "p = hfit.genPeakEst(2, counts, bincenters)\n",
    "p['bg'].set(vary = False, value = 0)\n",
    "p['mu0'].set(vary = True, value = 16)\n",
    "p['sig0'].set(vary = True, value = 3)\n",
    "p['A0'].set(vary = True, value = 300)\n",
    "p['mu1'].set(vary = True, value = 10)\n",
    "p['sig1'].set(vary = True, value = 10)\n",
    "p['A1'].set(vary = True, value = 333)\n",
    "#p['mu2'].set(vary = True, value = 43)\n",
    "#p['sig2'].set(vary = True, value = 22)\n",
    "#p['A2'].set(vary = True, value = 212)\n",
    "\n",
    "surfaceout = os.path.join(resdir, fitIdentifier + 'surface.txt')\n",
    "if load:\n",
    "    surface = np.genfromtxt(surfaceout)\n",
    "else: \n",
    "    surface = hfit.scanLikelihoodSurface(param_ranges, p, bincenters, counts, verbose = False)\n",
    "    np.savetxt(surfaceout, surface)    \n",
    "\n",
    "outname = os.path.join(resdir, fitIdentifier + 'supportplane.png')\n",
    "hfit.plotLikelihoodSurface(surface, param_ranges, outname = outname, title = fitIdentifier, skip = 4,\n",
    "                        figsize = (6, 4), isplotpdf = True)"
   ]
  },
  {
   "cell_type": "markdown",
   "metadata": {},
   "source": [
    "# 7) high FRET distance analysis"
   ]
  },
  {
   "cell_type": "markdown",
   "metadata": {},
   "source": [
    "### settings and filter settings"
   ]
  },
  {
   "cell_type": "markdown",
   "metadata": {},
   "source": [
    "execute these functions in order to obtain your result"
   ]
  },
  {
   "cell_type": "code",
   "execution_count": 58,
   "metadata": {},
   "outputs": [],
   "source": [
    "# we want to isolate the high FRET species using these selection criteria\n",
    "# we want to include as many potential FRET pairs as possible, so we include partially labelled structures\n",
    "slocLst = df.selectSpotOccurence(locLst_an, [1, 2], [1, 2])\n",
    "# select based pseudo-efficiency or proximity FRET\n",
    "# note: start from 0.01 to exclude incomplete pairs\n",
    "slocLst = df.filterFRETind(slocLst, 'proxRatio', 0.55, 0.75)\n",
    "# select on the green fluorescent lifetime (ns)\n",
    "slocLst = df.filterFRETind(slocLst, 'tauG', 1, 3)\n",
    "# select only spots that have a minumum amount of photons\n",
    "slocLst = df.filterFRETind(slocLst, 'NG', 100, 1e8)\n",
    "slocLst = df.filterFRETind(slocLst, 'NY', 100, 1e8)\n",
    "\n",
    "# for exporting a sub-ensemble lifetime decay, we additionally \n",
    "# select on the localisation-based donor-acceptor distance\n",
    "tcspclocLst = df.filterFRETind(slocLst, 'dist', 0, 15)\n",
    "\n",
    "#set identifier, max distance and binwidth as before\n",
    "fitIdentifier = 'HFdist'\n",
    "maxdist = 40\n",
    "binwidth = 0.5"
   ]
  },
  {
   "cell_type": "markdown",
   "metadata": {},
   "source": [
    "### make scatter plot"
   ]
  },
  {
   "cell_type": "code",
   "execution_count": 59,
   "metadata": {},
   "outputs": [
    {
     "name": "stdout",
     "output_type": "stream",
     "text": [
      "P:\\STED-FRET\\Origamis\\data\\CLR_stats\n",
      "5.0 nm in x and 0.0 nm in y subtracted\n",
      "center of dataset is -0.43, -1.64 (x,y)\n"
     ]
    },
    {
     "data": {
      "image/png": "[encoded data removed]",
      "text/plain": [
       "<Figure size 432x432 with 1 Axes>"
      ]
     },
     "metadata": {
      "needs_background": "light"
     },
     "output_type": "display_data"
    }
   ],
   "source": [
    "TACout = os.path.join(resdir, identifier + '_HF_P+S_0.txt')\n",
    "df.subensembleTAC(tcspclocLst, outfile = TACout)\n",
    "\n",
    "#settings global to nc Chi fits\n",
    "mpl.rcParams['font.size'] = 12\n",
    "\n",
    "# plot the xy scatter data\n",
    "distx = df.getFRETind(slocLst, 'distx')\n",
    "disty = df.getFRETind(slocLst, 'disty')\n",
    "dist = np.array((distx, disty)).transpose()\n",
    "dist = df.filterVec(dist, maxval = maxdist, center = (5, 0))\n",
    "#dist = df.filterVec(dist, maxval = maxdist)\n",
    "\n",
    "plt.figure(figsize = (6,6))\n",
    "plt.scatter(-dist[:,1], dist[:,0])\n",
    "plt.xlim(-maxdist,maxdist)\n",
    "plt.ylim(-maxdist,maxdist)\n",
    "\n",
    "center = np.mean(dist, axis = 0)\n",
    "plt.scatter(-center[1], center[0], marker = '*')#, color = 'orange')\n",
    "print('center of dataset is %.2f, %.2f (x,y)' % (center[0], center[1]))\n",
    "plt.show()\n"
   ]
  },
  {
   "cell_type": "markdown",
   "metadata": {},
   "source": [
    "### make histogram"
   ]
  },
  {
   "cell_type": "code",
   "execution_count": 60,
   "metadata": {},
   "outputs": [
    {
     "data": {
      "text/plain": [
       "<Figure size 432x288 with 0 Axes>"
      ]
     },
     "metadata": {},
     "output_type": "display_data"
    }
   ],
   "source": [
    "#get the absolute distance\n",
    "distnorm = np.linalg.norm(dist, axis = 1)\n",
    "# bin the data\n",
    "#need to change to using numpy  hist\n",
    "counts, bin_edges, _ = plt.hist(distnorm, bins = np.arange(0, maxdist, binwidth))\n",
    "plt.clf()\n",
    "Nbins = bin_edges.shape[0] - 1\n",
    "bincenters = np.zeros(Nbins)\n",
    "for i in range(Nbins):\n",
    "    bincenters[i] = (bin_edges[i] + bin_edges[i + 1]) / 2"
   ]
  },
  {
   "cell_type": "markdown",
   "metadata": {},
   "source": [
    "### non-centered chi Fit"
   ]
  },
  {
   "cell_type": "code",
   "execution_count": 61,
   "metadata": {},
   "outputs": [
    {
     "data": {
      "image/png": "[encoded data removed]",
      "text/plain": [
       "<Figure size 432x288 with 1 Axes>"
      ]
     },
     "metadata": {
      "needs_background": "light"
     },
     "output_type": "display_data"
    },
    {
     "name": "stdout",
     "output_type": "stream",
     "text": [
      "[[Fit Statistics]]\n",
      "    # fitting method   = Nelder-Mead\n",
      "    # function evals   = 753\n",
      "    # data points      = 1\n",
      "    # variables        = 5\n",
      "    chi-square         = 20078.8941\n",
      "    reduced chi-square = 20078.8941\n",
      "    Akaike info crit   = 19.9074245\n",
      "    Bayesian info crit = 9.90742450\n",
      "##  Warning: uncertainties could not be estimated:\n",
      "    this fitting method does not natively calculate uncertainties\n",
      "    and numdifftools is not installed for lmfit to do this. Use\n",
      "    `pip install numdifftools` for lmfit to estimate uncertainties\n",
      "    with this fitting method.\n",
      "[[Variables]]\n",
      "    bg:    0 (fixed)\n",
      "    mu0:   6.15931427 (init = 6)\n",
      "    A0:    106.090652 (init = 100)\n",
      "    sig0:  3 (fixed)\n",
      "    mu1:   0.00276166 (init = 8)\n",
      "    A1:    78.3935093 (init = 100)\n",
      "    sig1:  9.25046722 (init = 8)\n",
      "AIC for custom fit is 293.40\n"
     ]
    }
   ],
   "source": [
    "# set your fit parameters here\n",
    "p = hfit.genPeakEst(2, counts, bincenters)\n",
    "p['bg'].set(vary = False, value = 0)\n",
    "p['mu0'].set(vary = True, value = 6)\n",
    "p['sig0'].set(vary = False, value = 3)\n",
    "p['A0'].set(vary = True, value = 100)\n",
    "p['mu1'].set(vary = True, value = 8)\n",
    "p['sig1'].set(vary = True, value = 8)\n",
    "p['A1'].set(vary = True, value = 100)\n",
    "fitres, AIC, *_ = hfit.fitDistr(p, hfit.NncChidistr, bincenters, counts)\n",
    "plt.figure(figsize = (6, 4))\n",
    "hfit.plotdistr(distnorm, bincenters, fit = fitres, title = 'noFRET cut', )\n",
    "                           #modelout = modelout, plotout = plotout)\n",
    "print(fit_report(fitres))\n",
    "print('AIC for custom fit is %.2f' % AIC)"
   ]
  },
  {
   "cell_type": "markdown",
   "metadata": {},
   "source": [
    "### Support plane"
   ]
  },
  {
   "cell_type": "code",
   "execution_count": 62,
   "metadata": {},
   "outputs": [
    {
     "name": "stderr",
     "output_type": "stream",
     "text": [
      "K:\\vanderVoortN\\FRC\\Code\\histogram_fitting.py:254: UserWarning: No contour levels were found within the data range.\n",
      "  CS = ax.contour(surface, levels = contourlevels, colors = 'r', linestyles = 'dashed', extent = [xmin, xmax, ymax, ymin])\n"
     ]
    },
    {
     "ename": "ValueError",
     "evalue": "attempt to get argmin of an empty sequence",
     "output_type": "error",
     "traceback": [
      "\u001b[1;31m---------------------------------------------------------------------------\u001b[0m",
      "\u001b[1;31mValueError\u001b[0m                                Traceback (most recent call last)",
      "\u001b[1;32m~\\AppData\\Local\\Temp/ipykernel_27680/2760306448.py\u001b[0m in \u001b[0;36m<module>\u001b[1;34m\u001b[0m\n\u001b[0;32m     22\u001b[0m \u001b[0moutname\u001b[0m \u001b[1;33m=\u001b[0m \u001b[0mos\u001b[0m\u001b[1;33m.\u001b[0m\u001b[0mpath\u001b[0m\u001b[1;33m.\u001b[0m\u001b[0mjoin\u001b[0m\u001b[1;33m(\u001b[0m\u001b[0mresdir\u001b[0m\u001b[1;33m,\u001b[0m \u001b[0mfitIdentifier\u001b[0m \u001b[1;33m+\u001b[0m \u001b[1;34m'supportplane.png'\u001b[0m\u001b[1;33m)\u001b[0m\u001b[1;33m\u001b[0m\u001b[1;33m\u001b[0m\u001b[0m\n\u001b[0;32m     23\u001b[0m hfit.plotLikelihoodSurface(surface, param_ranges, outname = outname, title = fitIdentifier, skip = 10,\n\u001b[1;32m---> 24\u001b[1;33m                         figsize = (6, 4), isplotpdf = True)\n\u001b[0m",
      "\u001b[1;32mK:\\vanderVoortN\\FRC\\Code\\histogram_fitting.py\u001b[0m in \u001b[0;36mplotLikelihoodSurface\u001b[1;34m(surface_copy, param_ranges, skip, outname, title, figsize, isplotpdf)\u001b[0m\n\u001b[0;32m    302\u001b[0m         \u001b[1;32mreturn\u001b[0m \u001b[0marray\u001b[0m\u001b[1;33m[\u001b[0m\u001b[0midx\u001b[0m\u001b[1;33m]\u001b[0m\u001b[1;33m,\u001b[0m \u001b[0midx\u001b[0m\u001b[1;33m\u001b[0m\u001b[1;33m\u001b[0m\u001b[0m\n\u001b[0;32m    303\u001b[0m \u001b[1;33m\u001b[0m\u001b[0m\n\u001b[1;32m--> 304\u001b[1;33m     \u001b[0mlborder\u001b[0m\u001b[1;33m,\u001b[0m \u001b[0mrborder\u001b[0m\u001b[1;33m,\u001b[0m \u001b[0mcenter\u001b[0m \u001b[1;33m=\u001b[0m \u001b[0mgetborder\u001b[0m\u001b[1;33m(\u001b[0m\u001b[0mpdf_x\u001b[0m\u001b[1;33m,\u001b[0m \u001b[0mparam_ranges\u001b[0m\u001b[1;33m[\u001b[0m\u001b[0mkeyx\u001b[0m\u001b[1;33m]\u001b[0m\u001b[1;33m[\u001b[0m\u001b[1;36m0\u001b[0m\u001b[1;33m]\u001b[0m\u001b[1;33m,\u001b[0m \u001b[0mdx\u001b[0m\u001b[1;33m)\u001b[0m\u001b[1;33m\u001b[0m\u001b[1;33m\u001b[0m\u001b[0m\n\u001b[0m\u001b[0;32m    305\u001b[0m     \u001b[1;31m#ax.plot([70, 80], [np.exp(-0.5), np.exp(-0.5)], 'y--',label = '1 \\u03C3')\u001b[0m\u001b[1;33m\u001b[0m\u001b[1;33m\u001b[0m\u001b[1;33m\u001b[0m\u001b[0m\n\u001b[0;32m    306\u001b[0m     \u001b[0max_x\u001b[0m\u001b[1;33m.\u001b[0m\u001b[0mplot\u001b[0m\u001b[1;33m(\u001b[0m \u001b[1;33m[\u001b[0m\u001b[0mlborder\u001b[0m\u001b[1;33m,\u001b[0m \u001b[0mlborder\u001b[0m\u001b[1;33m]\u001b[0m\u001b[1;33m,\u001b[0m \u001b[1;33m[\u001b[0m\u001b[0mnp\u001b[0m\u001b[1;33m.\u001b[0m\u001b[0mexp\u001b[0m\u001b[1;33m(\u001b[0m\u001b[1;33m-\u001b[0m\u001b[1;36m0.5\u001b[0m\u001b[1;33m)\u001b[0m\u001b[1;33m,\u001b[0m \u001b[1;36m0\u001b[0m\u001b[1;33m]\u001b[0m \u001b[1;33m,\u001b[0m \u001b[1;34m'r--'\u001b[0m\u001b[1;33m)\u001b[0m\u001b[1;33m\u001b[0m\u001b[1;33m\u001b[0m\u001b[0m\n",
      "\u001b[1;32mK:\\vanderVoortN\\FRC\\Code\\histogram_fitting.py\u001b[0m in \u001b[0;36mgetborder\u001b[1;34m(pdf, axoffset, step)\u001b[0m\n\u001b[0;32m    290\u001b[0m     \u001b[1;32mdef\u001b[0m \u001b[0mgetborder\u001b[0m\u001b[1;33m(\u001b[0m\u001b[0mpdf\u001b[0m\u001b[1;33m,\u001b[0m \u001b[0maxoffset\u001b[0m\u001b[1;33m,\u001b[0m \u001b[0mstep\u001b[0m\u001b[1;33m)\u001b[0m\u001b[1;33m:\u001b[0m\u001b[1;33m\u001b[0m\u001b[1;33m\u001b[0m\u001b[0m\n\u001b[0;32m    291\u001b[0m         \u001b[0m_\u001b[0m\u001b[1;33m,\u001b[0m \u001b[0mcidx\u001b[0m \u001b[1;33m=\u001b[0m \u001b[0maid\u001b[0m\u001b[1;33m.\u001b[0m\u001b[0mfind_nearest\u001b[0m\u001b[1;33m(\u001b[0m\u001b[0mpdf\u001b[0m\u001b[1;33m,\u001b[0m \u001b[1;36m1\u001b[0m\u001b[1;33m)\u001b[0m\u001b[1;33m\u001b[0m\u001b[1;33m\u001b[0m\u001b[0m\n\u001b[1;32m--> 292\u001b[1;33m         \u001b[0m_\u001b[0m\u001b[1;33m,\u001b[0m \u001b[0mlidx\u001b[0m \u001b[1;33m=\u001b[0m \u001b[0maid\u001b[0m\u001b[1;33m.\u001b[0m\u001b[0mfind_nearest\u001b[0m\u001b[1;33m(\u001b[0m\u001b[0mpdf\u001b[0m\u001b[1;33m[\u001b[0m\u001b[1;33m:\u001b[0m\u001b[0mcidx\u001b[0m\u001b[1;33m]\u001b[0m\u001b[1;33m,\u001b[0m \u001b[0mnp\u001b[0m\u001b[1;33m.\u001b[0m\u001b[0mexp\u001b[0m\u001b[1;33m(\u001b[0m\u001b[1;33m-\u001b[0m\u001b[1;36m0.5\u001b[0m\u001b[1;33m)\u001b[0m\u001b[1;33m)\u001b[0m\u001b[1;33m\u001b[0m\u001b[1;33m\u001b[0m\u001b[0m\n\u001b[0m\u001b[0;32m    293\u001b[0m         \u001b[0m_\u001b[0m\u001b[1;33m,\u001b[0m \u001b[0mridx\u001b[0m \u001b[1;33m=\u001b[0m \u001b[0maid\u001b[0m\u001b[1;33m.\u001b[0m\u001b[0mfind_nearest\u001b[0m\u001b[1;33m(\u001b[0m\u001b[0mpdf\u001b[0m\u001b[1;33m[\u001b[0m\u001b[0mcidx\u001b[0m\u001b[1;33m:\u001b[0m\u001b[1;33m]\u001b[0m\u001b[1;33m,\u001b[0m \u001b[0mnp\u001b[0m\u001b[1;33m.\u001b[0m\u001b[0mexp\u001b[0m\u001b[1;33m(\u001b[0m\u001b[1;33m-\u001b[0m\u001b[1;36m0.5\u001b[0m\u001b[1;33m)\u001b[0m\u001b[1;33m)\u001b[0m\u001b[1;33m\u001b[0m\u001b[1;33m\u001b[0m\u001b[0m\n\u001b[0;32m    294\u001b[0m         \u001b[0mridx\u001b[0m \u001b[1;33m+=\u001b[0m \u001b[0mcidx\u001b[0m\u001b[1;33m\u001b[0m\u001b[1;33m\u001b[0m\u001b[0m\n",
      "\u001b[1;32mK:\\vanderVoortN\\FRC\\Code\\aid_functions.py\u001b[0m in \u001b[0;36mfind_nearest\u001b[1;34m(array, value)\u001b[0m\n\u001b[0;32m    137\u001b[0m \u001b[1;32mdef\u001b[0m \u001b[0mfind_nearest\u001b[0m\u001b[1;33m(\u001b[0m\u001b[0marray\u001b[0m\u001b[1;33m,\u001b[0m \u001b[0mvalue\u001b[0m\u001b[1;33m)\u001b[0m\u001b[1;33m:\u001b[0m\u001b[1;33m\u001b[0m\u001b[1;33m\u001b[0m\u001b[0m\n\u001b[0;32m    138\u001b[0m     \u001b[0marray\u001b[0m \u001b[1;33m=\u001b[0m \u001b[0mnp\u001b[0m\u001b[1;33m.\u001b[0m\u001b[0masarray\u001b[0m\u001b[1;33m(\u001b[0m\u001b[0marray\u001b[0m\u001b[1;33m)\u001b[0m\u001b[1;33m\u001b[0m\u001b[1;33m\u001b[0m\u001b[0m\n\u001b[1;32m--> 139\u001b[1;33m     \u001b[0midx\u001b[0m \u001b[1;33m=\u001b[0m \u001b[1;33m(\u001b[0m\u001b[0mnp\u001b[0m\u001b[1;33m.\u001b[0m\u001b[0mabs\u001b[0m\u001b[1;33m(\u001b[0m\u001b[0marray\u001b[0m \u001b[1;33m-\u001b[0m \u001b[0mvalue\u001b[0m\u001b[1;33m)\u001b[0m\u001b[1;33m)\u001b[0m\u001b[1;33m.\u001b[0m\u001b[0margmin\u001b[0m\u001b[1;33m(\u001b[0m\u001b[1;33m)\u001b[0m\u001b[1;33m\u001b[0m\u001b[1;33m\u001b[0m\u001b[0m\n\u001b[0m\u001b[0;32m    140\u001b[0m     \u001b[1;32mreturn\u001b[0m \u001b[0marray\u001b[0m\u001b[1;33m[\u001b[0m\u001b[0midx\u001b[0m\u001b[1;33m]\u001b[0m\u001b[1;33m,\u001b[0m \u001b[0midx\u001b[0m\u001b[1;33m\u001b[0m\u001b[1;33m\u001b[0m\u001b[0m\n\u001b[0;32m    141\u001b[0m \u001b[1;33m\u001b[0m\u001b[0m\n",
      "\u001b[1;31mValueError\u001b[0m: attempt to get argmin of an empty sequence"
     ]
    },
    {
     "data": {
      "image/png": "[encoded data removed]",
      "text/plain": [
       "<Figure size 432x288 with 3 Axes>"
      ]
     },
     "metadata": {
      "needs_background": "light"
     },
     "output_type": "display_data"
    }
   ],
   "source": [
    "#once you've created your support plane, you may re-load it.\n",
    "load = True\n",
    "#set the parameters you'd like to scan\n",
    "param_ranges={\"sig0\":np.arange(3.0,8.1,.1),\"mu0\":np.arange(0,8.1, .1)}\n",
    "#set these settings the same as your optimal fit\n",
    "p = hfit.genPeakEst(2, counts, bincenters)\n",
    "p['bg'].set(vary = False, value = 0)\n",
    "p['mu0'].set(vary = True, value = 6)\n",
    "p['sig0'].set(vary = False, value = 3)\n",
    "p['A0'].set(vary = True, value = 100)\n",
    "p['mu1'].set(vary = True, value = 8)\n",
    "p['sig1'].set(vary = True, value = 8)\n",
    "p['A1'].set(vary = True, value = 100)\n",
    "\n",
    "surfaceout = os.path.join(resdir, fitIdentifier + 'surface.txt')\n",
    "if load:\n",
    "    surface = np.genfromtxt(surfaceout)\n",
    "else: \n",
    "    surface = hfit.scanLikelihoodSurface(param_ranges, p, bincenters, counts, verbose = False)\n",
    "    np.savetxt(surfaceout, surface)    \n",
    "\n",
    "outname = os.path.join(resdir, fitIdentifier + 'supportplane.png')\n",
    "hfit.plotLikelihoodSurface(surface, param_ranges, outname = outname, title = fitIdentifier, skip = 10,\n",
    "                        figsize = (6, 4), isplotpdf = True)"
   ]
  },
  {
   "cell_type": "markdown",
   "metadata": {},
   "source": [
    "# Particle Averaging"
   ]
  },
  {
   "cell_type": "markdown",
   "metadata": {},
   "source": [
    "### functions"
   ]
  },
  {
   "cell_type": "code",
   "execution_count": 23,
   "metadata": {},
   "outputs": [],
   "source": [
    "def getTwoPointAngle(point1, point2):\n",
    "    Dx, Dy = point2 - point1\n",
    "    return np.arctan2(Dy, Dx)\n",
    "def CoarseAlignPointset(EnsemblePointSet, showunflipped = False):\n",
    "    EnsemblePointSet.callBatchFun('RepositionToPoint', 'A1')\n",
    "    disp = EnsemblePointSet.calcAvgDisplacement(['D1', 'D2'], ['A1', 'A2'])\n",
    "    print(disp)\n",
    "    EnsemblePointSet.callBatchFun('applyChannelShift', ('D1', 'D2'), disp)\n",
    "    #EnsemblePointSet.callBatchFun('relabelOnFRETIndicator', 'proxRatio')\n",
    "\n",
    "    EnsemblePointSet.callBatchFun('calcAngle')\n",
    "    EnsemblePointSet.callBatchFun('rotate')\n",
    "    #EnsemblePointSet.callBatchFun('rotate', np.pi) #easier for my brain\n",
    "    if showunflipped:\n",
    "        fig = DADApointset.plotPointsets(xlim = (-20, 100))\n",
    "        plt.show()\n",
    "    for pointset in EnsemblePointSet.pointsets:\n",
    "        #if mean y coordinate < 0, flip the structure, y has index 1\n",
    "        isDonorBelowXaxis = pointset.points['D1'][1] + pointset.points['D2'][1] < 0 \n",
    "        if isDonorBelowXaxis:\n",
    "            pointset.mirror(mirrorAxis = 'horizontal')\n",
    "    if showunflipped:\n",
    "        fig = DADApointset.plotPointsets(xlim = (-20, 100))\n",
    "        plt.show()"
   ]
  },
  {
   "cell_type": "markdown",
   "metadata": {},
   "source": [
    "### settings"
   ]
  },
  {
   "cell_type": "code",
   "execution_count": 24,
   "metadata": {},
   "outputs": [],
   "source": [
    "#set the pixel size from your measurement\n",
    "pxSize = 10\n",
    "#set the structure no. which should serve as an anchor\n",
    "#see below for finding the best anchor\n",
    "anchorstruct = 329\n",
    "# set the cutoff from which deviation a molecular assembly is considered junk\n",
    "RMSDcut = 0.6 # in pixels\n",
    "#rotate the final structure for nice visualisation\n",
    "manualAngle = 0# in radians"
   ]
  },
  {
   "cell_type": "markdown",
   "metadata": {},
   "source": [
    "### Align all structures"
   ]
  },
  {
   "cell_type": "code",
   "execution_count": 27,
   "metadata": {
    "scrolled": false
   },
   "outputs": [
    {
     "name": "stdout",
     "output_type": "stream",
     "text": [
      "[ 0.53604156 -0.14620602]\n"
     ]
    },
    {
     "name": "stderr",
     "output_type": "stream",
     "text": [
      "K:\\vanderVoortN\\FRC\\Code\\AlignStructures.py:31: PendingDeprecationWarning: the matrix subclass is not the recommended way to represent matrices or deal with linear algebra (see https://docs.scipy.org/doc/numpy/user/numpy-for-matlab-users.html). Please adjust your code to use regular ndarray.\n",
      "  j = np.matrix([[c, s], [-s, c]])\n"
     ]
    },
    {
     "data": {
      "image/png": "[encoded data removed]",
      "text/plain": [
       "<Figure size 720x720 with 1 Axes>"
      ]
     },
     "metadata": {
      "needs_background": "light"
     },
     "output_type": "display_data"
    },
    {
     "name": "stdout",
     "output_type": "stream",
     "text": [
      "pruned 135 elements\n"
     ]
    },
    {
     "data": {
      "image/png": "[encoded data removed]",
      "text/plain": [
       "<Figure size 720x720 with 1 Axes>"
      ]
     },
     "metadata": {
      "needs_background": "light"
     },
     "output_type": "display_data"
    },
    {
     "data": {
      "image/png": "[encoded data removed]",
      "text/plain": [
       "<Figure size 720x720 with 1 Axes>"
      ]
     },
     "metadata": {
      "needs_background": "light"
     },
     "output_type": "display_data"
    }
   ],
   "source": [
    "\n",
    "DADAlocLst = df.selectSpotOccurence(locLst_an, [2], [2])\n",
    "DADApointset = AS.ensemblePointSet.fromlocLst(DADAlocLst, pxSize)\n",
    "\n",
    "CoarseAlignPointset(DADApointset, showunflipped = False)\n",
    "\n",
    "fig = DADApointset.plotPointsets(xlim = (-200, 200))\n",
    "plt.title('after coarse alignment')\n",
    "plt.show()\n",
    "#DADApointset.genAnchorFromModel()\n",
    "DADApointset.genAnchorFromPointset(anchorstruct)\n",
    "DADApointset.batchRmsd()\n",
    "allscores = np.array(DADApointset.scores)\n",
    "\n",
    "\n",
    "DADApointsetPruned = copy.deepcopy(DADApointset)\n",
    "pruneIDs = DADApointset.pruneByScore(RMSDcut)\n",
    "DADApointsetPruned.selectOnPointsetIDs(pruneIDs)\n",
    "DADApointset.genAnchorFromModel(H2H = 2.4)\n",
    "\n",
    "\n",
    "#set meanD1 to 0,0 and A2 to x axis for figure\n",
    "pointout = np.array(DADApointset.callBatchFun('getPoints'))\n",
    "meanD1, meanD2, meanA1, meanA2 = np.mean(pointout, axis = 0)\n",
    "meanA1A2Angle = getTwoPointAngle(meanA1, meanA2)\n",
    "\n",
    "#transfrom model\n",
    "anchorD1 = copy.deepcopy(DADApointset.anchor.points['D1'])\n",
    "DADApointset.anchor.applyChannelShift(['D1', 'D2', 'A1', 'A2'], anchorD1)\n",
    "modelA1A2Angle = getTwoPointAngle(DADApointset.anchor.points['A1'], DADApointset.anchor.points['A2'])\n",
    "DADApointset.anchor.rotate(angle = modelA1A2Angle - manualAngle)\n",
    "CMmodel = np.mean(np.array([x for x in DADApointset.anchor.points.values()]), axis = 0)\n",
    "\n",
    "#transfrom data\n",
    "DADApointset.callBatchFun('rotate', angle = meanA1A2Angle - manualAngle)\n",
    "DADApointset.callBatchFun('applyChannelShift', ['D1', 'D2', 'A1', 'A2'], -CMmodel)\n",
    "pointout = np.array(DADApointset.callBatchFun('getPoints'))\n",
    "meanpositions = np.mean(pointout, axis = 0)\n",
    "meanstds = np.std(pointout, axis = 0)\n",
    "\n",
    "#transform pruned data\n",
    "DADApointsetPruned.callBatchFun('applyChannelShift', ['D1', 'D2', 'A1', 'A2'], meanD1)\n",
    "DADApointsetPruned.callBatchFun('rotate', angle = meanA1A2Angle + manualAngle)\n",
    "\n",
    "\n",
    "#plot\n",
    "fig = DADApointset.plotPointsets(xlim = (-20, 100))\n",
    "plt.title('fine aligned, RMSD < %.1f nm' % (RMSDcut * pxSize))\n",
    "D1A1mean = np.linalg.norm(meanpositions[2] - meanpositions[0]) * pxSize\n",
    "D2A2mean = np.linalg.norm(meanpositions[3] - meanpositions[1]) * pxSize\n",
    "DDmean = np.linalg.norm(meanpositions[1] - meanpositions[0]) * pxSize\n",
    "AAmean = np.linalg.norm(meanpositions[3] - meanpositions[2]) * pxSize\n",
    "ax = fig.gca()\n",
    "ax.text(0,40,'High FRET $R_{mp}^{loc} = %.2f nm$' % D1A1mean, fontsize = 16)\n",
    "ax.text(0,33,'No FRET $R_{mp}^{loc} = %.2f nm$' % D2A2mean, fontsize = 16)\n",
    "ax.text(0,26,'Acceptor-Acceptor $R_{mp}^{loc} = %.2f nm$' % AAmean, fontsize = 16)\n",
    "ax.text(0,19,'Donor-Donor $R_{mp}^{loc} = %.2f nm$' % DDmean, fontsize = 16)\n",
    "DADApointsetPruned.plotPointsets(xlim = (-20, 100))\n",
    "plt.title('fine aligned, RMSD > %.1f nm' % (RMSDcut * pxSize))\n",
    "\n",
    "#save\n",
    "outdir = r'P:\\STED-FRET\\Origamis\\data\\aligned'\n",
    "ffile = os.path.join(outdir, 'positionsRMSDSmaller1.csv')\n",
    "DADApointset.savePointsetsToCsv(ffile)\n",
    "ffile = os.path.join(outdir, 'positionsRMSDGreater1.csv')\n",
    "DADApointsetPruned.savePointsetsToCsv(ffile)\n",
    "ffile = os.path.join(outdir, 'meanpositions.csv')\n",
    "np.savetxt(ffile, meanpositions)\n",
    "ffile = os.path.join(outdir, 'stderrofMeans.csv')\n",
    "np.savetxt(ffile, meanstds)"
   ]
  },
  {
   "cell_type": "markdown",
   "metadata": {},
   "source": [
    "### get the RMSD cutoff"
   ]
  },
  {
   "cell_type": "markdown",
   "metadata": {},
   "source": [
    "Plot a histogram of the RMSD scores.  \n",
    "The histogram can be used to set an optimal RMSD cutoff, \n",
    "balancing statistics for getting only the best samples.  "
   ]
  },
  {
   "cell_type": "code",
   "execution_count": 30,
   "metadata": {},
   "outputs": [
    {
     "data": {
      "image/png": "[encoded data removed]",
      "text/plain": [
       "<Figure size 288x216 with 1 Axes>"
      ]
     },
     "metadata": {
      "needs_background": "light"
     },
     "output_type": "display_data"
    },
    {
     "data": {
      "image/png": "[encoded data removed]",
      "text/plain": [
       "<Figure size 288x216 with 1 Axes>"
      ]
     },
     "metadata": {
      "needs_background": "light"
     },
     "output_type": "display_data"
    }
   ],
   "source": [
    "mpl.rcParams['font.size'] = 12\n",
    "pxSize = 10\n",
    "outdir = r'P:\\STED-FRET\\paper\\SI\\Supplementary Figure S9'\n",
    "\n",
    "outallscores = os.path.join(outdir, 'scores.txt')\n",
    "np.savetxt(outallscores,allscores, delimiter = ',')\n",
    "\n",
    "plt.figure(figsize = (4,3))\n",
    "plt.hist(np.array(allscores) * pxSize, bins = np.arange(0,200,10))\n",
    "plt.vlines(RMSDcut * pxSize, 0,500, 'r', ls = '--')\n",
    "plt.xlabel('RMSD score [nm]')\n",
    "plt.ylabel('occurences / 10nm')\n",
    "plt.title('overview')\n",
    "outname = os.path.join(outdir, 'RMSD_overview.png')\n",
    "plt.savefig(outname, dpi = 300, bbox_inches = 'tight')\n",
    "plt.show()\n",
    "\n",
    "plt.figure(figsize = (4,3))\n",
    "plt.hist(np.array(allscores) * pxSize, bins = np.arange(0,40,1))\n",
    "plt.vlines(RMSDcut * pxSize, 0,100, 'r', ls = '--')\n",
    "plt.xlabel('RMSD score [nm]')\n",
    "plt.ylabel('occurences / 1nm')\n",
    "plt.title('zoom')\n",
    "outname = os.path.join(outdir, 'RMSD_zoom.png')\n",
    "plt.savefig(outname, dpi = 300, bbox_inches = 'tight')\n",
    "plt.show()"
   ]
  },
  {
   "cell_type": "markdown",
   "metadata": {},
   "source": [
    "### Select the best anchor"
   ]
  },
  {
   "cell_type": "markdown",
   "metadata": {},
   "source": [
    "When an apriori model is not known, we can use one of the measurements as an anchor for aligning all structures to.\n",
    "This has as an additional advantage that we don't insert our own assumptions in the interpretation of the data.  \n",
    "To find the best anchor, all structures are considered as a model. Then all structures are aligned to this anchor. The anchor with the lowest average RMSD can then be used for the final analyis.  \n",
    "Some constructs are really junk data, to prevent them heavily affecting the average RMSD, they are removed if RMSD is larger than *minscore*.  \n",
    "To qualify as an anchor, at least *minconstructs* must have an RMSD lower than *minscore*. This is done to filter junk anchors.  \n",
    "This is an nxn operation and can take some time.."
   ]
  },
  {
   "cell_type": "code",
   "execution_count": 31,
   "metadata": {},
   "outputs": [],
   "source": [
    "#settings\n",
    "minscore = RMSDcut\n",
    "minconstructs = 50"
   ]
  },
  {
   "cell_type": "code",
   "execution_count": 33,
   "metadata": {
    "scrolled": true
   },
   "outputs": [
    {
     "name": "stdout",
     "output_type": "stream",
     "text": [
      "[ 0.53604156 -0.14620602]\n",
      "pruned 520 elements\n",
      "pruned 333 elements\n",
      "pruned 205 elements\n",
      "pruned 543 elements\n",
      "pruned 195 elements\n",
      "pruned 303 elements\n",
      "pruned 275 elements\n",
      "pruned 201 elements\n",
      "pruned 131 elements\n",
      "pruned 215 elements\n",
      "pruned 150 elements\n",
      "pruned 553 elements\n",
      "pruned 208 elements\n",
      "pruned 254 elements\n",
      "pruned 196 elements\n",
      "pruned 313 elements\n",
      "pruned 229 elements\n",
      "pruned 280 elements\n",
      "pruned 359 elements\n",
      "pruned 166 elements\n",
      "pruned 565 elements\n",
      "pruned 293 elements\n",
      "pruned 290 elements\n",
      "pruned 189 elements\n",
      "pruned 156 elements\n",
      "pruned 161 elements\n",
      "pruned 557 elements\n",
      "pruned 386 elements\n",
      "pruned 459 elements\n",
      "pruned 402 elements\n",
      "pruned 175 elements\n",
      "pruned 499 elements\n",
      "pruned 420 elements\n",
      "pruned 185 elements\n",
      "pruned 211 elements\n",
      "pruned 305 elements\n",
      "pruned 264 elements\n",
      "pruned 525 elements\n",
      "pruned 262 elements\n",
      "pruned 254 elements\n",
      "pruned 343 elements\n",
      "pruned 221 elements\n",
      "pruned 158 elements\n",
      "pruned 399 elements\n",
      "pruned 193 elements\n",
      "pruned 166 elements\n",
      "pruned 532 elements\n",
      "pruned 196 elements\n",
      "pruned 235 elements\n",
      "pruned 178 elements\n",
      "pruned 226 elements\n",
      "pruned 335 elements\n",
      "pruned 566 elements\n",
      "pruned 144 elements\n",
      "pruned 230 elements\n",
      "pruned 503 elements\n",
      "pruned 566 elements\n",
      "pruned 284 elements\n",
      "pruned 368 elements\n",
      "pruned 235 elements\n",
      "pruned 200 elements\n",
      "pruned 356 elements\n",
      "pruned 566 elements\n",
      "pruned 226 elements\n",
      "pruned 289 elements\n",
      "pruned 336 elements\n",
      "pruned 306 elements\n",
      "pruned 386 elements\n",
      "pruned 430 elements\n",
      "pruned 464 elements\n",
      "pruned 320 elements\n",
      "pruned 242 elements\n",
      "pruned 189 elements\n",
      "pruned 197 elements\n",
      "pruned 384 elements\n",
      "pruned 294 elements\n",
      "pruned 200 elements\n",
      "pruned 566 elements\n",
      "pruned 491 elements\n",
      "pruned 326 elements\n",
      "pruned 542 elements\n",
      "pruned 159 elements\n",
      "pruned 478 elements\n",
      "pruned 377 elements\n",
      "pruned 201 elements\n",
      "pruned 267 elements\n",
      "pruned 192 elements\n",
      "pruned 380 elements\n",
      "pruned 519 elements\n",
      "pruned 147 elements\n",
      "pruned 275 elements\n",
      "pruned 412 elements\n",
      "pruned 152 elements\n",
      "pruned 152 elements\n",
      "pruned 534 elements\n",
      "pruned 257 elements\n",
      "pruned 538 elements\n",
      "pruned 296 elements\n",
      "pruned 396 elements\n",
      "pruned 444 elements\n",
      "pruned 520 elements\n",
      "pruned 166 elements\n",
      "pruned 172 elements\n",
      "pruned 566 elements\n",
      "pruned 195 elements\n",
      "pruned 211 elements\n",
      "pruned 196 elements\n",
      "pruned 346 elements\n",
      "pruned 184 elements\n",
      "pruned 298 elements\n",
      "pruned 551 elements\n",
      "pruned 498 elements\n",
      "pruned 162 elements\n",
      "pruned 539 elements\n",
      "pruned 557 elements\n",
      "pruned 224 elements\n",
      "pruned 392 elements\n",
      "pruned 201 elements\n",
      "pruned 363 elements\n",
      "pruned 566 elements\n",
      "pruned 349 elements\n",
      "pruned 141 elements\n",
      "pruned 219 elements\n",
      "pruned 239 elements\n",
      "pruned 186 elements\n",
      "pruned 343 elements\n",
      "pruned 168 elements\n",
      "pruned 149 elements\n",
      "pruned 378 elements\n",
      "pruned 408 elements\n",
      "pruned 307 elements\n",
      "pruned 212 elements\n",
      "pruned 254 elements\n",
      "pruned 566 elements\n",
      "pruned 300 elements\n",
      "pruned 292 elements\n",
      "pruned 184 elements\n",
      "pruned 298 elements\n",
      "pruned 207 elements\n",
      "pruned 511 elements\n",
      "pruned 463 elements\n",
      "pruned 317 elements\n",
      "pruned 512 elements\n",
      "pruned 388 elements\n",
      "pruned 428 elements\n",
      "pruned 161 elements\n",
      "pruned 132 elements\n",
      "pruned 312 elements\n",
      "pruned 167 elements\n",
      "pruned 566 elements\n",
      "pruned 283 elements\n",
      "pruned 152 elements\n",
      "pruned 210 elements\n",
      "pruned 193 elements\n",
      "pruned 427 elements\n",
      "pruned 208 elements\n",
      "pruned 286 elements\n",
      "pruned 218 elements\n",
      "pruned 188 elements\n",
      "pruned 353 elements\n",
      "pruned 157 elements\n",
      "pruned 238 elements\n",
      "pruned 566 elements\n",
      "pruned 427 elements\n",
      "pruned 168 elements\n",
      "pruned 563 elements\n",
      "pruned 353 elements\n",
      "pruned 474 elements\n",
      "pruned 229 elements\n",
      "pruned 531 elements\n",
      "pruned 179 elements\n",
      "pruned 200 elements\n",
      "pruned 179 elements\n",
      "pruned 140 elements\n",
      "pruned 304 elements\n",
      "pruned 467 elements\n",
      "pruned 550 elements\n",
      "pruned 434 elements\n",
      "pruned 500 elements\n",
      "pruned 237 elements\n",
      "pruned 238 elements\n",
      "pruned 315 elements\n",
      "pruned 274 elements\n",
      "pruned 216 elements\n",
      "pruned 458 elements\n",
      "pruned 252 elements\n",
      "pruned 212 elements\n",
      "pruned 209 elements\n",
      "pruned 412 elements\n",
      "pruned 376 elements\n",
      "pruned 401 elements\n",
      "pruned 191 elements\n",
      "pruned 445 elements\n",
      "pruned 555 elements\n",
      "pruned 260 elements\n",
      "pruned 245 elements\n",
      "pruned 149 elements\n",
      "pruned 166 elements\n",
      "pruned 197 elements\n",
      "pruned 332 elements\n",
      "pruned 203 elements\n",
      "pruned 166 elements\n",
      "pruned 188 elements\n",
      "pruned 186 elements\n",
      "pruned 497 elements\n",
      "pruned 379 elements\n",
      "pruned 181 elements\n",
      "pruned 408 elements\n",
      "pruned 168 elements\n",
      "pruned 317 elements\n",
      "pruned 238 elements\n",
      "pruned 271 elements\n",
      "pruned 355 elements\n",
      "pruned 559 elements\n",
      "pruned 311 elements\n",
      "pruned 548 elements\n",
      "pruned 566 elements\n",
      "pruned 206 elements\n",
      "pruned 378 elements\n",
      "pruned 565 elements\n",
      "pruned 278 elements\n",
      "pruned 258 elements\n",
      "pruned 211 elements\n",
      "pruned 182 elements\n",
      "pruned 206 elements\n",
      "pruned 374 elements\n",
      "pruned 236 elements\n",
      "pruned 218 elements\n",
      "pruned 411 elements\n",
      "pruned 251 elements\n",
      "pruned 172 elements\n",
      "pruned 389 elements\n",
      "pruned 309 elements\n",
      "pruned 187 elements\n",
      "pruned 566 elements\n",
      "pruned 254 elements\n",
      "pruned 219 elements\n",
      "pruned 263 elements\n",
      "pruned 308 elements\n",
      "pruned 330 elements\n",
      "pruned 565 elements\n",
      "pruned 278 elements\n",
      "pruned 163 elements\n",
      "pruned 362 elements\n",
      "pruned 220 elements\n",
      "pruned 486 elements\n",
      "pruned 234 elements\n",
      "pruned 215 elements\n",
      "pruned 158 elements\n",
      "pruned 346 elements\n",
      "pruned 287 elements\n",
      "pruned 188 elements\n",
      "pruned 309 elements\n",
      "pruned 180 elements\n",
      "pruned 209 elements\n",
      "pruned 171 elements\n",
      "pruned 142 elements\n",
      "pruned 487 elements\n",
      "pruned 251 elements\n",
      "pruned 191 elements\n",
      "pruned 165 elements\n",
      "pruned 177 elements\n",
      "pruned 192 elements\n",
      "pruned 152 elements\n",
      "pruned 198 elements\n",
      "pruned 211 elements\n",
      "pruned 534 elements\n",
      "pruned 389 elements\n",
      "pruned 272 elements\n",
      "pruned 476 elements\n",
      "pruned 511 elements\n",
      "pruned 563 elements\n",
      "pruned 315 elements\n",
      "pruned 497 elements\n",
      "pruned 176 elements\n",
      "pruned 279 elements\n",
      "pruned 176 elements\n",
      "pruned 446 elements\n",
      "pruned 286 elements\n",
      "pruned 201 elements\n",
      "pruned 231 elements\n",
      "pruned 169 elements\n",
      "pruned 208 elements\n",
      "pruned 203 elements\n",
      "pruned 373 elements\n",
      "pruned 195 elements\n",
      "pruned 306 elements\n",
      "pruned 207 elements\n",
      "pruned 189 elements\n",
      "pruned 286 elements\n",
      "pruned 176 elements\n",
      "pruned 211 elements\n",
      "pruned 458 elements\n",
      "pruned 260 elements\n",
      "pruned 200 elements\n",
      "pruned 222 elements\n",
      "pruned 201 elements\n",
      "pruned 314 elements\n",
      "pruned 566 elements\n",
      "pruned 220 elements\n",
      "pruned 187 elements\n",
      "pruned 334 elements\n",
      "pruned 187 elements\n",
      "pruned 237 elements\n",
      "pruned 265 elements\n",
      "pruned 281 elements\n",
      "pruned 401 elements\n",
      "pruned 167 elements\n",
      "pruned 179 elements\n",
      "pruned 185 elements\n",
      "pruned 271 elements\n",
      "pruned 474 elements\n",
      "pruned 266 elements\n",
      "pruned 171 elements\n",
      "pruned 561 elements\n",
      "pruned 532 elements\n",
      "pruned 298 elements\n",
      "pruned 200 elements\n",
      "pruned 545 elements\n",
      "pruned 163 elements\n",
      "pruned 522 elements\n",
      "pruned 562 elements\n",
      "pruned 277 elements\n",
      "pruned 183 elements\n",
      "pruned 233 elements\n",
      "pruned 563 elements\n",
      "pruned 520 elements\n",
      "pruned 239 elements\n",
      "pruned 183 elements\n",
      "pruned 135 elements\n",
      "pruned 217 elements\n",
      "pruned 152 elements\n",
      "pruned 247 elements\n",
      "pruned 180 elements\n",
      "pruned 181 elements\n",
      "pruned 439 elements\n",
      "pruned 261 elements\n",
      "pruned 200 elements\n",
      "pruned 262 elements\n",
      "pruned 363 elements\n",
      "pruned 149 elements\n",
      "pruned 376 elements\n",
      "pruned 333 elements\n",
      "pruned 397 elements\n",
      "pruned 373 elements\n",
      "pruned 566 elements\n",
      "pruned 507 elements\n",
      "pruned 333 elements\n",
      "pruned 150 elements\n",
      "pruned 280 elements\n",
      "pruned 186 elements\n",
      "pruned 384 elements\n",
      "pruned 366 elements\n",
      "pruned 213 elements\n",
      "pruned 558 elements\n",
      "pruned 248 elements\n",
      "pruned 362 elements\n",
      "pruned 194 elements\n",
      "pruned 566 elements\n",
      "pruned 184 elements\n",
      "pruned 160 elements\n",
      "pruned 505 elements\n",
      "pruned 233 elements\n",
      "pruned 217 elements\n",
      "pruned 289 elements\n",
      "pruned 566 elements\n",
      "pruned 441 elements\n",
      "pruned 381 elements\n",
      "pruned 296 elements\n",
      "pruned 235 elements\n",
      "pruned 390 elements\n",
      "pruned 554 elements\n",
      "pruned 349 elements\n",
      "pruned 275 elements\n",
      "pruned 177 elements\n",
      "pruned 169 elements\n",
      "pruned 308 elements\n",
      "pruned 153 elements\n",
      "pruned 387 elements\n",
      "pruned 195 elements\n",
      "pruned 244 elements\n",
      "pruned 510 elements\n",
      "pruned 256 elements\n",
      "pruned 169 elements\n",
      "pruned 195 elements\n",
      "pruned 145 elements\n",
      "pruned 214 elements\n",
      "pruned 464 elements\n",
      "pruned 304 elements\n",
      "pruned 320 elements\n",
      "pruned 504 elements\n",
      "pruned 566 elements\n",
      "pruned 262 elements\n",
      "pruned 536 elements\n",
      "pruned 264 elements\n",
      "pruned 395 elements\n",
      "pruned 140 elements\n",
      "pruned 552 elements\n",
      "pruned 219 elements\n",
      "pruned 401 elements\n",
      "pruned 493 elements\n",
      "pruned 151 elements\n",
      "pruned 547 elements\n",
      "pruned 242 elements\n",
      "pruned 271 elements\n",
      "pruned 508 elements\n",
      "pruned 166 elements\n",
      "pruned 159 elements\n",
      "pruned 258 elements\n",
      "pruned 521 elements\n",
      "pruned 516 elements\n"
     ]
    },
    {
     "name": "stdout",
     "output_type": "stream",
     "text": [
      "pruned 352 elements\n",
      "pruned 128 elements\n",
      "pruned 277 elements\n",
      "pruned 478 elements\n",
      "pruned 364 elements\n",
      "pruned 396 elements\n",
      "pruned 209 elements\n",
      "pruned 463 elements\n",
      "pruned 295 elements\n",
      "pruned 200 elements\n",
      "pruned 546 elements\n",
      "pruned 529 elements\n",
      "pruned 451 elements\n",
      "pruned 239 elements\n",
      "pruned 260 elements\n",
      "pruned 522 elements\n",
      "pruned 266 elements\n",
      "pruned 334 elements\n",
      "pruned 158 elements\n",
      "pruned 406 elements\n",
      "pruned 565 elements\n",
      "pruned 177 elements\n",
      "pruned 312 elements\n",
      "pruned 368 elements\n",
      "pruned 212 elements\n",
      "pruned 236 elements\n",
      "pruned 182 elements\n",
      "pruned 348 elements\n",
      "pruned 372 elements\n",
      "pruned 376 elements\n",
      "pruned 301 elements\n",
      "pruned 179 elements\n",
      "pruned 179 elements\n",
      "pruned 201 elements\n",
      "pruned 341 elements\n",
      "pruned 247 elements\n",
      "pruned 201 elements\n",
      "pruned 250 elements\n",
      "pruned 154 elements\n",
      "pruned 181 elements\n",
      "pruned 541 elements\n",
      "pruned 186 elements\n",
      "pruned 537 elements\n",
      "pruned 154 elements\n",
      "pruned 371 elements\n",
      "pruned 347 elements\n",
      "pruned 196 elements\n",
      "pruned 448 elements\n",
      "pruned 176 elements\n",
      "pruned 200 elements\n",
      "pruned 291 elements\n",
      "pruned 542 elements\n",
      "pruned 451 elements\n",
      "pruned 331 elements\n",
      "pruned 151 elements\n",
      "pruned 391 elements\n",
      "pruned 513 elements\n",
      "pruned 472 elements\n",
      "pruned 555 elements\n",
      "pruned 179 elements\n",
      "pruned 566 elements\n",
      "pruned 163 elements\n",
      "pruned 566 elements\n",
      "pruned 528 elements\n",
      "pruned 470 elements\n",
      "pruned 214 elements\n",
      "pruned 181 elements\n",
      "pruned 174 elements\n",
      "pruned 537 elements\n",
      "pruned 249 elements\n",
      "pruned 258 elements\n",
      "pruned 179 elements\n",
      "pruned 523 elements\n",
      "pruned 525 elements\n",
      "pruned 532 elements\n",
      "pruned 284 elements\n",
      "pruned 180 elements\n",
      "pruned 548 elements\n",
      "pruned 189 elements\n",
      "pruned 160 elements\n",
      "pruned 560 elements\n",
      "pruned 192 elements\n",
      "pruned 253 elements\n",
      "pruned 185 elements\n",
      "pruned 343 elements\n",
      "pruned 368 elements\n",
      "pruned 283 elements\n",
      "pruned 154 elements\n",
      "pruned 199 elements\n",
      "pruned 179 elements\n",
      "pruned 528 elements\n",
      "pruned 509 elements\n",
      "pruned 306 elements\n",
      "pruned 262 elements\n",
      "pruned 246 elements\n",
      "pruned 566 elements\n",
      "pruned 241 elements\n",
      "pruned 151 elements\n",
      "pruned 249 elements\n",
      "pruned 376 elements\n",
      "pruned 558 elements\n",
      "pruned 138 elements\n",
      "pruned 227 elements\n",
      "pruned 409 elements\n",
      "pruned 182 elements\n",
      "pruned 159 elements\n",
      "pruned 441 elements\n",
      "pruned 211 elements\n",
      "pruned 155 elements\n",
      "pruned 394 elements\n",
      "pruned 246 elements\n",
      "pruned 235 elements\n",
      "pruned 201 elements\n",
      "pruned 153 elements\n",
      "pruned 250 elements\n",
      "pruned 187 elements\n",
      "pruned 165 elements\n",
      "pruned 301 elements\n",
      "pruned 369 elements\n",
      "pruned 279 elements\n",
      "pruned 359 elements\n",
      "pruned 201 elements\n",
      "pruned 369 elements\n",
      "pruned 565 elements\n",
      "pruned 183 elements\n",
      "pruned 562 elements\n",
      "pruned 432 elements\n",
      "pruned 243 elements\n",
      "pruned 443 elements\n",
      "pruned 375 elements\n",
      "pruned 258 elements\n",
      "pruned 566 elements\n",
      "pruned 141 elements\n",
      "pruned 177 elements\n",
      "pruned 231 elements\n",
      "pruned 223 elements\n",
      "pruned 196 elements\n",
      "pruned 494 elements\n",
      "pruned 531 elements\n",
      "pruned 276 elements\n",
      "pruned 380 elements\n",
      "pruned 264 elements\n",
      "pruned 396 elements\n",
      "pruned 221 elements\n",
      "pruned 264 elements\n",
      "pruned 219 elements\n",
      "pruned 234 elements\n",
      "pruned 213 elements\n",
      "pruned 566 elements\n",
      "pruned 166 elements\n",
      "pruned 229 elements\n",
      "pruned 196 elements\n",
      "pruned 488 elements\n",
      "pruned 201 elements\n",
      "pruned 238 elements\n",
      "pruned 174 elements\n",
      "pointset with the lowest overall RMSD is 24\n"
     ]
    },
    {
     "data": {
      "image/png": "[encoded data removed]",
      "text/plain": [
       "<Figure size 432x288 with 1 Axes>"
      ]
     },
     "metadata": {
      "needs_background": "light"
     },
     "output_type": "display_data"
    }
   ],
   "source": [
    "#leave as-is\n",
    "DADAlocLst = df.selectSpotOccurence(locLst_an, [2], [2])\n",
    "DADApointset = AS.ensemblePointSet.fromlocLst(DADAlocLst, pxSize)\n",
    "CoarseAlignPointset(DADApointset)\n",
    "\n",
    "allScores = []\n",
    "for i in range (len(DADApointset.pointsets)):\n",
    "    DADApointset_cp = copy.deepcopy(DADApointset)\n",
    "    DADApointset_cp.genAnchorFromPointset(i)\n",
    "    DADApointset_cp.batchRmsd()\n",
    "    DADApointset_cp.pruneByScore(minscore)\n",
    "    #DADApointset_cp.plotPointsets()\n",
    "    if len(DADApointset_cp.scores) > minconstructs:\n",
    "        allScores.append(np.mean(DADApointset_cp.scores))\n",
    "    else: allScores.append(1e5)\n",
    "_ = plt.hist(allScores, range = (0,10), bins = 100)\n",
    "plt.title('Mean RMSD for each pointset as anchor')\n",
    "plt.ylabel('occurence')\n",
    "plt.xlabel('total RMSD')\n",
    "print('pointset with the lowest overall RMSD is %i' % np.argmin(allScores))"
   ]
  },
  {
   "cell_type": "markdown",
   "metadata": {},
   "source": [
    "# Ancillary functions"
   ]
  },
  {
   "cell_type": "markdown",
   "metadata": {},
   "source": [
    "### Rich spot stoichiometry"
   ]
  },
  {
   "cell_type": "code",
   "execution_count": 38,
   "metadata": {},
   "outputs": [],
   "source": [
    "#mdify function for pretty plot\n",
    "from matplotlib import patches\n",
    "\n",
    "def plotOccurence(locLst, title = '', outname = None):\n",
    "    \"\"\"plots a 2D histogram of how many spots have been fitted\n",
    "    in the Green and red channel.\n",
    "    Takes as argument a spotLst Lst\"\"\"\n",
    "    Gspots, Yspots = df.genOccurrence(locLst)\n",
    "    #find max occurence\n",
    "    #Gmax = max(Gspots) + 1#+1 to store zero entries\n",
    "    #Ymax = max(Yspots) + 1\n",
    "    Gmax = 4\n",
    "    Ymax = 4\n",
    "    occurence = np.zeros([Gmax,Ymax], int)\n",
    "    for Gspot, Yspot in zip(Gspots, Yspots):\n",
    "        try:\n",
    "            occurence[Gspot, Yspot] += 1\n",
    "        except:\n",
    "            pass\n",
    "    plt.figure(figsize = [6,6])\n",
    "    x, y = np.meshgrid(np.arange(Gmax),np.arange(Ymax))\n",
    "    plt.scatter(x,y, s = occurence.T)\n",
    "    for x in range(Gmax):\n",
    "        for y in range(Ymax):\n",
    "            plt.annotate(occurence[x,y], (x+0.2, y))\n",
    "    \n",
    "    ax = plt.gca()\n",
    "    border = 0.4\n",
    "    ax.add_patch(patches.Rectangle((1-border,-border), 2 + 2*border, 2*border, color = 'g', fill = False\n",
    "                                  , linewidth = '2'))\n",
    "    ax.add_patch(patches.Rectangle((-1*border,1-border), 2.5*border, 2 + 2*border, color = 'r', fill = False\n",
    "                                  , linewidth = '2'))\n",
    "    ax.add_patch(patches.Rectangle((2-0.5*border,2-border), 2*border, 2*border, color = 'k', fill = False\n",
    "                                  , linewidth = '2'))\n",
    "    ax.set_xticks(np.arange(Ymax))\n",
    "    ax.set_yticks(np.arange(Gmax))\n",
    "    plt.xlim(-0.5,3.5)\n",
    "    plt.ylim(-0.5,3.5)\n",
    "    plt.xlabel ('# donor spots identified')\n",
    "    plt.ylabel ('# acceptor spots identified')\n",
    "    plt.title(title)\n",
    "    if outname:\n",
    "        plt.savefig(outname, bbox_inches = 'tight', dpi = 300)\n",
    "    plt.show()\n",
    "    return occurence"
   ]
  },
  {
   "cell_type": "code",
   "execution_count": 39,
   "metadata": {
    "scrolled": true
   },
   "outputs": [
    {
     "data": {
      "image/png": "[encoded data removed]",
      "text/plain": [
       "<Figure size 432x432 with 1 Axes>"
      ]
     },
     "metadata": {
      "needs_background": "light"
     },
     "output_type": "display_data"
    },
    {
     "data": {
      "text/plain": [
       "array([[ 40,  64, 118,   9],\n",
       "       [ 41, 173, 486,  34],\n",
       "       [ 56, 203, 567,  46],\n",
       "       [  6,  26,  64,  12]])"
      ]
     },
     "execution_count": 39,
     "metadata": {},
     "output_type": "execute_result"
    }
   ],
   "source": [
    "from matplotlib import rc\n",
    "font = {'size'   : 16}\n",
    "rc('font', **font)\n",
    "outname = os.path.join(resdir, 'OrigamiStoichiometry_pretty.png')\n",
    "plotOccurence(locLst, outname = outname)\n"
   ]
  },
  {
   "cell_type": "markdown",
   "metadata": {},
   "source": [
    "### export $D_0$ and $A_{only}$ populations"
   ]
  },
  {
   "cell_type": "code",
   "execution_count": 41,
   "metadata": {
    "scrolled": true
   },
   "outputs": [
    {
     "data": {
      "text/plain": [
       "array([[ 295,  561,  969],\n",
       "       [ 176,  110,  452],\n",
       "       [   8,   98, 1404],\n",
       "       [  15,   27,  185],\n",
       "       [   4,   11,  133],\n",
       "       [ 160,  357,  736],\n",
       "       [ 112,  157, 1259],\n",
       "       [ 175,  201,  263],\n",
       "       [ 356,  163,   76],\n",
       "       [   9,   37,  247],\n",
       "       [ 329,  650, 1180],\n",
       "       [  15,   83, 1079],\n",
       "       [  14,  138, 1295],\n",
       "       [ 340,  208,  876],\n",
       "       [   6,   55,  728],\n",
       "       [ 143,  632, 1321],\n",
       "       [  81,  188,  475],\n",
       "       [   9,   87, 1050],\n",
       "       [   5,   86, 1092],\n",
       "       [   7,   75,  849],\n",
       "       [  71,   64,  168],\n",
       "       [   8,   18,  187],\n",
       "       [  26,   51,  385],\n",
       "       [ 217,  175,  192],\n",
       "       [   7,   68, 1001],\n",
       "       [  37,  587, 1002],\n",
       "       [ 678,  577,  271],\n",
       "       [  23,   56,  221],\n",
       "       [  33,   32,   80],\n",
       "       [ 597,  270,  323],\n",
       "       [ 305,  137,  184],\n",
       "       [  10,   45,  412],\n",
       "       [  26,   76,  743],\n",
       "       [ 656,  356,  449],\n",
       "       [  25,  151, 1123],\n",
       "       [ 293,  934, 1435],\n",
       "       [  12,   16,   77],\n",
       "       [   8,   96, 1048],\n",
       "       [  10,   62,  932],\n",
       "       [  88,   79,  398],\n",
       "       [   8,   15,  108],\n",
       "       [1093,  448,  760],\n",
       "       [   7,   46,  709],\n",
       "       [ 196,  138,   98],\n",
       "       [   9,   21,  173],\n",
       "       [   4,   19,  278],\n",
       "       [ 484,  291,  132],\n",
       "       [  10,   76,  800],\n",
       "       [ 149,  517,  999],\n",
       "       [ 131,   99,   59],\n",
       "       [  48,  418, 1032],\n",
       "       [  62,  439, 1155],\n",
       "       [ 161,   74,  100],\n",
       "       [ 330,  596, 1767],\n",
       "       [ 255,  675, 1173],\n",
       "       [  13,   23,   74],\n",
       "       [ 301,  159,   74],\n",
       "       [  23,   38,  260],\n",
       "       [ 131,  318,  656],\n",
       "       [ 164,  139,  687],\n",
       "       [  79,  182,  949],\n",
       "       [  11,   84,  983],\n",
       "       [ 177,  414, 1081],\n",
       "       [ 105,  317,  644]])"
      ]
     },
     "execution_count": 41,
     "metadata": {},
     "output_type": "execute_result"
    }
   ],
   "source": [
    "outfile = os.path.join(resdir, 'D0', 'STEDCLRD0.pg4')\n",
    "CLRD0 = df.selectSpotOccurence(locLst, [1], [0])\n",
    "df.GetfixedlocBrightness(CLRD0, loccolor = 'G', outpath = outfile)\n",
    "resdir = r'P:\\STED-FRET\\Origamis\\data\\CLR_stats'\n",
    "outfile = os.path.join(resdir, 'Aonly', 'STEDCLRAonly.pg4')\n",
    "CLRAonly = df.selectSpotOccurence(locLst, [0], [1])\n",
    "df.GetfixedlocBrightness(CLRAonly, loccolor = 'Y', outpath = outfile)"
   ]
  },
  {
   "cell_type": "markdown",
   "metadata": {},
   "source": [
    "### Calculate theoretical precison"
   ]
  },
  {
   "cell_type": "code",
   "execution_count": 44,
   "metadata": {},
   "outputs": [
    {
     "name": "stdout",
     "output_type": "stream",
     "text": [
      "mean NG is 735\n",
      "mean sigmaG is 31.64\n",
      "mean FWHM G is 74.52\n",
      "mean bgG is 0.29\n",
      "mean NY is 728\n",
      "mean sigmaY is 21.70\n",
      "mean FWHM Y is 51.09\n",
      "mean bgY is 0.36\n",
      "standard deviation of G Channel is 1.66 nm\n",
      "standard deviation of Y Channel is 1.09 nm\n",
      "uncertainty in dye position is assumed to be 0.00 nm\n",
      "expected sigma of chi distribution is 1.99 nm\n",
      "expected RMSD value is 2.81\n",
      "loc Accury indicators:\n",
      "Green photons is 735 +- 652\n",
      "green spot sigma is 31.64 +- 3.55\n",
      "green spot FWHM is 74.52 +- 8.36\n",
      "Green background is 0.29 +- 0.09\n",
      "Yellow photons is 728 +- 523\n",
      "Yellow spot sigma is 21.70 +- 1.53\n",
      "Yellow spot FWHM is 51.09 +- 3.61\n",
      "Yellow background is 0.36 +- 0.08\n",
      "standard deviation of G Channel is 1.24 nm\n",
      "standard deviation of Y Channel is 0.85 nm\n",
      "uncertainty in dye position is assumed to be 0.00 nm \n",
      "expected sigma of chi distribution is 1.50 nm\n",
      "\n"
     ]
    },
    {
     "data": {
      "text/plain": [
       "<Figure size 432x288 with 0 Axes>"
      ]
     },
     "metadata": {},
     "output_type": "display_data"
    }
   ],
   "source": [
    "#A2stats = df.genStats(A2locLst)\n",
    "Gspots = [2]\n",
    "Yspots = [2]\n",
    "filterLst = df.selectSpotOccurence(locLst, Gspots, Yspots)\n",
    "stats = df.genStats(filterLst)\n",
    "print('mean NG is %.0f' %\n",
    "      np.mean(np.array(stats['AG']) * np.array(stats['sigmaG'])**2 *2 * np.pi))\n",
    "print('mean sigmaG is %.2f' % (np.mean(stats['sigmaG'])*10))\n",
    "print('mean FWHM G is %.2f' % (np.mean(stats['sigmaG'])*10 * 2.355))\n",
    "print('mean bgG is %.2f' % np.mean(stats['bgG']))\n",
    "print('mean NY is %.0f' %\n",
    "      np.mean(np.array(stats['AY']) * np.array(stats['sigmaY'])**2 *2 * np.pi))\n",
    "print('mean sigmaY is %.2f' % (np.mean(stats['sigmaY'])*10))\n",
    "print('mean FWHM Y is %.2f' % (np.mean(stats['sigmaY'])*10 * 2.355))\n",
    "print('mean bgY is %.2f' % np.mean(stats['bgY']))\n",
    "Gprecision = np.sqrt(pF.findVar([0,0,32,0.12, 392], 10))\n",
    "print('standard deviation of G Channel is %.2f nm' % Gprecision)\n",
    "Yprecision = np.sqrt(pF.findVar([0,0,26,0.62, 724], 10))\n",
    "print('standard deviation of Y Channel is %.2f nm' % Yprecision)\n",
    "posprecision = 0\n",
    "print('uncertainty in dye position is assumed to be %.2f nm' % posprecision)\n",
    "chiSigma = np.sqrt (Gprecision**2 + Yprecision**2 + posprecision**2)\n",
    "print('expected sigma of chi distribution is %.2f nm' % chiSigma)\n",
    "#df.estChiSigma(29, 25, 147, 605, 0.11, 0.58, 10, 2)\n",
    "RMSDprecision = np.sqrt ( 2 * Gprecision**2 + 2* Yprecision**2 + 4 * posprecision**2)\n",
    "print('expected RMSD value is %.2f' % RMSDprecision )\n",
    "\n",
    "outname = r'P:\\STED-FRET\\paper\\SI\\Supplementary Figure S17\\CLR-2D2A\\CLR-2D2A.txt'\n",
    "utility.reportLocStats(filterLst, outname = outname)"
   ]
  },
  {
   "cell_type": "code",
   "execution_count": null,
   "metadata": {},
   "outputs": [],
   "source": []
  }
 ],
 "metadata": {
  "kernelspec": {
   "display_name": "Python [conda env:py37] *",
   "language": "python",
   "name": "conda-env-py37-py"
  },
  "language_info": {
   "codemirror_mode": {
    "name": "ipython",
    "version": 3
   },
   "file_extension": ".py",
   "mimetype": "text/x-python",
   "name": "python",
   "nbconvert_exporter": "python",
   "pygments_lexer": "ipython3",
   "version": "3.7.11"
  }
 },
 "nbformat": 4,
 "nbformat_minor": 4
}
