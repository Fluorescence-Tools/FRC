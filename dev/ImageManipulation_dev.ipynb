{
 "cells": [
  {
   "cell_type": "code",
   "execution_count": 5,
   "metadata": {},
   "outputs": [],
   "source": [
    "import numpy as np\n",
    "import matplotlib.pyplot as plt\n",
    "import cpp_wrappers\n",
    "import FRCfuncs\n",
    "import os\n",
    "import copy\n",
    "import ImageManipulation as IM\n",
    "from importlib import reload"
   ]
  },
  {
   "cell_type": "code",
   "execution_count": 22,
   "metadata": {},
   "outputs": [
    {
     "data": {
      "text/plain": [
       "<module 'ImageManipulation' from 'K:\\\\vanderVoortN\\\\FRC\\\\Code\\\\ImageManipulation.py'>"
      ]
     },
     "execution_count": 22,
     "metadata": {},
     "output_type": "execute_result"
    }
   ],
   "source": []
  },
  {
   "cell_type": "code",
   "execution_count": 2,
   "metadata": {},
   "outputs": [],
   "source": [
    "def saveGRYIm(RGYobj, outfolder, preposition = '', xmin = 0, xmax = -1, ymin = 0, ymax = -1): \n",
    "    #convert all strings to bytes\n",
    "    try: outfolder = outfolder.encode()\n",
    "    except: pass\n",
    "    try: preposition = preposition.encode()\n",
    "    except: pass\n",
    "    try:\n",
    "        os.mkdir(outfolder)\n",
    "        print('creating new folder %s\\n' %os.path.join(outfolder))\n",
    "    except: 'folder already exists'\n",
    "    im = Image.fromarray(RGYobj.G[xmin:xmax, ymin:ymax])\n",
    "    outname = os.path.join(outfolder, preposition + b'imG.tif').decode()\n",
    "    im.save(outname)\n",
    "    im = Image.fromarray(RGYobj.R[xmin:xmax, ymin:ymax])\n",
    "    outname = os.path.join(outfolder, preposition + b'imR.tif').decode()\n",
    "    im.save(outname)\n",
    "    im = Image.fromarray(RGYobj.Y[xmin:xmax, ymin:ymax])\n",
    "    outname = os.path.join(outfolder, preposition + b'imY.tif').decode()\n",
    "    im.save(outname)\n",
    "    return 0"
   ]
  },
  {
   "cell_type": "code",
   "execution_count": 8,
   "metadata": {},
   "outputs": [
    {
     "data": {
      "text/plain": [
       "numpy.ndarray"
      ]
     },
     "execution_count": 8,
     "metadata": {},
     "output_type": "execute_result"
    }
   ],
   "source": [
    "a = np.zeros(10)\n",
    "type(a)"
   ]
  },
  {
   "cell_type": "code",
   "execution_count": 86,
   "metadata": {},
   "outputs": [
    {
     "name": "stdout",
     "output_type": "stream",
     "text": [
      "header dir already exists\n",
      "b'N:\\\\Singlem\\\\singlem19-3\\\\August\\\\05_Origami_NV_AB_JHB\\\\completely labelled\\\\header\\\\Origami_TLMR_33_ROXS.txt'\n",
      "number of records is 265287\n",
      "N:\\Singlem\\singlem19-3\\August\\05_Origami_NV_AB_JHB\\completely labelled\\header\\Origami_TLMR_33_ROXS.txt\n"
     ]
    },
    {
     "data": {
      "image/png": "[encoded data removed]",
      "text/plain": [
       "<Figure size 432x288 with 2 Axes>"
      ]
     },
     "metadata": {},
     "output_type": "display_data"
    }
   ],
   "source": [
    "\n",
    "f12 = b'Origami_TLMR_12_ROXS.ptu'\n",
    "f33 = b'Origami_TLMR_33_ROXS.ptu'\n",
    "fname = f12\n",
    "wdir = b'N:\\\\Singlem\\\\singlem19-3\\\\August\\\\05_Origami_NV_AB_JHB\\\\completely labelled'\n",
    "\n",
    "fname = os.path.join(wdir, fname)\n",
    "\n",
    "obj = processLifetimeImage(fname, uselines = np.array([1,1,1,2]))\n",
    "outdir = ''\n",
    "obj.loadLifetime()\n",
    "obj.gate(26, 200)\n",
    "obj.loadIntensity()\n",
    "intIm = obj.getIntensity()\n",
    "\n",
    "obj.loadLifetime()\n",
    "obj.gate(26, 200)\n",
    "obj.filterLifetime('smear_lifetime', 3)\n",
    "obj.meanArrivalTime(26, 54)\n",
    "ltIm = obj.getIntensity()\n",
    "saveGRYIm(ltIm, os.path.join(wdir, b'TLMR12_snips'), 'lt', 31, 51, 80, 100)\n",
    "saveGRYIm(intIm, os.path.join(wdir, b'TLMR12_snips'), '', 31, 51, 80, 100)\n",
    "\n",
    "fg_color = 'black'\n",
    "cmap = cm.hot\n",
    "cmap.set_over(color='green')\n",
    "cmap.set_under(color='black')\n",
    "plt.imshow(intIm.Y[31:51,80:100], vmin = 0, vmax = 25, cmap = cmap)\n",
    "fig = plt.gcf()\n",
    "cbaxes = fig.add_axes([0.8, 0.1, 0.05, 0.7])  \n",
    "cbar = plt.colorbar(orientation = 'vertical', fraction = 2, aspect = 7, cax = cbaxes)\n",
    "cbar.ax.yaxis.set_tick_params(color=fg_color)\n",
    "cbar.outline.set_edgecolor(fg_color)\n",
    "\n",
    "cbar.ax.set_yticklabels([0,5,10,15,20,25], fontsize=24, weight='bold')\n",
    "cbytick_obj = plt.getp(cbar.ax.axes, 'yticklabels')                #tricky\n",
    "plt.setp(cbytick_obj, color='w')\n",
    "plt.setp(plt.getp(cbar.ax.axes, 'yticklabels'), color=fg_color)\n",
    "fig.patch.set_facecolor([0,0,0,0]) \n",
    "plt.savefig('20190816sniptest.png', dpi = 300, transparent = True)"
   ]
  },
  {
   "cell_type": "code",
   "execution_count": 3,
   "metadata": {
    "scrolled": false
   },
   "outputs": [
    {
     "name": "stdout",
     "output_type": "stream",
     "text": [
      "b'processing ami_TLMR_12_ROXS.ptu'\n",
      "header dir already exists\n",
      "b'N:\\\\Singlem\\\\singlem19-3\\\\August\\\\05_Origami_NV_AB_JHB\\\\completely labelled\\\\header\\\\Origami_TLMR_12_ROXS.txt'\n",
      "number of records is 248836\n",
      "N:\\Singlem\\singlem19-3\\August\\05_Origami_NV_AB_JHB\\completely labelled\\header\\Origami_TLMR_12_ROXS.txt\n"
     ]
    },
    {
     "ename": "NameError",
     "evalue": "name 'saveim' is not defined",
     "output_type": "error",
     "traceback": [
      "\u001b[1;31m---------------------------------------------------------------------------\u001b[0m",
      "\u001b[1;31mNameError\u001b[0m                                 Traceback (most recent call last)",
      "\u001b[1;32m<ipython-input-3-99e35e3e0d5c>\u001b[0m in \u001b[0;36m<module>\u001b[1;34m()\u001b[0m\n\u001b[0;32m     42\u001b[0m \u001b[1;33m\u001b[0m\u001b[0m\n\u001b[0;32m     43\u001b[0m     \u001b[1;31m#save images\u001b[0m\u001b[1;33m\u001b[0m\u001b[1;33m\u001b[0m\u001b[0m\n\u001b[1;32m---> 44\u001b[1;33m     \u001b[0msaveim\u001b[0m\u001b[1;33m(\u001b[0m\u001b[0mintIm\u001b[0m\u001b[1;33m.\u001b[0m\u001b[0mG\u001b[0m\u001b[1;33m,\u001b[0m \u001b[0mfname\u001b[0m\u001b[1;33m,\u001b[0m \u001b[1;34mb'\\\\imG.tiff'\u001b[0m\u001b[1;33m)\u001b[0m\u001b[1;33m\u001b[0m\u001b[0m\n\u001b[0m\u001b[0;32m     45\u001b[0m     \u001b[0msaveim\u001b[0m\u001b[1;33m(\u001b[0m\u001b[0mintIm\u001b[0m\u001b[1;33m.\u001b[0m\u001b[0mR\u001b[0m\u001b[1;33m,\u001b[0m \u001b[0mfname\u001b[0m\u001b[1;33m,\u001b[0m \u001b[1;34mb'\\\\imR.tiff'\u001b[0m\u001b[1;33m)\u001b[0m\u001b[1;33m\u001b[0m\u001b[0m\n\u001b[0;32m     46\u001b[0m     \u001b[0msaveim\u001b[0m\u001b[1;33m(\u001b[0m\u001b[0mintIm\u001b[0m\u001b[1;33m.\u001b[0m\u001b[0mY\u001b[0m\u001b[1;33m,\u001b[0m \u001b[0mfname\u001b[0m\u001b[1;33m,\u001b[0m \u001b[1;34mb'\\\\imY.tiff'\u001b[0m\u001b[1;33m)\u001b[0m\u001b[1;33m\u001b[0m\u001b[0m\n",
      "\u001b[1;31mNameError\u001b[0m: name 'saveim' is not defined"
     ]
    }
   ],
   "source": [
    "from PIL import Image\n",
    "from matplotlib import cm\n",
    "wdir = b'N:\\\\Singlem\\\\singlem19-3\\\\August\\\\05_Origami_NV_AB_JHB\\\\completely labelled'\n",
    "f6 = b'Origami_TLMR_6_ROXS.ptu'\n",
    "f8 = b'Origami_TLMR_8_ROXS.ptu'\n",
    "f12 = b'Origami_TLMR_12_ROXS.ptu'\n",
    "f16 = b'Origami_TLMR_16_ROXS.ptu'\n",
    "f20 = b'Origami_TLMR_20_ROXS.ptu'\n",
    "f23 = b'Origami_TLMR_23_ROXS.ptu'\n",
    "f24 = b'Origami_TLMR_24_ROXS.ptu'\n",
    "f30 = b'Origami_TLMR_30_ROXS.ptu'\n",
    "f33 = b'Origami_TLMR_33_ROXS.ptu'\n",
    "f35 = b'Origami_TLMR_35_ROXS.ptu'\n",
    "f36 = b'Origami_TLMR_36_ROXS.ptu'\n",
    "f37 = b'Origami_TLMR_37_ROXS.ptu'\n",
    "f44 = b'Origami_TLMR_44_ROXS.ptu'\n",
    "f48 = b'Origami_TLMR_48_ROXS.ptu'\n",
    "f51 = b'Origami_TLMR_51_ROXS.ptu'\n",
    "f52 = b'Origami_TLMR_52_ROXS.ptu'\n",
    "f59 = b'Origami_TLMR_59_ROXS.ptu'\n",
    "f63 = b'Origami_TLMR_63_ROXS.ptu'\n",
    "f67 = b'Origami_TLMR_67_ROXS.ptu'\n",
    "f68 = b'Origami_TLMR_68_ROXS.ptu'\n",
    "f69 = b'Origami_TLMR_69_ROXS.ptu'\n",
    "#f = [f6, f8, f12, f16, f20, f23, f24, f30, f33, f35, f36, f37, f44, f48, f51, f52, f59, f63, f67, f68, f69]\n",
    "f = [f12]\n",
    "fnames = []\n",
    "for el in f:\n",
    "    fnames.append(os.path.join(wdir, el))\n",
    "for fname in fnames:\n",
    "    print(b'processing ' + fname[-20:])\n",
    "    obj = processLifetimeImage(fname, uselines = np.array([1,1,1,2]))\n",
    "    obj.loadLifetime()\n",
    "    obj.gate(26, 200)\n",
    "    obj.loadIntensity()\n",
    "    intIm = obj.getIntensity()  \n",
    "    obj.loadLifetime()\n",
    "    obj.gate(26, 200)\n",
    "    obj.filterLifetime('smear_lifetime', 3)\n",
    "    obj.meanArrivalTime(26, 54)\n",
    "    ltIm = obj.getIntensity()\n",
    "    \n",
    "    #save images\n",
    "    saveim(intIm.G, fname, b'\\\\imG.tiff')\n",
    "    saveim(intIm.R, fname, b'\\\\imR.tiff')\n",
    "    saveim(intIm.Y, fname, b'\\\\imY.tiff')\n",
    "    saveim(ltIm.G, fname, b'\\\\ltG.tiff')\n",
    "    saveim(ltIm.R, fname, b'\\\\ltR.tiff')\n",
    "    saveim(ltIm.Y, fname, b'\\\\ltY.tiff')\n",
    "    \n",
    "    #fig=plt.figure(figsize=(18, 16), dpi= 80, facecolor='w', edgecolor='k')\n",
    "    cmap = cm.hot\n",
    "    cmap.set_over(color='green')\n",
    "    cmap.set_under(color='blue')\n",
    "    plt.imshow(intIm.Y[31:51,80:100], vmin = 1, vmax = 25, cmap = cmap)\n",
    "    plt.colorbar()\n",
    "    plt.show\n"
   ]
  },
  {
   "cell_type": "code",
   "execution_count": 110,
   "metadata": {},
   "outputs": [],
   "source": [
    "IM = reload(IM)"
   ]
  },
  {
   "cell_type": "code",
   "execution_count": 111,
   "metadata": {},
   "outputs": [
    {
     "name": "stdout",
     "output_type": "stream",
     "text": [
      "header dir already exists\n",
      "b'N:\\\\Singlem\\\\singlem19-4\\\\october\\\\18_CLR_origamis_NV\\\\ensemble_exc561_50pct_exc640_5pct_STED40pct\\\\header\\\\CLR9.txt'\n",
      "number of records is 3495674\n",
      "N:\\Singlem\\singlem19-4\\october\\18_CLR_origamis_NV\\ensemble_exc561_50pct_exc640_5pct_STED40pct\\header\\CLR9.txt\n"
     ]
    },
    {
     "data": {
      "text/plain": [
       "0"
      ]
     },
     "execution_count": 111,
     "metadata": {},
     "output_type": "execute_result"
    }
   ],
   "source": [
    "roifile = 'CLR9_Yellow Photons.roi'\n",
    "file = 'CLR9.ptu'\n",
    "wdir = r'N:\\Singlem\\singlem19-4\\october\\18_CLR_origamis_NV\\ensemble_exc561_50pct_exc640_5pct_STED40pct'\n",
    "\n",
    "fname = os.path.join(wdir, file).encode()\n",
    "CLR = IM.processLifetimeImage(fname, uselines = np.array([1,2]), ntacs = 1024)\n",
    "CLR.loadLifetime()\n",
    "#CLR.gate(32,150)\n",
    "CLR.loadIntensity()"
   ]
  },
  {
   "cell_type": "code",
   "execution_count": 116,
   "metadata": {},
   "outputs": [
    {
     "data": {
      "text/plain": [
       "0"
      ]
     },
     "execution_count": 116,
     "metadata": {},
     "output_type": "execute_result"
    }
   ],
   "source": [
    "ROIDir = r'N:\\Singlem\\singlem19-4\\october\\18_CLR_origamis_NV\\ensemble_exc561_50pct_exc640_5pct_STED40pct\\sub_ensemble_sep\\NF_population\\Pixel numbers of selected ROIs'\n",
    "roifile = r'CLR9_Frames   0- 99_Green_Fit#23__MinPh# 0_MaxPh# Inf_0_ROI size ±3.roi'\n",
    "\n",
    "ROIS = np.genfromtxt(os.path.join(ROIDir,roifile)).astype(np.int32)\n",
    "mask = IM.processLifetimeImage.buildMaskFromROI(CLR, ROIS)\n",
    "CLR.mask(mask, mode = 'lifetime')\n",
    "CLR.sumLifetime()"
   ]
  },
  {
   "cell_type": "code",
   "execution_count": 117,
   "metadata": {},
   "outputs": [
    {
     "data": {
      "text/plain": [
       "0"
      ]
     },
     "execution_count": 117,
     "metadata": {},
     "output_type": "execute_result"
    }
   ],
   "source": [
    "CLR.sumLifetime()\n",
    "CLR.decay.G"
   ]
  },
  {
   "cell_type": "code",
   "execution_count": 124,
   "metadata": {},
   "outputs": [
    {
     "data": {
      "image/png": "[encoded data removed]",
      "text/plain": [
       "<Figure size 432x288 with 1 Axes>"
      ]
     },
     "metadata": {},
     "output_type": "display_data"
    }
   ],
   "source": [
    "plt.plot(CLR.decay.G / max(CLR.decay.G), label = 'Donor', alpha = 0.5)\n",
    "plt.plot(CLR.decay.Y / max(CLR.decay.Y), label = 'PIE', alpha = 0.5)\n",
    "plt.legend()\n",
    "ax = plt.gca()\n",
    "ax.set_yscale('log')"
   ]
  },
  {
   "cell_type": "code",
   "execution_count": null,
   "metadata": {},
   "outputs": [],
   "source": []
  }
 ],
 "metadata": {
  "kernelspec": {
   "display_name": "Python 3",
   "language": "python",
   "name": "python3"
  },
  "language_info": {
   "codemirror_mode": {
    "name": "ipython",
    "version": 3
   },
   "file_extension": ".py",
   "mimetype": "text/x-python",
   "name": "python",
   "nbconvert_exporter": "python",
   "pygments_lexer": "ipython3",
   "version": "3.6.5"
  }
 },
 "nbformat": 4,
 "nbformat_minor": 2
}
