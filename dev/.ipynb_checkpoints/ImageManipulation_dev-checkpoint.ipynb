{
 "cells": [
  {
   "cell_type": "code",
   "execution_count": 143,
   "metadata": {},
   "outputs": [],
   "source": [
    "import numpy as np\n",
    "import matplotlib.pyplot as plt\n",
    "import cpp_wrappers\n",
    "import FRCfuncs\n",
    "import os\n",
    "import copy"
   ]
  },
  {
   "cell_type": "code",
   "execution_count": 12,
   "metadata": {},
   "outputs": [
    {
     "data": {
      "text/plain": [
       "numpy.ndarray"
      ]
     },
     "execution_count": 12,
     "metadata": {},
     "output_type": "execute_result"
    }
   ],
   "source": [
    "type(np.array([1]))"
   ]
  },
  {
   "cell_type": "code",
   "execution_count": 206,
   "metadata": {},
   "outputs": [
    {
     "name": "stdout",
     "output_type": "stream",
     "text": [
      "header dir already exists\n",
      "b'N:\\\\Singlem\\\\singlem19-3\\\\August\\\\05_Origami_NV_AB_JHB\\\\completely labelled\\\\header\\\\Origami_TLMR_6_ROXS.txt'\n",
      "number of records is 237477\n",
      "N:\\Singlem\\singlem19-3\\August\\05_Origami_NV_AB_JHB\\completely labelled\\header\\Origami_TLMR_6_ROXS.txt\n"
     ]
    }
   ],
   "source": [
    "wdir = b'N:\\\\Singlem\\\\singlem19-3\\\\August\\\\05_Origami_NV_AB_JHB\\\\completely labelled'\n",
    "file = b'Origami_TLMR_6_ROXS.ptu'\n",
    "fname = os.path.join(wdir, file)\n",
    "obj = processLifetimeImage(fname, uselines = np.array([1,1,1,2]))"
   ]
  },
  {
   "cell_type": "code",
   "execution_count": 207,
   "metadata": {
    "scrolled": true
   },
   "outputs": [
    {
     "name": "stdout",
     "output_type": "stream",
     "text": [
      "(50, 50, 256)\n",
      "1923\n"
     ]
    },
    {
     "data": {
      "image/png": "[encoded data removed]",
      "text/plain": [
       "<Figure size 432x288 with 1 Axes>"
      ]
     },
     "metadata": {},
     "output_type": "display_data"
    },
    {
     "data": {
      "text/plain": [
       "<matplotlib.image.AxesImage at 0x263014cfe80>"
      ]
     },
     "execution_count": 207,
     "metadata": {},
     "output_type": "execute_result"
    },
    {
     "data": {
      "image/png": "[encoded data removed]",
      "text/plain": [
       "<Figure size 432x288 with 1 Axes>"
      ]
     },
     "metadata": {},
     "output_type": "display_data"
    }
   ],
   "source": [
    "obj.loadLifetime()\n",
    "obj.gate(26, 200)\n",
    "obj.rebin(2,2)\n",
    "obj.loadIntensity()\n",
    "print(obj.workLifetime.G.sum())\n",
    "plt.plot(obj.workLifetime.G.sum(axis=(0,1)))\n",
    "plt.show()\n",
    "plt.imshow(obj.workIntensity.G)"
   ]
  },
  {
   "cell_type": "code",
   "execution_count": 187,
   "metadata": {},
   "outputs": [
    {
     "data": {
      "text/plain": [
       "50"
      ]
     },
     "execution_count": 187,
     "metadata": {},
     "output_type": "execute_result"
    }
   ],
   "source": [
    "100//2"
   ]
  },
  {
   "cell_type": "code",
   "execution_count": 78,
   "metadata": {},
   "outputs": [],
   "source": [
    "class GRYLifetime():\n",
    "    def __init__(self, imG, imR, imY):\n",
    "        assert (len(imG.shape) == 3 and len(imR.shape) == 3 and len(imY.shape) == 3), \\\n",
    "            \"arrays must be 3D\"\n",
    "        self.G = imG\n",
    "        self.R = imR\n",
    "        self.Y = imY\n",
    "    \n",
    "class GRYIntensity():\n",
    "    def __init__(self, imG, imR, imY):\n",
    "        assert (len(imG.shape) == 2 and len(imR.shape) == 2 and len(imY.shape) == 2), \\\n",
    "            \"arrays must be 2D\"\n",
    "        self.G = imG\n",
    "        self.R = imR\n",
    "        self.Y = imY\n",
    "    "
   ]
  },
  {
   "cell_type": "code",
   "execution_count": 208,
   "metadata": {},
   "outputs": [
    {
     "ename": "SyntaxError",
     "evalue": "invalid syntax (<ipython-input-208-d14a118485c8>, line 42)",
     "output_type": "error",
     "traceback": [
      "\u001b[1;36m  File \u001b[1;32m\"<ipython-input-208-d14a118485c8>\"\u001b[1;36m, line \u001b[1;32m42\u001b[0m\n\u001b[1;33m    if mode = 'smear_lifetime':\u001b[0m\n\u001b[1;37m            ^\u001b[0m\n\u001b[1;31mSyntaxError\u001b[0m\u001b[1;31m:\u001b[0m invalid syntax\n"
     ]
    }
   ],
   "source": [
    "import cpp_wrappers\n",
    "import FRCfuncs\n",
    "class processLifetimeImage:\n",
    "    def __init__(self, fname, uselines = np.array([1,0]), Gchan = np.array([0,2]), \\\n",
    "        Rchan = np.array([1,3]), Ychan = np.array([1,3]), ntacs = 256):\n",
    "        self.baseLifetime = None #immutable after initialization\n",
    "        self.baseIntensity = None #immutable after initialization\n",
    "        self.workLifetime = None #mutable\n",
    "        self.workIntensity = None #mutable\n",
    "        assert( type(uselines) == np.ndarray and \\\n",
    "               type(Gchan) == np.ndarray and\\\n",
    "               type(Rchan) == np.ndarray and \\\n",
    "               type(Ychan) == np.ndarray), \\\n",
    "            \"uselines, Gchan, Ychan and Rchan must be numpy array type!\"\n",
    "        #initialize baseLifetimeObject\n",
    "        self._makeLifetime(fname, uselines, Gchan, Rchan, Ychan, ntacs)\n",
    "        #initialize baseIntensityObject\n",
    "        self._makeIntensity()\n",
    "        \n",
    "    def gate(self, mingate, maxgate):\n",
    "        self.workLifetime.G[:,:,:mingate] = 0\n",
    "        self.workLifetime.G[:,:,maxgate:] = 0\n",
    "        self.workLifetime.R[:,:,:mingate] = 0\n",
    "        self.workLifetime.R[:,:,maxgate:] = 0\n",
    "        self.workLifetime.Y[:,:,:mingate] = 0\n",
    "        self.workLifetime.Y[:,:,maxgate:] = 0\n",
    "        return 0\n",
    "    \n",
    "    def rebin(self, xfactor, yfactor):\n",
    "        \"\"\"reshape by xfactor and yfactor\"\"\"\n",
    "        shape = self.workLifetime.G.shape\n",
    "        xshape = shape[0]\n",
    "        yshape = shape[1]\n",
    "        nbins = shape[2]\n",
    "        self.workLifetime.G = self.workLifetime.G.reshape(\n",
    "            xshape // xfactor, xfactor, yshape // yfactor, yfactor, \\\n",
    "            nbins).sum(axis = 3).sum(axis = 1)\n",
    "        self.workLifetime.R = self.workLifetime.R.reshape(\n",
    "            xshape // xfactor, xfactor, yshape // yfactor, yfactor, \\\n",
    "            nbins).sum(axis = 3).sum(axis = 1)\n",
    "        self.workLifetime.Y = self.workLifetime.Y.reshape(\n",
    "            xshape // xfactor, xfactor, yshape // yfactor, yfactor, \\\n",
    "            nbins).sum(axis = 3).sum(axis = 1)\n",
    "        return 0\n",
    "    \n",
    "    def filterLifetime(self, mode = 'xyz', window = 3):\n",
    "        if mode = 'smear_lifetime':\n",
    "            if window % 2 == 0:\n",
    "                lwindow = window // 2 - 1\n",
    "                rwindow = window // 2 + 1\n",
    "            elif window % 2 == 1: #odd sized window, distributed evenly left and right\n",
    "                lwindow = window // 2 - 1\n",
    "                rwindow = window // 2 + 2\n",
    "            ltG = self.workLifetime.G\n",
    "            resG = np.zeros(ltg.shape)\n",
    "            xshape, yshape, _ = ltg.shape\n",
    "            for i in range(xshape):\n",
    "                for j in range(yshape):\n",
    "                    resG = \n",
    "    \n",
    "    def filterIntensity(self, mode = 'xyz'):\n",
    "        pass\n",
    "    \n",
    "    def lifetimeFit(self):\n",
    "        pass\n",
    "    \n",
    "    def loadLifetime(self):\n",
    "        self.workLifetime = copy.deepcopy(self.baseLifetime)\n",
    "        \n",
    "    def loadIntensity(self):\n",
    "        imG = self.workLifetime.G.sum(axis=2)\n",
    "        imR = self.workLifetime.R.sum(axis=2)\n",
    "        imY = self.workLifetime.Y.sum(axis=2)\n",
    "        self.workIntensity = GRYIntensity(imG, imR, imY)\n",
    "        return 0\n",
    "    \n",
    "    def getLifetime(self):\n",
    "        return self.workLifetime\n",
    "    \n",
    "    def getIntensity(self):\n",
    "        return self.workIntensity\n",
    "    \n",
    "    def setLifetime(self, LifetimeObject):\n",
    "        assert(type(LifetimeObject = GRYLifetime)),'not a GRY lifetime object'\n",
    "        self.workLifetime = LifetimeObject\n",
    "        return 0\n",
    "        \n",
    "    def setIntensity(self, IntensityObject):\n",
    "        assert(type(IntensityObject = GRYIntensity)),'not a GRY intensity object'\n",
    "        self.workIntensity = IntensityObject\n",
    "        return 0\n",
    "        \n",
    "    def _makeIntensity(self):\n",
    "        \"\"\"sum tac histograms to obtain intensity image\"\"\"\n",
    "        imG = self.baseLifetime.G.sum(axis=2)\n",
    "        imR = self.baseLifetime.R.sum(axis=2)\n",
    "        imY = self.baseLifetime.Y.sum(axis=2)\n",
    "        self.baseIntensity = GRYIntensity(imG, imR, imY)\n",
    "        return 0\n",
    "    \n",
    "    \n",
    "    \n",
    "    def _makeLifetime(self, fname, uselines, Gchan, Rchan, Ychan, ntacs):\n",
    "        \"\"\"initialisation routine for lifetime image manipulation class.\n",
    "        Loads the .ptu file located at fname.\n",
    "        Uselines codes for the used line steps. \n",
    "            0 denotes that the line is ignored\n",
    "            1 denotes that the line is FRET sensitized\n",
    "            2 denotes that it is PIE sensitized\n",
    "        Uselines should not be used for binning. A separate functions exists for \n",
    "            that.\n",
    "        Gchan, Rchan and Ychan indicates the detection channels for the \n",
    "            corresponding colors. No distinction between P and S \n",
    "            polarisation is made. Generally R and Y have the same channels.\n",
    "        ntacs is the amount of bins used for the tac histogram. Decrease \n",
    "            to safe memory usage. Computational efficiency is minimal\n",
    "            effected.\n",
    "        returns imG, imR, imY\"\"\"\n",
    "        uselines = uselines.astype(np.ubyte)\n",
    "        Gchan = Gchan.astype(np.ubyte)\n",
    "        Rchan = Rchan.astype(np.ubyte)\n",
    "        Ychan = Ychan.astype(np.ubyte)\n",
    "        root, file = os.path.split(fname)\n",
    "        NumRecords = cpp_wrappers.ptuHeader_wrap (fname)\n",
    "        eventN, tac, t, can = cpp_wrappers.ptu_wrap(fname, NumRecords)\n",
    "        root, file = os.path.split(fname)\n",
    "        name, _ = os.path.splitext(file)\n",
    "        header_name = os.path.join(root, b\"header\", name + b\".txt\")\n",
    "        print('number of records is ' + str(NumRecords))\n",
    "\n",
    "        dimX, dimY, dwelltime, counttime = cpp_wrappers.read_header(header_name)\n",
    "        imG, imR, imY = cpp_wrappers.genGRYLifetimeWrap(eventN, tac, t, can, dimX, dimY, ntacs, \\\n",
    "            dwelltime, counttime, NumRecords, uselines, Gchan, Rchan, Ychan)\n",
    "        self.baseLifetime = GRYLifetime(imG, imR, imY)\n",
    "        return 0"
   ]
  },
  {
   "cell_type": "code",
   "execution_count": 215,
   "metadata": {},
   "outputs": [
    {
     "data": {
      "text/plain": [
       "array([0, 1, 2])"
      ]
     },
     "execution_count": 215,
     "metadata": {},
     "output_type": "execute_result"
    }
   ],
   "source": [
    "a = np.arange(10)\n",
    "a[0:3]"
   ]
  },
  {
   "cell_type": "code",
   "execution_count": 204,
   "metadata": {},
   "outputs": [
    {
     "name": "stdout",
     "output_type": "stream",
     "text": [
      "[[[  0   1   2   3   4   5   6   7   8   9]\n",
      "  [ 10  11  12  13  14  15  16  17  18  19]\n",
      "  [ 20  21  22  23  24  25  26  27  28  29]\n",
      "  [ 30  31  32  33  34  35  36  37  38  39]]\n",
      "\n",
      " [[ 40  41  42  43  44  45  46  47  48  49]\n",
      "  [ 50  51  52  53  54  55  56  57  58  59]\n",
      "  [ 60  61  62  63  64  65  66  67  68  69]\n",
      "  [ 70  71  72  73  74  75  76  77  78  79]]\n",
      "\n",
      " [[ 80  81  82  83  84  85  86  87  88  89]\n",
      "  [ 90  91  92  93  94  95  96  97  98  99]\n",
      "  [100 101 102 103 104 105 106 107 108 109]\n",
      "  [110 111 112 113 114 115 116 117 118 119]]\n",
      "\n",
      " [[120 121 122 123 124 125 126 127 128 129]\n",
      "  [130 131 132 133 134 135 136 137 138 139]\n",
      "  [140 141 142 143 144 145 146 147 148 149]\n",
      "  [150 151 152 153 154 155 156 157 158 159]]]\n"
     ]
    }
   ],
   "source": [
    "a = np.arange(160).reshape(4,4,10)\n",
    "\n",
    "a.reshape(2,2,2,2,10).sum(axis=3).sum(axis=1)\n",
    "print(a)"
   ]
  },
  {
   "cell_type": "code",
   "execution_count": 3,
   "metadata": {},
   "outputs": [
    {
     "data": {
      "image/png": "[encoded data removed]",
      "text/plain": [
       "<Figure size 432x288 with 1 Axes>"
      ]
     },
     "metadata": {},
     "output_type": "display_data"
    }
   ],
   "source": [
    "int_imG = imG.sum(axis = 2)\n",
    "int_imR = imY.sum(axis = 2)\n",
    "#plt.imshow(imG.sum(axis=2))\n",
    "plt.plot(imR.sum(axis=(0,1)))\n",
    "ax = plt.gca()\n",
    "ax.set_yscale('log')"
   ]
  },
  {
   "cell_type": "code",
   "execution_count": 27,
   "metadata": {},
   "outputs": [
    {
     "data": {
      "text/plain": [
       "3"
      ]
     },
     "execution_count": 27,
     "metadata": {},
     "output_type": "execute_result"
    }
   ],
   "source": [
    "len(imY.shape)"
   ]
  },
  {
   "cell_type": "code",
   "execution_count": null,
   "metadata": {},
   "outputs": [],
   "source": []
  }
 ],
 "metadata": {
  "kernelspec": {
   "display_name": "Python 3",
   "language": "python",
   "name": "python3"
  },
  "language_info": {
   "codemirror_mode": {
    "name": "ipython",
    "version": 3
   },
   "file_extension": ".py",
   "mimetype": "text/x-python",
   "name": "python",
   "nbconvert_exporter": "python",
   "pygments_lexer": "ipython3",
   "version": "3.6.5"
  }
 },
 "nbformat": 4,
 "nbformat_minor": 2
}
