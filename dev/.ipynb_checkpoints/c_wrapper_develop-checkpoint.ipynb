{
 "cells": [
  {
   "cell_type": "code",
   "execution_count": 1,
   "metadata": {},
   "outputs": [],
   "source": [
    "import ctypes\n",
    "from ctypes import *\n",
    "import numpy as np"
   ]
  },
  {
   "cell_type": "markdown",
   "metadata": {},
   "source": [
    "## write wrapper for Gauss2D_analysis"
   ]
  },
  {
   "cell_type": "code",
   "execution_count": 321,
   "metadata": {},
   "outputs": [
    {
     "name": "stdout",
     "output_type": "stream",
     "text": [
      "Overwriting Gauss2D_dummy.cpp\n"
     ]
    }
   ],
   "source": [
    "%%file Gauss2D_dummy.cpp\n",
    "\n",
    "#include <stdio.h>\n",
    "\n",
    "// fitting options\n",
    "typedef struct {\n",
    "    int threshold; // threshold for peak search\n",
    "    char relative_thr;\t\t// threshold is relative to bg_surface\n",
    "    int offset;\t\t\t// offset (max +/- deltax, deltay) for fitting\n",
    "    int maxNPeaks;\n",
    "    char fit2DGauss;\t\t// fit or just return cm's\n",
    "    double sigma0;\t\t\t// initial estimation for sigma\n",
    "    double dsigma_max;\t\t// threshold for |sigma_x-sigma_y|/(sigma_x+sigma-y)\n",
    "    char must_converge;\t\t// discard peaks for which LM has not converged\n",
    "    int max_threshold; \t\t\t// max_threshold for peak search\n",
    "} OptsCluster;\n",
    "\n",
    "// fit results\n",
    "typedef struct {\n",
    "    int imageID;\n",
    "    } ResultsCluster;\n",
    "\n",
    "extern \"C\" int Gauss2D(int * image,\n",
    "            int size_x,\n",
    "            int size_y,\n",
    "            OptsCluster * options,\n",
    "            int Nimage,\n",
    "            int& Nall,\n",
    "            int& Ngood,\n",
    "            int& Nconverged,\n",
    "            int& Npeaks,\n",
    "            void** presults){\n",
    "    int i, j;\n",
    "    for(i = 0; i < size_x * size_y; i++){\n",
    "        printf(\"pixel value %d is %d\\n\", i, image[i]);\n",
    "    }\n",
    "    printf(\"size x value is %d and size y value is %d \\n\", size_x, size_y);\n",
    "    printf(\"options threshold is %d \\n\", options->threshold);\n",
    "    printf(\"option relative threshold is %c \\n\", options->relative_thr);\n",
    "    printf(\"option sigma0 is %f \\n\", options->sigma0);\n",
    "    printf(\"option max threshold is %d \\n\", options->max_threshold);\n",
    "    printf(\"Nimage is %d\\n\", Nimage);\n",
    "    printf(\"Npeaks is %d\\n\", Npeaks);\n",
    "        \n",
    "    // first 4 bytes contain the array size -- must skip. See LabView help.\n",
    "    ResultsCluster* results = (ResultsCluster*)((__int64*)(*presults) + 1);\n",
    "    printf(\"presults is %x\\n\", *presults);\n",
    "    \n",
    "    for( i = 0; i < 3; i++) {\n",
    "        results[i].imageID = i;\n",
    "    }\n",
    "    /*\n",
    "    for (i =0; i<3; i++){\n",
    "        printf(\"element %d of results is %d\\n\", i, results[i].imageID);\n",
    "    }\n",
    "    printf(\"results is %x\\n\", *results);\n",
    "\n",
    "    */\n",
    "    return 0;\n",
    "}"
   ]
  },
  {
   "cell_type": "code",
   "execution_count": 322,
   "metadata": {},
   "outputs": [],
   "source": [
    "!gcc -c -o dummy.o Gauss2D_dummy.cpp\n",
    "!gcc -o dummy.dll -shared dummy.o"
   ]
  },
  {
   "cell_type": "code",
   "execution_count": 323,
   "metadata": {},
   "outputs": [
    {
     "name": "stdout",
     "output_type": "stream",
     "text": [
      "Overwriting dummy_wrapper.py\n"
     ]
    }
   ],
   "source": [
    "%%file dummy_wrapper.py\n",
    "\n",
    "import numpy as np\n",
    "from ctypes import *\n",
    "\n",
    "class Options(Structure):\n",
    "    _fields_ = [\n",
    "        (\"threshold\", c_int),\n",
    "        (\"relative_thr\", c_char),\n",
    "        (\"offset\", c_int),\n",
    "        (\"maxNpeaks\", c_int),\n",
    "        (\"fit2DGauss\", c_char),\n",
    "        (\"sigma0\",c_double),\n",
    "        (\"dsigma0_max\", c_double),\n",
    "        (\"must_converge\", c_char),\n",
    "        (\"max_threshold\", c_int)\n",
    "    ]\n",
    "\n",
    "\n",
    "_Gauss2D = CDLL('dummy.dll').Gauss2D\n",
    "_Gauss2D.argtypes = [np.ctypeslib.ndpointer(dtype=np.int), \n",
    "                     c_int, \n",
    "                     c_int,\n",
    "                     POINTER(Options),\n",
    "                     c_int,\n",
    "                     np.ctypeslib.ndpointer(dtype=np.int),\n",
    "                     np.ctypeslib.ndpointer(dtype=np.int),\n",
    "                     np.ctypeslib.ndpointer(dtype=np.int),\n",
    "                     np.ctypeslib.ndpointer(dtype=np.int),\n",
    "                     POINTER(c_void_p)]\n",
    "_Gauss2D.restype = c_int\n",
    "\n",
    "\n",
    "\n",
    "def Gauss2D(image, options, Nimage = 1, Nall = 1, Ngood = 1, Nconverged = 1, Npeaks = 1):\n",
    "    size_x, size_y = image.shape\n",
    "    image = np.asarray(image.ravel(), dtype=np.int)\n",
    "    Nall = np.asarray(Nall, dtype=np.int)\n",
    "    Ngood = np.asarray(Ngood, dtype=np.int)\n",
    "    Nconverged = np.asarray(Nconverged, dtype=np.int)\n",
    "    Npeaks = np.asarray(Npeaks, dtype=np.int)\n",
    "    presults = c_void_p(0)\n",
    "    _Gauss2D(image, size_x, size_y, options, Nimage, Nall, Ngood, Nconverged, Npeaks, byref(presults))\n",
    "    return presults"
   ]
  },
  {
   "cell_type": "code",
   "execution_count": 324,
   "metadata": {},
   "outputs": [
    {
     "name": "stdout",
     "output_type": "stream",
     "text": [
      "Overwriting run_Gauss2D_dummy.py\n"
     ]
    }
   ],
   "source": [
    "%%file run_Gauss2D_dummy.py\n",
    "\n",
    "import dummy_wrapper as wrapper\n",
    "import numpy as np\n",
    "\n",
    "image = np.linspace(0,20,15).reshape(3,5)\n",
    "options = wrapper.Options(1,b'0',1,1,b'0',2.5,5.0,0, 3)\n",
    "presults = wrapper.Gauss2D(image, options)\n",
    "print(\"presult value in pyhon is \" + str(presults.value))"
   ]
  },
  {
   "cell_type": "code",
   "execution_count": 325,
   "metadata": {},
   "outputs": [
    {
     "name": "stdout",
     "output_type": "stream",
     "text": [
      "pixel value 0 is 0\n",
      "pixel value 1 is 1\n",
      "pixel value 2 is 2\n",
      "pixel value 3 is 4\n",
      "pixel value 4 is 5\n",
      "pixel value 5 is 7\n",
      "pixel value 6 is 8\n",
      "pixel value 7 is 10\n",
      "pixel value 8 is 11\n",
      "pixel value 9 is 12\n",
      "pixel value 10 is 14\n",
      "pixel value 11 is 15\n",
      "pixel value 12 is 17\n",
      "pixel value 13 is 18\n",
      "pixel value 14 is 20\n",
      "size x value is 3 and size y value is 5 \n",
      "options threshold is 1 \n",
      "option relative threshold is 0 \n",
      "option sigma0 is 2.500000 \n",
      "option max threshold is 3 \n",
      "Nimage is 1\n",
      "Npeaks is 1\n",
      "presults is 0\n"
     ]
    },
    {
     "name": "stderr",
     "output_type": "stream",
     "text": [
      "Traceback (most recent call last):\n",
      "  File \"run_Gauss2D_dummy.py\", line 7, in <module>\n",
      "    presults = wrapper.Gauss2D(image, options)\n",
      "  File \"K:\\vanderVoortN\\FRC\\python\\Code\\dummy_wrapper.py\", line 42, in Gauss2D\n",
      "    _Gauss2D(image, size_x, size_y, options, Nimage, Nall, Ngood, Nconverged, Npeaks, byref(presults))\n",
      "OSError: exception: access violation writing 0x0000000000000008\n"
     ]
    }
   ],
   "source": [
    "!python run_Gauss2D_dummy.py"
   ]
  },
  {
   "cell_type": "code",
   "execution_count": 269,
   "metadata": {},
   "outputs": [
    {
     "name": "stdout",
     "output_type": "stream",
     "text": [
      "Overwriting understanding_pointers.cpp\n"
     ]
    }
   ],
   "source": [
    "%%file understanding_pointers.cpp\n",
    "\n",
    "#include <stdio.h> \n",
    "#include <stdlib.h> \n",
    "\n",
    "int main(){\n",
    "    \n",
    "    printf(\"hello world!\\n\");\n",
    "    \n",
    "    void **array;\n",
    "    int arrayLen = 10;\n",
    "    \n",
    "    array = (void**)malloc(arrayLen * sizeof(void*));\n",
    "    \n",
    "    int * intp, i;\n",
    "    for (i = 0; i >10; i++) {\n",
    "        array[i] = (void*) intp;\n",
    "    }\n",
    "\n",
    "    for ( i= 0; i < 10; i++) {\n",
    "        printf(\"element %d of array is %x \\n\",i, array[i]);\n",
    "    }\n",
    "    return 1;\n",
    "}"
   ]
  },
  {
   "cell_type": "code",
   "execution_count": 268,
   "metadata": {},
   "outputs": [
    {
     "name": "stderr",
     "output_type": "stream",
     "text": [
      "understanding_pointers.cpp: In function 'int main()':\n",
      "understanding_pointers.cpp:20:58: error: 'void*' is not a pointer-to-object type\n",
      "         printf(\"element %d of array is %x \\n\",i, *array[i]);\n",
      "                                                          ^\n"
     ]
    },
    {
     "name": "stdout",
     "output_type": "stream",
     "text": [
      "hello world!\n",
      "element 0 of array is 777490 \n",
      "element 1 of array is 770150 \n",
      "element 2 of array is 4d4f5250 \n",
      "element 3 of array is 4649444f \n",
      "element 4 of array is 73616228 \n",
      "element 5 of array is 444e4f43 \n",
      "element 6 of array is 4e4f4854 \n",
      "element 7 of array is 5c3a433d \n",
      "element 8 of array is 446d6172 \n",
      "element 9 of array is 63616e41 \n"
     ]
    }
   ],
   "source": [
    "!gcc -o understanding_pointers.exe understanding_pointers.cpp\n",
    "!understanding_pointers.exe"
   ]
  },
  {
   "cell_type": "markdown",
   "metadata": {},
   "source": [
    "## Write wrapper for test functions"
   ]
  },
  {
   "cell_type": "code",
   "execution_count": 56,
   "metadata": {},
   "outputs": [
    {
     "name": "stdout",
     "output_type": "stream",
     "text": [
      "Overwriting functions.c\n"
     ]
    }
   ],
   "source": [
    "%%file functions.c\n",
    "\n",
    "#include <stdio.h>\n",
    "\n",
    "typedef struct Options{\n",
    "    char mode[50];\n",
    "}Option;\n",
    "\n",
    "void hello(Option option);\n",
    "\n",
    "double dprod(double *x, int n);\n",
    "\n",
    "void dcumsum(double *a, double *b, int n);\n",
    "\n",
    "void\n",
    "hello(Option option)\n",
    "{\n",
    "    printf(\"C says hello\\n\");\n",
    "    printf(\"mode is %s\\n\", option.mode);\n",
    "}\n",
    "\n",
    "\n",
    "double \n",
    "dprod(double *x, int n)\n",
    "{\n",
    "    int i;\n",
    "    double y = 1.0;\n",
    "    \n",
    "    for (i = 0; i < n; i++)\n",
    "    {\n",
    "        y *= x[i];\n",
    "    }\n",
    "\n",
    "    return y;\n",
    "}\n",
    "\n",
    "void\n",
    "dcumsum(double *a, double *b, int n)\n",
    "{\n",
    "    int i;\n",
    "    \n",
    "    b[0] = a[0];\n",
    "    for (i = 1; i < n; i++)\n",
    "    {\n",
    "        b[i] = a[i] + b[i-1];\n",
    "    }\n",
    "}\n",
    "\n",
    "#define SMB_MAX_DATA_SIZE 5\n",
    "typedef void* SMBUS_HANDLE;\n",
    "\n",
    "typedef struct _SMB_REQUEST\n",
    "{\n",
    "    unsigned char Address;\n",
    "    unsigned char Command;\n",
    "    unsigned char BlockLength;\n",
    "    unsigned char Data[SMB_MAX_DATA_SIZE];\n",
    "} SMB_REQUEST;\n",
    "\n",
    "int SmBusReadByte(SMBUS_HANDLE handle,SMB_REQUEST *request)\n",
    "{\n",
    "    unsigned char i;\n",
    "    for(i = 0; i < request->BlockLength; i++)\n",
    "        request->Data[i] = i;\n",
    "    return request->BlockLength;\n",
    "}\n",
    "\n",
    "SMBUS_HANDLE OpenSmbus(void)\n",
    "{\n",
    "    return (void*)0x12345678;\n",
    "}\n"
   ]
  },
  {
   "cell_type": "code",
   "execution_count": 57,
   "metadata": {},
   "outputs": [],
   "source": [
    "#!gcc -c -Wall -O2 -Wall -ansi -pedantic -fPIC -o functions.o functions.c\n",
    "!gcc -c -o functions.o functions.c\n",
    "!gcc -o libfunctions.dll -shared functions.o"
   ]
  },
  {
   "cell_type": "code",
   "execution_count": 58,
   "metadata": {},
   "outputs": [
    {
     "name": "stdout",
     "output_type": "stream",
     "text": [
      "Overwriting functions.py\n"
     ]
    }
   ],
   "source": [
    "%%file functions.py\n",
    "\n",
    "import numpy\n",
    "import ctypes\n",
    "from ctypes import *\n",
    "\n",
    "class Options(Structure):\n",
    "    _fields_ = [\n",
    "        (\"mode\", c_char)\n",
    "    ]\n",
    "\n",
    "_libfunctions = numpy.ctypeslib.load_library('libfunctions', '.')\n",
    "\n",
    "_libfunctions.hello.argtypes = [POINTER(Options)]\n",
    "_libfunctions.hello.restype  =  ctypes.c_void_p\n",
    "\n",
    "_libfunctions.dprod.argtypes = [numpy.ctypeslib.ndpointer(dtype=numpy.float), ctypes.c_int]\n",
    "_libfunctions.dprod.restype  = ctypes.c_double\n",
    "\n",
    "_libfunctions.dcumsum.argtypes = [numpy.ctypeslib.ndpointer(dtype=numpy.float), numpy.ctypeslib.ndpointer(dtype=numpy.float), ctypes.c_int]\n",
    "_libfunctions.dcumsum.restype  = ctypes.c_void_p\n",
    "\n",
    "def hello():\n",
    "    option = Options(b\"r\")\n",
    "    return _libfunctions.hello(option)\n",
    "\n",
    "def dprod(x, n=None):\n",
    "    if n is None:\n",
    "        n = len(x)\n",
    "    x = numpy.asarray(x, dtype=numpy.float)\n",
    "    return _libfunctions.dprod(x, int(n))\n",
    "\n",
    "def dcumsum(a, n):\n",
    "    a = numpy.asarray(a, dtype=numpy.float)\n",
    "    b = numpy.empty(len(a), dtype=numpy.float)\n",
    "    _libfunctions.dcumsum(a, b, int(n))\n",
    "    return b"
   ]
  },
  {
   "cell_type": "code",
   "execution_count": 22,
   "metadata": {},
   "outputs": [
    {
     "name": "stdout",
     "output_type": "stream",
     "text": [
      "Overwriting run_hello_c.py\n"
     ]
    }
   ],
   "source": [
    "%%file run_hello_c.py\n",
    "\n",
    "import functions\n",
    "\n",
    "functions.hello()"
   ]
  },
  {
   "cell_type": "code",
   "execution_count": 17,
   "metadata": {},
   "outputs": [
    {
     "name": "stdout",
     "output_type": "stream",
     "text": [
      "Overwriting run_struct_func_c\n"
     ]
    }
   ],
   "source": [
    "%%file run_struct_func_c\n",
    "\n",
    "from ctypes import *\n",
    "SMB_MAX_DATA_SIZE = 5\n",
    "ARRAY5 = c_ubyte * SMB_MAX_DATA_SIZE\n",
    "\n",
    "class SMB_REQUEST(Structure):\n",
    "    _fields_ = [\n",
    "        (\"Address\", c_ubyte),\n",
    "        (\"Command\", c_ubyte),\n",
    "        (\"BlockLength\", c_ubyte),\n",
    "        (\"Data\", ARRAY5)]\n",
    "\n",
    "smbus_read_byte = CDLL('libfunctions').SmBusReadByte\n",
    "smbus_read_byte.argtypes = [c_void_p,POINTER(SMB_REQUEST)]\n",
    "smbus_read_byte.restype = c_int\n",
    "open_smbus = CDLL('libfunctions').OpenSmbus\n",
    "open_smbus.argtypes = []\n",
    "open_smbus.restype = c_void_p\n",
    "\n",
    "handle = open_smbus()\n",
    "print ('handle = %08Xh' % handle)\n",
    "\n",
    "smb_request = SMB_REQUEST(1,2,5)\n",
    "\n",
    "print ('returned =',smbus_read_byte(handle,byref(smb_request)))\n",
    "print ('Address =',smb_request.Address)\n",
    "print ('Command =',smb_request.Command)\n",
    "print ('BlockLength =',smb_request.BlockLength)\n",
    "for i,b in enumerate(smb_request.Data):\n",
    "    print ('Data[%d] = %02Xh' % (i,b))"
   ]
  },
  {
   "cell_type": "code",
   "execution_count": 37,
   "metadata": {},
   "outputs": [
    {
     "name": "stdout",
     "output_type": "stream",
     "text": [
      "handle = 12345678h\n",
      "returned = 5\n",
      "Address = 1\n",
      "Command = 2\n",
      "BlockLength = 5\n",
      "Data[0] = 00h\n",
      "Data[1] = 01h\n",
      "Data[2] = 02h\n",
      "Data[3] = 03h\n",
      "Data[4] = 04h\n"
     ]
    }
   ],
   "source": [
    "!python run_struct_func_c"
   ]
  },
  {
   "cell_type": "code",
   "execution_count": 36,
   "metadata": {},
   "outputs": [
    {
     "name": "stdout",
     "output_type": "stream",
     "text": [
      "C says hello\n",
      "mode is r\n"
     ]
    }
   ],
   "source": [
    "!python run_hello_c.py"
   ]
  },
  {
   "cell_type": "code",
   "execution_count": null,
   "metadata": {},
   "outputs": [],
   "source": [
    "import functions\n",
    "x = [1,2,4,5]\n",
    "functions.dprod(x)"
   ]
  },
  {
   "cell_type": "code",
   "execution_count": 1,
   "metadata": {},
   "outputs": [
    {
     "data": {
      "text/plain": [
       "65536"
      ]
     },
     "execution_count": 1,
     "metadata": {},
     "output_type": "execute_result"
    }
   ],
   "source": [
    "2**16"
   ]
  },
  {
   "cell_type": "code",
   "execution_count": null,
   "metadata": {},
   "outputs": [],
   "source": []
  }
 ],
 "metadata": {
  "kernelspec": {
   "display_name": "Python 3",
   "language": "python",
   "name": "python3"
  },
  "language_info": {
   "codemirror_mode": {
    "name": "ipython",
    "version": 3
   },
   "file_extension": ".py",
   "mimetype": "text/x-python",
   "name": "python",
   "nbconvert_exporter": "python",
   "pygments_lexer": "ipython3",
   "version": "3.6.5"
  }
 },
 "nbformat": 4,
 "nbformat_minor": 2
}
