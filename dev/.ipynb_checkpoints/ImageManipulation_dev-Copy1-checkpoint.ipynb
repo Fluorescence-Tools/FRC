{
 "cells": [
  {
   "cell_type": "code",
   "execution_count": 1,
   "metadata": {},
   "outputs": [],
   "source": [
    "import numpy as np\n",
    "import matplotlib.pyplot as plt\n",
    "import cpp_wrappers\n",
    "import FRCfuncs\n",
    "import os\n",
    "import copy\n",
    "from ImageManipulation import *\n"
   ]
  },
  {
   "cell_type": "code",
   "execution_count": 6,
   "metadata": {},
   "outputs": [],
   "source": []
  },
  {
   "cell_type": "code",
   "execution_count": 2,
   "metadata": {},
   "outputs": [],
   "source": [
    "def saveGRYIm(RGYobj, outfolder, preposition = '', xmin = 0, xmax = -1, ymin = 0, ymax = -1): \n",
    "    #convert all strings to bytes\n",
    "    try: outfolder = outfolder.encode()\n",
    "    except: pass\n",
    "    try: preposition = preposition.encode()\n",
    "    except: pass\n",
    "    try:\n",
    "        os.mkdir(outfolder)\n",
    "        print('creating new folder %s\\n' %os.path.join(outfolder))\n",
    "    except: 'folder already exists'\n",
    "    im = Image.fromarray(RGYobj.G[xmin:xmax, ymin:ymax])\n",
    "    outname = os.path.join(outfolder, preposition + b'imG.tif').decode()\n",
    "    im.save(outname)\n",
    "    im = Image.fromarray(RGYobj.R[xmin:xmax, ymin:ymax])\n",
    "    outname = os.path.join(outfolder, preposition + b'imR.tif').decode()\n",
    "    im.save(outname)\n",
    "    im = Image.fromarray(RGYobj.Y[xmin:xmax, ymin:ymax])\n",
    "    outname = os.path.join(outfolder, preposition + b'imY.tif').decode()\n",
    "    im.save(outname)\n",
    "    return 0"
   ]
  },
  {
   "cell_type": "code",
   "execution_count": 31,
   "metadata": {},
   "outputs": [],
   "source": [
    "plt.imshow?"
   ]
  },
  {
   "cell_type": "code",
   "execution_count": 86,
   "metadata": {},
   "outputs": [
    {
     "name": "stdout",
     "output_type": "stream",
     "text": [
      "header dir already exists\n",
      "b'N:\\\\Singlem\\\\singlem19-3\\\\August\\\\05_Origami_NV_AB_JHB\\\\completely labelled\\\\header\\\\Origami_TLMR_33_ROXS.txt'\n",
      "number of records is 265287\n",
      "N:\\Singlem\\singlem19-3\\August\\05_Origami_NV_AB_JHB\\completely labelled\\header\\Origami_TLMR_33_ROXS.txt\n"
     ]
    },
    {
     "data": {
      "image/png": "[encoded data removed]",
      "text/plain": [
       "<Figure size 432x288 with 2 Axes>"
      ]
     },
     "metadata": {},
     "output_type": "display_data"
    }
   ],
   "source": [
    "\n",
    "f12 = b'Origami_TLMR_12_ROXS.ptu'\n",
    "f33 = b'Origami_TLMR_33_ROXS.ptu'\n",
    "fname = f12\n",
    "wdir = b'N:\\\\Singlem\\\\singlem19-3\\\\August\\\\05_Origami_NV_AB_JHB\\\\completely labelled'\n",
    "\n",
    "fname = os.path.join(wdir, fname)\n",
    "\n",
    "obj = processLifetimeImage(fname, uselines = np.array([1,1,1,2]))\n",
    "outdir = ''\n",
    "obj.loadLifetime()\n",
    "obj.gate(26, 200)\n",
    "obj.loadIntensity()\n",
    "intIm = obj.getIntensity()\n",
    "\n",
    "obj.loadLifetime()\n",
    "obj.gate(26, 200)\n",
    "obj.filterLifetime('smear_lifetime', 3)\n",
    "obj.meanArrivalTime(26, 54)\n",
    "ltIm = obj.getIntensity()\n",
    "saveGRYIm(ltIm, os.path.join(wdir, b'TLMR12_snips'), 'lt', 31, 51, 80, 100)\n",
    "saveGRYIm(intIm, os.path.join(wdir, b'TLMR12_snips'), '', 31, 51, 80, 100)\n",
    "\n",
    "fg_color = 'black'\n",
    "cmap = cm.hot\n",
    "cmap.set_over(color='green')\n",
    "cmap.set_under(color='black')\n",
    "plt.imshow(intIm.Y[31:51,80:100], vmin = 0, vmax = 25, cmap = cmap)\n",
    "fig = plt.gcf()\n",
    "cbaxes = fig.add_axes([0.8, 0.1, 0.05, 0.7])  \n",
    "cbar = plt.colorbar(orientation = 'vertical', fraction = 2, aspect = 7, cax = cbaxes)\n",
    "cbar.ax.yaxis.set_tick_params(color=fg_color)\n",
    "cbar.outline.set_edgecolor(fg_color)\n",
    "\n",
    "cbar.ax.set_yticklabels([0,5,10,15,20,25], fontsize=24, weight='bold')\n",
    "cbytick_obj = plt.getp(cbar.ax.axes, 'yticklabels')                #tricky\n",
    "plt.setp(cbytick_obj, color='w')\n",
    "plt.setp(plt.getp(cbar.ax.axes, 'yticklabels'), color=fg_color)\n",
    "fig.patch.set_facecolor([0,0,0,0]) \n",
    "plt.savefig('20190816sniptest.png', dpi = 300, transparent = True)"
   ]
  },
  {
   "cell_type": "code",
   "execution_count": 3,
   "metadata": {
    "scrolled": false
   },
   "outputs": [
    {
     "name": "stdout",
     "output_type": "stream",
     "text": [
      "b'processing ami_TLMR_12_ROXS.ptu'\n",
      "header dir already exists\n",
      "b'N:\\\\Singlem\\\\singlem19-3\\\\August\\\\05_Origami_NV_AB_JHB\\\\completely labelled\\\\header\\\\Origami_TLMR_12_ROXS.txt'\n",
      "number of records is 248836\n",
      "N:\\Singlem\\singlem19-3\\August\\05_Origami_NV_AB_JHB\\completely labelled\\header\\Origami_TLMR_12_ROXS.txt\n"
     ]
    },
    {
     "ename": "NameError",
     "evalue": "name 'saveim' is not defined",
     "output_type": "error",
     "traceback": [
      "\u001b[1;31m---------------------------------------------------------------------------\u001b[0m",
      "\u001b[1;31mNameError\u001b[0m                                 Traceback (most recent call last)",
      "\u001b[1;32m<ipython-input-3-99e35e3e0d5c>\u001b[0m in \u001b[0;36m<module>\u001b[1;34m()\u001b[0m\n\u001b[0;32m     42\u001b[0m \u001b[1;33m\u001b[0m\u001b[0m\n\u001b[0;32m     43\u001b[0m     \u001b[1;31m#save images\u001b[0m\u001b[1;33m\u001b[0m\u001b[1;33m\u001b[0m\u001b[0m\n\u001b[1;32m---> 44\u001b[1;33m     \u001b[0msaveim\u001b[0m\u001b[1;33m(\u001b[0m\u001b[0mintIm\u001b[0m\u001b[1;33m.\u001b[0m\u001b[0mG\u001b[0m\u001b[1;33m,\u001b[0m \u001b[0mfname\u001b[0m\u001b[1;33m,\u001b[0m \u001b[1;34mb'\\\\imG.tiff'\u001b[0m\u001b[1;33m)\u001b[0m\u001b[1;33m\u001b[0m\u001b[0m\n\u001b[0m\u001b[0;32m     45\u001b[0m     \u001b[0msaveim\u001b[0m\u001b[1;33m(\u001b[0m\u001b[0mintIm\u001b[0m\u001b[1;33m.\u001b[0m\u001b[0mR\u001b[0m\u001b[1;33m,\u001b[0m \u001b[0mfname\u001b[0m\u001b[1;33m,\u001b[0m \u001b[1;34mb'\\\\imR.tiff'\u001b[0m\u001b[1;33m)\u001b[0m\u001b[1;33m\u001b[0m\u001b[0m\n\u001b[0;32m     46\u001b[0m     \u001b[0msaveim\u001b[0m\u001b[1;33m(\u001b[0m\u001b[0mintIm\u001b[0m\u001b[1;33m.\u001b[0m\u001b[0mY\u001b[0m\u001b[1;33m,\u001b[0m \u001b[0mfname\u001b[0m\u001b[1;33m,\u001b[0m \u001b[1;34mb'\\\\imY.tiff'\u001b[0m\u001b[1;33m)\u001b[0m\u001b[1;33m\u001b[0m\u001b[0m\n",
      "\u001b[1;31mNameError\u001b[0m: name 'saveim' is not defined"
     ]
    }
   ],
   "source": [
    "from PIL import Image\n",
    "from matplotlib import cm\n",
    "wdir = b'N:\\\\Singlem\\\\singlem19-3\\\\August\\\\05_Origami_NV_AB_JHB\\\\completely labelled'\n",
    "f6 = b'Origami_TLMR_6_ROXS.ptu'\n",
    "f8 = b'Origami_TLMR_8_ROXS.ptu'\n",
    "f12 = b'Origami_TLMR_12_ROXS.ptu'\n",
    "f16 = b'Origami_TLMR_16_ROXS.ptu'\n",
    "f20 = b'Origami_TLMR_20_ROXS.ptu'\n",
    "f23 = b'Origami_TLMR_23_ROXS.ptu'\n",
    "f24 = b'Origami_TLMR_24_ROXS.ptu'\n",
    "f30 = b'Origami_TLMR_30_ROXS.ptu'\n",
    "f33 = b'Origami_TLMR_33_ROXS.ptu'\n",
    "f35 = b'Origami_TLMR_35_ROXS.ptu'\n",
    "f36 = b'Origami_TLMR_36_ROXS.ptu'\n",
    "f37 = b'Origami_TLMR_37_ROXS.ptu'\n",
    "f44 = b'Origami_TLMR_44_ROXS.ptu'\n",
    "f48 = b'Origami_TLMR_48_ROXS.ptu'\n",
    "f51 = b'Origami_TLMR_51_ROXS.ptu'\n",
    "f52 = b'Origami_TLMR_52_ROXS.ptu'\n",
    "f59 = b'Origami_TLMR_59_ROXS.ptu'\n",
    "f63 = b'Origami_TLMR_63_ROXS.ptu'\n",
    "f67 = b'Origami_TLMR_67_ROXS.ptu'\n",
    "f68 = b'Origami_TLMR_68_ROXS.ptu'\n",
    "f69 = b'Origami_TLMR_69_ROXS.ptu'\n",
    "#f = [f6, f8, f12, f16, f20, f23, f24, f30, f33, f35, f36, f37, f44, f48, f51, f52, f59, f63, f67, f68, f69]\n",
    "f = [f12]\n",
    "fnames = []\n",
    "for el in f:\n",
    "    fnames.append(os.path.join(wdir, el))\n",
    "for fname in fnames:\n",
    "    print(b'processing ' + fname[-20:])\n",
    "    obj = processLifetimeImage(fname, uselines = np.array([1,1,1,2]))\n",
    "    obj.loadLifetime()\n",
    "    obj.gate(26, 200)\n",
    "    obj.loadIntensity()\n",
    "    intIm = obj.getIntensity()  \n",
    "    obj.loadLifetime()\n",
    "    obj.gate(26, 200)\n",
    "    obj.filterLifetime('smear_lifetime', 3)\n",
    "    obj.meanArrivalTime(26, 54)\n",
    "    ltIm = obj.getIntensity()\n",
    "    \n",
    "    #save images\n",
    "    saveim(intIm.G, fname, b'\\\\imG.tiff')\n",
    "    saveim(intIm.R, fname, b'\\\\imR.tiff')\n",
    "    saveim(intIm.Y, fname, b'\\\\imY.tiff')\n",
    "    saveim(ltIm.G, fname, b'\\\\ltG.tiff')\n",
    "    saveim(ltIm.R, fname, b'\\\\ltR.tiff')\n",
    "    saveim(ltIm.Y, fname, b'\\\\ltY.tiff')\n",
    "    \n",
    "    #fig=plt.figure(figsize=(18, 16), dpi= 80, facecolor='w', edgecolor='k')\n",
    "    cmap = cm.hot\n",
    "    cmap.set_over(color='green')\n",
    "    cmap.set_under(color='blue')\n",
    "    plt.imshow(intIm.Y[31:51,80:100], vmin = 1, vmax = 25, cmap = cmap)\n",
    "    plt.colorbar()\n",
    "    plt.show\n"
   ]
  },
  {
   "cell_type": "code",
   "execution_count": 5,
   "metadata": {},
   "outputs": [
    {
     "name": "stdout",
     "output_type": "stream",
     "text": [
      "b'creating new directory:header'\n",
      "b'header\\\\Origami_TLMR_12_ROXS.txt'\n"
     ]
    },
    {
     "ename": "ValueError",
     "evalue": "negative dimensions are not allowed",
     "output_type": "error",
     "traceback": [
      "\u001b[1;31m---------------------------------------------------------------------------\u001b[0m",
      "\u001b[1;31mValueError\u001b[0m                                Traceback (most recent call last)",
      "\u001b[1;32m<ipython-input-5-2ee30ba5511a>\u001b[0m in \u001b[0;36m<module>\u001b[1;34m()\u001b[0m\n\u001b[0;32m      1\u001b[0m \u001b[0mfname\u001b[0m \u001b[1;33m=\u001b[0m \u001b[0mf12\u001b[0m\u001b[1;33m\u001b[0m\u001b[0m\n\u001b[0;32m      2\u001b[0m \u001b[0mos\u001b[0m\u001b[1;33m.\u001b[0m\u001b[0mpath\u001b[0m\u001b[1;33m.\u001b[0m\u001b[0mjoin\u001b[0m\u001b[1;33m(\u001b[0m\u001b[0mwdir\u001b[0m\u001b[1;33m,\u001b[0m \u001b[0mel\u001b[0m\u001b[1;33m)\u001b[0m\u001b[1;33m\u001b[0m\u001b[0m\n\u001b[1;32m----> 3\u001b[1;33m \u001b[0mobj\u001b[0m \u001b[1;33m=\u001b[0m \u001b[0mprocessLifetimeImage\u001b[0m\u001b[1;33m(\u001b[0m\u001b[0mfname\u001b[0m\u001b[1;33m,\u001b[0m \u001b[0muselines\u001b[0m \u001b[1;33m=\u001b[0m \u001b[0mnp\u001b[0m\u001b[1;33m.\u001b[0m\u001b[0marray\u001b[0m\u001b[1;33m(\u001b[0m\u001b[1;33m[\u001b[0m\u001b[1;36m1\u001b[0m\u001b[1;33m,\u001b[0m\u001b[1;36m1\u001b[0m\u001b[1;33m,\u001b[0m\u001b[1;36m1\u001b[0m\u001b[1;33m,\u001b[0m\u001b[1;36m2\u001b[0m\u001b[1;33m]\u001b[0m\u001b[1;33m)\u001b[0m\u001b[1;33m)\u001b[0m\u001b[1;33m\u001b[0m\u001b[0m\n\u001b[0m\u001b[0;32m      4\u001b[0m \u001b[0moutdir\u001b[0m \u001b[1;33m=\u001b[0m \u001b[1;34m''\u001b[0m\u001b[1;33m\u001b[0m\u001b[0m\n\u001b[0;32m      5\u001b[0m \u001b[0mobj\u001b[0m\u001b[1;33m.\u001b[0m\u001b[0mloadLifetime\u001b[0m\u001b[1;33m(\u001b[0m\u001b[1;33m)\u001b[0m\u001b[1;33m\u001b[0m\u001b[0m\n",
      "\u001b[1;32mK:\\vanderVoortN\\FRC\\Code\\ImageManipulation.py\u001b[0m in \u001b[0;36m__init__\u001b[1;34m(self, fname, uselines, Gchan, Rchan, Ychan, ntacs, pulsetime)\u001b[0m\n\u001b[0;32m     36\u001b[0m             \u001b[1;34m\"uselines, Gchan, Ychan and Rchan must be numpy array type!\"\u001b[0m\u001b[1;33m\u001b[0m\u001b[0m\n\u001b[0;32m     37\u001b[0m         \u001b[1;31m#initialize baseLifetimeObject\u001b[0m\u001b[1;33m\u001b[0m\u001b[1;33m\u001b[0m\u001b[0m\n\u001b[1;32m---> 38\u001b[1;33m         \u001b[0mself\u001b[0m\u001b[1;33m.\u001b[0m\u001b[0m_makeLifetime\u001b[0m\u001b[1;33m(\u001b[0m\u001b[0mfname\u001b[0m\u001b[1;33m,\u001b[0m \u001b[0muselines\u001b[0m\u001b[1;33m,\u001b[0m \u001b[0mGchan\u001b[0m\u001b[1;33m,\u001b[0m \u001b[0mRchan\u001b[0m\u001b[1;33m,\u001b[0m \u001b[0mYchan\u001b[0m\u001b[1;33m,\u001b[0m \u001b[0mntacs\u001b[0m\u001b[1;33m)\u001b[0m\u001b[1;33m\u001b[0m\u001b[0m\n\u001b[0m\u001b[0;32m     39\u001b[0m         \u001b[1;31m#initialize baseIntensityObject\u001b[0m\u001b[1;33m\u001b[0m\u001b[1;33m\u001b[0m\u001b[0m\n\u001b[0;32m     40\u001b[0m         \u001b[0mself\u001b[0m\u001b[1;33m.\u001b[0m\u001b[0m_makeIntensity\u001b[0m\u001b[1;33m(\u001b[0m\u001b[1;33m)\u001b[0m\u001b[1;33m\u001b[0m\u001b[0m\n",
      "\u001b[1;32mK:\\vanderVoortN\\FRC\\Code\\ImageManipulation.py\u001b[0m in \u001b[0;36m_makeLifetime\u001b[1;34m(self, fname, uselines, Gchan, Rchan, Ychan, ntacs)\u001b[0m\n\u001b[0;32m    206\u001b[0m         \u001b[0mroot\u001b[0m\u001b[1;33m,\u001b[0m \u001b[0mfile\u001b[0m \u001b[1;33m=\u001b[0m \u001b[0mos\u001b[0m\u001b[1;33m.\u001b[0m\u001b[0mpath\u001b[0m\u001b[1;33m.\u001b[0m\u001b[0msplit\u001b[0m\u001b[1;33m(\u001b[0m\u001b[0mfname\u001b[0m\u001b[1;33m)\u001b[0m\u001b[1;33m\u001b[0m\u001b[0m\n\u001b[0;32m    207\u001b[0m         \u001b[0mNumRecords\u001b[0m \u001b[1;33m=\u001b[0m \u001b[0mcpp_wrappers\u001b[0m\u001b[1;33m.\u001b[0m\u001b[0mptuHeader_wrap\u001b[0m \u001b[1;33m(\u001b[0m\u001b[0mfname\u001b[0m\u001b[1;33m)\u001b[0m\u001b[1;33m\u001b[0m\u001b[0m\n\u001b[1;32m--> 208\u001b[1;33m         \u001b[0meventN\u001b[0m\u001b[1;33m,\u001b[0m \u001b[0mtac\u001b[0m\u001b[1;33m,\u001b[0m \u001b[0mt\u001b[0m\u001b[1;33m,\u001b[0m \u001b[0mcan\u001b[0m \u001b[1;33m=\u001b[0m \u001b[0mcpp_wrappers\u001b[0m\u001b[1;33m.\u001b[0m\u001b[0mptu_wrap\u001b[0m\u001b[1;33m(\u001b[0m\u001b[0mfname\u001b[0m\u001b[1;33m,\u001b[0m \u001b[0mNumRecords\u001b[0m\u001b[1;33m)\u001b[0m\u001b[1;33m\u001b[0m\u001b[0m\n\u001b[0m\u001b[0;32m    209\u001b[0m         \u001b[0mroot\u001b[0m\u001b[1;33m,\u001b[0m \u001b[0mfile\u001b[0m \u001b[1;33m=\u001b[0m \u001b[0mos\u001b[0m\u001b[1;33m.\u001b[0m\u001b[0mpath\u001b[0m\u001b[1;33m.\u001b[0m\u001b[0msplit\u001b[0m\u001b[1;33m(\u001b[0m\u001b[0mfname\u001b[0m\u001b[1;33m)\u001b[0m\u001b[1;33m\u001b[0m\u001b[0m\n\u001b[0;32m    210\u001b[0m         \u001b[0mname\u001b[0m\u001b[1;33m,\u001b[0m \u001b[0m_\u001b[0m \u001b[1;33m=\u001b[0m \u001b[0mos\u001b[0m\u001b[1;33m.\u001b[0m\u001b[0mpath\u001b[0m\u001b[1;33m.\u001b[0m\u001b[0msplitext\u001b[0m\u001b[1;33m(\u001b[0m\u001b[0mfile\u001b[0m\u001b[1;33m)\u001b[0m\u001b[1;33m\u001b[0m\u001b[0m\n",
      "\u001b[1;32mK:\\vanderVoortN\\FRC\\Code\\cpp_wrappers.py\u001b[0m in \u001b[0;36mptu_wrap\u001b[1;34m(fname, NumRecords)\u001b[0m\n\u001b[0;32m     49\u001b[0m     \u001b[0mfpin\u001b[0m \u001b[1;33m=\u001b[0m \u001b[0mctypes\u001b[0m\u001b[1;33m.\u001b[0m\u001b[0mcreate_string_buffer\u001b[0m\u001b[1;33m(\u001b[0m\u001b[0mfname\u001b[0m\u001b[1;33m)\u001b[0m\u001b[1;33m\u001b[0m\u001b[0m\n\u001b[0;32m     50\u001b[0m \u001b[1;33m\u001b[0m\u001b[0m\n\u001b[1;32m---> 51\u001b[1;33m     \u001b[0meventN\u001b[0m \u001b[1;33m=\u001b[0m \u001b[0mnp\u001b[0m\u001b[1;33m.\u001b[0m\u001b[0mzeros\u001b[0m\u001b[1;33m(\u001b[0m\u001b[0mNumRecords\u001b[0m\u001b[1;33m)\u001b[0m\u001b[1;33m.\u001b[0m\u001b[0mastype\u001b[0m\u001b[1;33m(\u001b[0m\u001b[0mnp\u001b[0m\u001b[1;33m.\u001b[0m\u001b[0mint64\u001b[0m\u001b[1;33m)\u001b[0m\u001b[1;33m\u001b[0m\u001b[0m\n\u001b[0m\u001b[0;32m     52\u001b[0m     \u001b[0meventN_p\u001b[0m \u001b[1;33m=\u001b[0m \u001b[0meventN\u001b[0m\u001b[1;33m.\u001b[0m\u001b[0mctypes\u001b[0m\u001b[1;33m.\u001b[0m\u001b[0mdata_as\u001b[0m\u001b[1;33m(\u001b[0m\u001b[0mc_longlong_p\u001b[0m\u001b[1;33m)\u001b[0m\u001b[1;33m\u001b[0m\u001b[0m\n\u001b[0;32m     53\u001b[0m \u001b[1;33m\u001b[0m\u001b[0m\n",
      "\u001b[1;31mValueError\u001b[0m: negative dimensions are not allowed"
     ]
    }
   ],
   "source": []
  },
  {
   "cell_type": "code",
   "execution_count": null,
   "metadata": {},
   "outputs": [],
   "source": []
  }
 ],
 "metadata": {
  "kernelspec": {
   "display_name": "Python 3",
   "language": "python",
   "name": "python3"
  },
  "language_info": {
   "codemirror_mode": {
    "name": "ipython",
    "version": 3
   },
   "file_extension": ".py",
   "mimetype": "text/x-python",
   "name": "python",
   "nbconvert_exporter": "python",
   "pygments_lexer": "ipython3",
   "version": "3.6.5"
  }
 },
 "nbformat": 4,
 "nbformat_minor": 2
}
