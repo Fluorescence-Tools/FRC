{
 "cells": [
  {
   "cell_type": "code",
   "execution_count": 113,
   "metadata": {},
   "outputs": [],
   "source": [
    "import ctypes\n",
    "import numpy as np\n",
    "import os"
   ]
  },
  {
   "cell_type": "code",
   "execution_count": 2,
   "metadata": {},
   "outputs": [],
   "source": [
    "readPTU = ctypes.WinDLL (r\"S:\\64bit dll 's\\PQ_PTU_sf\\release\\PQ_PTU.dll\")"
   ]
  },
  {
   "cell_type": "code",
   "execution_count": 271,
   "metadata": {},
   "outputs": [],
   "source": [
    "def ptuHeader_wrap (fname):\n",
    "    \"\"\"wrapper for PQ_ptuHeader_sf function. \n",
    "    Returns number of entries and writes  the header in a subdirectory named header.\"\"\"\n",
    "    fpin = ctypes.create_string_buffer(fname)\n",
    "    #strip file name for header location\n",
    "    root, file = os.path.split(fname)\n",
    "    name, _ = os.path.splitext(file)\n",
    "    try:\n",
    "        os.mkdir(\"header\")\n",
    "    except:\n",
    "        print(\"header dir already exists\")\n",
    "    outfile =  os.path.join(b\"header\", name + b\".txt\")\n",
    "    fpout = ctypes.create_string_buffer(outfile)\n",
    "    return readPTU.PQ_ptuHeader_sf(fpin,fpout)\n",
    "\n",
    "def ptu_wrap(fname, numRecords):\n",
    "    #initialize variables in memory for the c routine to write in\n",
    "    c_longlong_p = ctypes.POINTER(ctypes.c_longlong) #init class for long long pointer\n",
    "    c_ubyte_p = ctypes.POINTER(ctypes.c_ubyte) #init class for unsigned char pointer\n",
    "    c_int_p = ctypes.POINTER(ctypes.c_int) #init class for int pointer\n",
    "\n",
    "\n",
    "    length = ctypes.c_longlong(NumRecords)\n",
    "\n",
    "    eventN = np.zeros(NumRecords).astype(np.int64)\n",
    "    eventN_p = eventN.ctypes.data_as(c_longlong_p)\n",
    "\n",
    "    tac = np.zeros(NumRecords).astype(np.int32)\n",
    "    tac_p = tac.ctypes.data_as(c_int_p)\n",
    "\n",
    "    t = np.zeros(NumRecords).astype(np.int64)\n",
    "    t_p = t.ctypes.data_as(c_longlong_p)\n",
    "\n",
    "    can = np.zeros(NumRecords).astype(np.uint8)\n",
    "    can_p = can.ctypes.data_as(c_ubyte_p)\n",
    "\n",
    "    j = ctypes.c_longlong()\n",
    "    ov_in = ctypes.c_longlong()\n",
    "    stage = ctypes.c_int()\n",
    "\n",
    "    readPTU.PQ_ptu_sf(fpin, length, eventN_p, tac_p, t_p, can_p, ctypes.byref(j), ctypes.byref(ov_in), ctypes.byref(stage))\n",
    "    \n",
    "    return eventN, tac, t, can\n",
    "\n",
    "import logging\n",
    "logger = logging.getLogger('readptu')\n",
    "def read_header(header_name):\n",
    "    header = np.genfromtxt(r\"header\\\\Crimson20nm_Exc_640_1perc_STED100perc_0016AU.txt\", delimiter = '\\n', dtype = str)\n",
    "    for el in header:\n",
    "        if \"ImgHdr_PixX\" in el:\n",
    "            dimX = int(el[40:])\n",
    "        if \"ImgHdr_PixY\" in el:\n",
    "            dimY = int(el[40:])\n",
    "        if \"ImgHdr_TimePerPixel\" in el:\n",
    "            dwelltime = float(el[40:]) * 1e-3\n",
    "        if \"MeasDesc_GlobalResolution\" in el:\n",
    "            counttime = float(el[40:])\n",
    "    try:\n",
    "        return dimX, dimY, dwelltime, counttime\n",
    "    except NameError:\n",
    "        logger.error(\"not all needed variables were found\")\n",
    "        raise"
   ]
  },
  {
   "cell_type": "code",
   "execution_count": 272,
   "metadata": {},
   "outputs": [
    {
     "name": "stdout",
     "output_type": "stream",
     "text": [
      "header dir already exists\n"
     ]
    }
   ],
   "source": [
    "fname = b\"N:\\\\Singlem\\\\singlem19-1\\\\March\\\\06_FRC_20nmCrimson_NV\\\\STEDPowerSeries\\\\Crimson20nm_Exc_640_1perc_STED100perc_0016AU.ptu\"\n",
    "numRecords = ptuHeader_wrap (fname)\n",
    "eventN, tac, t, can = ptu_wrap(fname, numRecords)\n",
    "root, file = os.path.split(fname)\n",
    "name, _ = os.path.splitext(file)\n",
    "header_name = os.path.join(b\"header\", name + b\".txt\")\n",
    "#header_name = r\"header\\\\Crimson20nm_Exc_640_1perc_STED100perc_0016AU.txt\"\n",
    "dimX, dimY, dwelltime, counttime = read_header(header_name)"
   ]
  },
  {
   "cell_type": "markdown",
   "metadata": {},
   "source": [
    "## Read in PTU files using picoquant routine"
   ]
  },
  {
   "cell_type": "code",
   "execution_count": 273,
   "metadata": {},
   "outputs": [],
   "source": [
    "Rimage = np.zeros((667,667))\n",
    "inscan = False\n",
    "line = 0\n",
    "linescan = 0\n",
    "Nlinescans = 10\n",
    "dwelltime = 10e-6\n",
    "timebin = 25e-9\n",
    "for i in range(NumRecords):\n",
    "    if can[i] == 65: \n",
    "        inscan = True\n",
    "        startline = t[i]\n",
    "    elif can[i] == 66: \n",
    "        inscan = False\n",
    "        linescan += 1\n",
    "        if linescan >= Nlinescans:\n",
    "            line+=1\n",
    "            linescan = 0\n",
    "    elif (can[i] in [1,3] and inscan):\n",
    "        pixel = int((t[i] - startline ) * timebin / dwelltime)\n",
    "        try: \n",
    "            Rimage[line, pixel] += 1\n",
    "        except IndexError:\n",
    "            pass #catch exception that photon arrives at same macrotime as linestop\n",
    "            \n",
    "    elif (can[i] in [0,2] and inscan):\n",
    "        pass #not implemented\n",
    "        "
   ]
  },
  {
   "cell_type": "code",
   "execution_count": 318,
   "metadata": {},
   "outputs": [
    {
     "data": {
      "text/plain": [
       "array([ 1,  3,  3,  1,  3,  3,  3,  3,  3,  3,  3,  3,  1,  1,  1,  3,  3,\n",
       "        1,  3,  1,  1,  3,  3,  1,  1,  3,  3,  3,  1,  1,  1,  1,  3,  3,\n",
       "        1,  3,  3,  3,  1,  3,  3,  1,  1,  3,  1,  3,  3,  1,  1,  3,  3,\n",
       "        1,  3,  3,  3,  1,  3,  1,  3,  3,  1,  3,  1,  1,  3,  1,  1,  3,\n",
       "        3,  1,  1,  3,  1,  1,  3,  1,  1,  1,  3,  1,  3,  3,  3,  1,  1,\n",
       "        3,  1,  1,  3,  1,  3,  3,  3,  1,  1,  1,  3,  1,  1,  1,  3,  3,\n",
       "        1,  3,  1,  3,  3,  3,  3,  3,  3,  3,  3,  3,  1,  1,  1,  1,  3,\n",
       "        3,  3,  1,  3,  3,  3,  1,  3,  1,  3,  1,  3,  3,  3,  3,  1,  3,\n",
       "        3,  3,  3,  3,  3,  3,  3,  3,  1, 68, 65,  3,  3,  3,  3,  1,  1,\n",
       "        1,  1,  1,  3,  1,  1,  1,  3,  1,  3,  3,  3,  3,  3,  3,  1,  1,\n",
       "        3,  1,  3,  3,  1,  1,  1,  1,  1,  1,  1,  3,  1,  3,  1,  1,  1,\n",
       "        3,  1,  3,  3,  1,  1,  3,  3,  3,  3,  3,  3,  3,  3,  3,  3,  1,\n",
       "        3,  3,  1,  3,  1,  3,  1,  3,  3,  3,  3,  3,  3,  3,  3,  3,  3,\n",
       "        3,  3,  1,  3,  1,  3,  3,  1,  1,  3,  3,  1,  1,  3,  3,  1,  3,\n",
       "        1,  1,  1,  3,  3,  3,  1,  3,  1,  1,  1,  1,  3,  3,  1,  3,  3,\n",
       "        3,  1,  3,  3,  3,  1,  3,  3,  3,  3,  3,  3,  3,  3,  3,  3,  3,\n",
       "        3,  1,  3,  1,  1,  1,  1,  3,  3,  3,  3,  3,  3,  3,  1,  1,  1,\n",
       "        1,  1,  3,  1,  1,  1,  1,  3,  1,  1,  3,  1,  3,  3,  3,  3,  3,\n",
       "        1,  1,  3,  1,  1,  3,  3,  3,  3,  1,  1,  3,  3,  3,  3,  3,  1,\n",
       "        1,  1,  1,  1,  1,  1,  1,  3,  3,  1,  3,  1,  3,  3,  1,  3,  3,\n",
       "        1,  3,  3,  3,  3,  3,  1,  3,  3,  1,  3,  3,  3,  1,  3,  3,  1,\n",
       "        3,  1,  1,  1,  3,  3,  1,  1,  1,  3,  3,  1,  1,  1,  1,  3,  1,\n",
       "        3,  1,  1,  1,  1,  3,  3,  1,  3,  1,  1,  3,  1,  1,  3,  3,  3,\n",
       "        1,  3,  1,  1,  1,  3,  3,  1,  1,  3,  1,  1,  3,  1,  3,  1,  3,\n",
       "        1,  1,  1,  3,  1,  1,  3,  3,  3,  3,  3,  3,  3,  1,  1,  3,  3,\n",
       "        1,  3,  3,  1,  1,  1,  1,  3,  3,  1,  1,  1,  3,  3,  3,  3,  3,\n",
       "        1,  1,  1,  1,  1,  1,  1,  1,  1,  3,  3,  3,  3,  1,  1,  3,  3,\n",
       "        1,  1,  3,  3,  3,  3,  3,  1,  1,  3,  1,  1,  3,  3,  3,  3,  3,\n",
       "        1,  3,  3,  1,  1,  3,  3,  3,  1,  3,  3,  3,  3,  3,  3,  1,  3,\n",
       "        3,  1,  3,  3,  1,  3,  1,  3,  3,  3,  3,  3,  3,  1,  1,  3,  1,\n",
       "        1,  3,  3,  1,  3,  1,  3,  1,  3,  3,  3,  1,  1,  1,  1,  1,  3,\n",
       "        3,  3,  3,  3,  1,  1,  3,  1,  3,  1,  1,  1,  1,  3,  3,  1,  3,\n",
       "        1,  1,  3,  1,  1,  1,  1,  1,  3,  1,  3,  3,  3,  1,  1, 66,  3,\n",
       "       65,  3,  1,  3,  3,  3,  3,  1,  3,  3,  3,  3,  1,  1,  3,  1,  3,\n",
       "        1,  3,  1,  3,  3,  3,  3,  1,  1,  1,  3,  3,  1,  1,  1,  3,  1,\n",
       "        1,  3,  3,  1,  3,  3,  3,  1,  3,  3,  3,  3,  3,  1,  3,  1,  3,\n",
       "        1,  3,  1,  3,  3,  3,  3,  1,  1,  3,  3,  1,  1,  3,  3,  3,  1,\n",
       "        3,  1,  1,  3,  1,  1,  1,  3,  3,  3,  3,  1,  3,  3,  3,  1,  1,\n",
       "        3,  1,  1,  1,  3,  3,  3,  3,  3,  1,  1,  3,  3,  1,  3,  1,  3,\n",
       "        3,  3,  3,  3,  3,  1,  3,  3,  3,  3,  1,  3,  3,  3,  1,  1,  3,\n",
       "        3,  1,  3,  3,  1,  1,  3,  3,  3,  1,  1,  3,  1,  1,  1,  3,  1,\n",
       "        3,  3,  3,  3,  1,  1,  1,  1,  3,  1,  3,  3,  3,  1,  3,  3,  3,\n",
       "        3,  3,  3,  1,  1,  1,  1,  3,  1,  1,  3,  3,  3,  1,  3,  1,  3,\n",
       "        3,  1,  3,  3,  1,  3,  1,  3,  3,  1,  3,  3,  1,  1,  1,  1,  3,\n",
       "        1,  1,  1,  1,  1,  1,  1,  1,  3,  1,  1,  3,  1,  1,  1,  3,  1,\n",
       "        1,  1,  3,  3,  3,  3,  1,  1,  3,  3,  3,  3,  3,  3,  3,  3,  1,\n",
       "        3,  3,  3,  3,  3,  3,  3,  3,  1,  3,  3,  1,  1,  3,  3,  3,  1,\n",
       "        3,  3,  3,  1,  1,  3,  3,  3,  1,  1,  1,  3,  1,  3,  3,  1,  3,\n",
       "        3,  3,  1,  3,  3,  3,  3,  1,  1,  1,  1,  1,  3,  1,  1,  3,  1,\n",
       "        1,  3,  3,  1,  3,  3,  3,  1,  3,  3,  1,  3,  3,  1,  3,  1,  1,\n",
       "        1,  1,  3,  3,  3,  3,  3,  1,  3,  1,  1,  1,  3,  3,  3,  3,  1,\n",
       "        3,  3,  1,  3,  3,  1,  1,  1,  3,  1,  3,  3,  1,  1,  1,  1,  3,\n",
       "        3,  1,  1,  3,  1,  1,  1,  3,  1,  3,  3,  1,  3,  1,  1,  3,  3,\n",
       "        3,  3,  3,  3,  3,  3,  1,  3,  3,  1,  1,  3,  3,  3,  1,  3,  1,\n",
       "        3,  3,  1,  3,  3,  1,  1,  3,  3,  3,  3,  1,  3,  1,  3,  1,  3,\n",
       "        1,  3,  3,  3,  1,  3,  1,  1,  3,  1,  1,  3,  1, 66,  1, 65,  3,\n",
       "        1,  1,  3,  1,  3,  3,  3,  1,  3,  3,  3,  3,  1,  1,  1,  3,  1,\n",
       "        3,  1,  3,  3,  3,  3,  3,  1,  1,  3,  1,  3,  3,  3,  1,  3,  3,\n",
       "        3,  1,  3,  1,  3,  1,  1,  1,  3,  3,  3,  3,  1,  1],\n",
       "      dtype=uint8)"
      ]
     },
     "execution_count": 318,
     "metadata": {},
     "output_type": "execute_result"
    }
   ],
   "source": [
    "can[:1000]"
   ]
  },
  {
   "cell_type": "code",
   "execution_count": 274,
   "metadata": {
    "scrolled": true
   },
   "outputs": [
    {
     "data": {
      "text/plain": [
       "<matplotlib.colorbar.Colorbar at 0x22683e2cbe0>"
      ]
     },
     "execution_count": 274,
     "metadata": {},
     "output_type": "execute_result"
    },
    {
     "data": {
      "image/png": "[encoded data removed]",
      "text/plain": [
       "<Figure size 432x288 with 2 Axes>"
      ]
     },
     "metadata": {},
     "output_type": "display_data"
    }
   ],
   "source": [
    "plt.imshow(Rimage)\n",
    "plt.colorbar()"
   ]
  },
  {
   "cell_type": "code",
   "execution_count": 68,
   "metadata": {},
   "outputs": [],
   "source": [
    "linetimes = np.zeros(6670)\n",
    "j = 0\n",
    "for i in range(NumRecords):\n",
    "    if can[i] ==65:\n",
    "        tstart = t[i]\n",
    "    if can[i] ==66:\n",
    "        tstop = t[i]\n",
    "        linetimes[j] = tstop - tstart\n",
    "        j += 1"
   ]
  },
  {
   "cell_type": "code",
   "execution_count": 176,
   "metadata": {},
   "outputs": [
    {
     "data": {
      "text/plain": [
       "array([266808., 266808., 266808., ..., 266804., 266808., 266808.])"
      ]
     },
     "execution_count": 176,
     "metadata": {},
     "output_type": "execute_result"
    }
   ],
   "source": [
    "linetimes"
   ]
  },
  {
   "cell_type": "code",
   "execution_count": 61,
   "metadata": {
    "scrolled": true
   },
   "outputs": [
    {
     "name": "stdout",
     "output_type": "stream",
     "text": [
      "N65 is 6670\n",
      "N66 is 6670\n",
      "N68 is 1\n",
      "i is 0\n"
     ]
    }
   ],
   "source": [
    "i=0\n",
    "N65=0\n",
    "N66=0\n",
    "N68 = 0\n",
    "for el in can:\n",
    "    if el == 65:\n",
    "        N65 +=1\n",
    "    elif el ==66:\n",
    "        N66 += 1\n",
    "    elif el == 68:\n",
    "        N68 += 1\n",
    "    elif el > 4:\n",
    "        print(\"odd element found: \" + str(el))\n",
    "print(\"N65 is \" + str(N65))\n",
    "print(\"N66 is \" + str(N66))\n",
    "print(\"N68 is \" + str(N68))\n",
    "print(\"i is \" + str(i))"
   ]
  },
  {
   "cell_type": "code",
   "execution_count": 344,
   "metadata": {},
   "outputs": [
    {
     "name": "stdout",
     "output_type": "stream",
     "text": [
      "Overwriting ProcessPhotonStream.cpp\n"
     ]
    }
   ],
   "source": [
    "%%file ProcessPhotonStream.cpp\n",
    "\n",
    "#include <stdio.h>\n",
    "\n",
    "extern \"C\" int SplitOnTacs(int * eventN,\n",
    "                          int * tac,\n",
    "                          int * t,\n",
    "                          int * can,\n",
    "                          int dimX,\n",
    "                          int dimY,\n",
    "                          int dwelltime,\n",
    "                          int counttime,\n",
    "                          int NumRecords,\n",
    "                          char * uselines,\n",
    "                          int * imA,\n",
    "                          int * imB){\n",
    "    int i;\n",
    "    \n",
    "    printf(\"the first value of tac is %d\", tac[0]);\n",
    "    return 0;\n",
    "}"
   ]
  },
  {
   "cell_type": "code",
   "execution_count": 345,
   "metadata": {},
   "outputs": [],
   "source": [
    "!gcc -c -o ProcessPhotonStream.o ProcessPhotonStream.cpp\n",
    "!gcc -o ProcessPhotonStream.dll -shared ProcessPhotonStream.o"
   ]
  },
  {
   "cell_type": "code",
   "execution_count": 346,
   "metadata": {},
   "outputs": [
    {
     "name": "stdout",
     "output_type": "stream",
     "text": [
      "Overwriting ptu_wrapper.py\n"
     ]
    }
   ],
   "source": [
    "%%file ptu_wrapper.py\n",
    "\n",
    "import numpy as np\n",
    "import ctypes\n",
    "import os\n",
    "\n",
    "readPTU = ctypes.WinDLL (r\"S:\\64bit dll 's\\PQ_PTU_sf\\release\\PQ_PTU.dll\")\n",
    "_SplitOnTacs = ctypes.CDLL('ProcessPhotonStream.dll').SplitOnTacs\n",
    "\n",
    "def ptuHeader_wrap (fname):\n",
    "    \"\"\"wrapper for PQ_ptuHeader_sf function. \n",
    "    Returns number of entries and writes  the header in a subdirectory named header.\"\"\"\n",
    "    fpin = ctypes.create_string_buffer(fname)\n",
    "    #strip file name for header location\n",
    "    root, file = os.path.split(fname)\n",
    "    name, _ = os.path.splitext(file)\n",
    "    try:\n",
    "        os.mkdir(\"header\")\n",
    "    except:\n",
    "        print(\"header dir already exists\")\n",
    "    outfile =  os.path.join(b\"header\", name + b\".txt\")\n",
    "    fpout = ctypes.create_string_buffer(outfile)\n",
    "    return readPTU.PQ_ptuHeader_sf(fpin,fpout)\n",
    "\n",
    "def ptu_wrap(fname, NumRecords):\n",
    "    #initialize variables in memory for the c routine to write in\n",
    "    c_longlong_p = ctypes.POINTER(ctypes.c_longlong) #init class for long long pointer\n",
    "    c_ubyte_p = ctypes.POINTER(ctypes.c_ubyte) #init class for unsigned char pointer\n",
    "    c_int_p = ctypes.POINTER(ctypes.c_int) #init class for int pointer\n",
    "\n",
    "\n",
    "    length = ctypes.c_longlong(NumRecords)\n",
    "    fpin = ctypes.create_string_buffer(fname)\n",
    "\n",
    "    eventN = np.zeros(NumRecords).astype(np.int64)\n",
    "    eventN_p = eventN.ctypes.data_as(c_longlong_p)\n",
    "\n",
    "    tac = np.zeros(NumRecords).astype(np.int32)\n",
    "    tac_p = tac.ctypes.data_as(c_int_p)\n",
    "\n",
    "    t = np.zeros(NumRecords).astype(np.int64)\n",
    "    t_p = t.ctypes.data_as(c_longlong_p)\n",
    "\n",
    "    can = np.zeros(NumRecords).astype(np.uint8)\n",
    "    can_p = can.ctypes.data_as(c_ubyte_p)\n",
    "\n",
    "    j = ctypes.c_longlong()\n",
    "    ov_in = ctypes.c_longlong()\n",
    "    stage = ctypes.c_int()\n",
    "\n",
    "    readPTU.PQ_ptu_sf(fpin, length, eventN_p, tac_p, t_p, can_p, ctypes.byref(j), ctypes.byref(ov_in), ctypes.byref(stage))\n",
    "    \n",
    "    return eventN, tac, t, can\n",
    "\n",
    "import logging\n",
    "logger = logging.getLogger('readptu')\n",
    "def read_header(header_name):\n",
    "    header = np.genfromtxt(r\"header\\\\Crimson20nm_Exc_640_1perc_STED100perc_0016AU.txt\", delimiter = '\\n', dtype = str)\n",
    "    for el in header:\n",
    "        if \"ImgHdr_PixX\" in el:\n",
    "            dimX = int(el[40:])\n",
    "        if \"ImgHdr_PixY\" in el:\n",
    "            dimY = int(el[40:])\n",
    "        if \"ImgHdr_TimePerPixel\" in el:\n",
    "            dwelltime = float(el[40:]) * 1e-3\n",
    "        if \"MeasDesc_GlobalResolution\" in el:\n",
    "            counttime = float(el[40:])\n",
    "    try:\n",
    "        return dimX, dimY, dwelltime, counttime\n",
    "    except NameError:\n",
    "        logger.error(\"not all needed variables were found\")\n",
    "        raise\n",
    "\n",
    "def SplitOnTacs_wrap(eventN, tac, t, can, dimX, dimY, dwelltime, counttime, NumRecords, uselines = np.array([1])):\n",
    "    c_longlong_p = ctypes.POINTER(ctypes.c_longlong) #init class for long long pointer\n",
    "    c_ubyte_p = ctypes.POINTER(ctypes.c_ubyte) #init class for unsigned char pointer\n",
    "    c_int_p = ctypes.POINTER(ctypes.c_int) #init class for int pointer\n",
    "    \n",
    "    eventN_p = eventN.ctypes.data_as(c_longlong_p)\n",
    "    tac_p = tac.ctypes.data_as(c_int_p)\n",
    "    t_p = t.ctypes.data_as(c_longlong_p)\n",
    "    can_p = can.ctypes.data_as(c_ubyte_p)\n",
    "    C_dimX = ctypes.c_int(dimX)\n",
    "    C_dimY = ctypes.c_int(dimY)\n",
    "    C_dwelltime = ctypes.c_float(dwelltime)\n",
    "    C_counttime = ctypes.c_float(counttime)\n",
    "    C_NumRecords = ctypes.c_int(NumRecords)\n",
    "    uselines_p = uselines.ctypes.data_as(c_ubyte_p)\n",
    "    \n",
    "    #initialize empty arrays and handles for imA, imB\n",
    "    _SplitOnTacs(eventN_p, tac_p, t_p, can_p, C_dimX, C_dimY, C_dwelltime, C_counttime, C_NumRecords, \n",
    "                 uselines_p, imA_p, imB_p)"
   ]
  },
  {
   "cell_type": "code",
   "execution_count": 351,
   "metadata": {},
   "outputs": [
    {
     "name": "stdout",
     "output_type": "stream",
     "text": [
      "Overwriting run_PhStream.py\n"
     ]
    }
   ],
   "source": [
    "%%file run_PhStream.py\n",
    "\n",
    "import ctypes\n",
    "import numpy as np\n",
    "import os\n",
    "from ptu_wrapper import *\n",
    "\n",
    "fname = b\"N:\\\\Singlem\\\\singlem19-1\\\\March\\\\06_FRC_20nmCrimson_NV\\\\STEDPowerSeries\\\\Crimson20nm_Exc_640_1perc_STED100perc_0016AU.ptu\"\n",
    "NumRecords = ptuHeader_wrap (fname)\n",
    "eventN, tac, t, can = ptu_wrap(fname, NumRecords)\n",
    "root, file = os.path.split(fname)\n",
    "name, _ = os.path.splitext(file)\n",
    "header_name = os.path.join(b\"header\", name + b\".txt\")\n",
    "#header_name = r\"header\\\\Crimson20nm_Exc_640_1perc_STED100perc_0016AU.txt\"\n",
    "dimX, dimY, dwelltime, counttime = read_header(header_name)\n",
    "SplitOnTacs_wrap(eventN, tac, t, can, dimX, dimY, dwelltime, counttime, NumRecords, uselines)"
   ]
  },
  {
   "cell_type": "code",
   "execution_count": 352,
   "metadata": {},
   "outputs": [
    {
     "name": "stdout",
     "output_type": "stream",
     "text": [
      "header dir already exists\n",
      "the first value of tac is 10606\n"
     ]
    }
   ],
   "source": [
    "!python run_PhStream.py"
   ]
  },
  {
   "cell_type": "code",
   "execution_count": 353,
   "metadata": {},
   "outputs": [
    {
     "data": {
      "text/plain": [
       "array([1.])"
      ]
     },
     "execution_count": 353,
     "metadata": {},
     "output_type": "execute_result"
    }
   ],
   "source": [
    "np.ones(1)"
   ]
  },
  {
   "cell_type": "code",
   "execution_count": null,
   "metadata": {},
   "outputs": [],
   "source": []
  }
 ],
 "metadata": {
  "kernelspec": {
   "display_name": "Python 3",
   "language": "python",
   "name": "python3"
  },
  "language_info": {
   "codemirror_mode": {
    "name": "ipython",
    "version": 3
   },
   "file_extension": ".py",
   "mimetype": "text/x-python",
   "name": "python",
   "nbconvert_exporter": "python",
   "pygments_lexer": "ipython3",
   "version": "3.6.5"
  }
 },
 "nbformat": 4,
 "nbformat_minor": 2
}
