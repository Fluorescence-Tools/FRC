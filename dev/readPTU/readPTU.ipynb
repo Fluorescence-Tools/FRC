{
 "cells": [
  {
   "cell_type": "code",
   "execution_count": 1,
   "metadata": {},
   "outputs": [],
   "source": [
    "import ctypes\n",
    "import numpy as np"
   ]
  },
  {
   "cell_type": "code",
   "execution_count": 2,
   "metadata": {},
   "outputs": [],
   "source": [
    "readPTU = ctypes.WinDLL (r\"S:\\64bit dll 's\\PQ_PTU_sf\\release\\PQ_PTU.dll\")"
   ]
  },
  {
   "cell_type": "code",
   "execution_count": 21,
   "metadata": {},
   "outputs": [],
   "source": [
    "#some sample files:\n",
    "#fpin = ctypes.create_string_buffer(b\"K:\\\\vanderVoortN\\\\FRC\\\\python\\\\readPTU\\\\images\\\\PQSpcm_2019-02-01_16-37-57.ptu\")#small image file\n",
    "#fpin = ctypes.create_string_buffer(b\"K:\\\\vanderVoortN\\\\python\\\\FRC\\\\Alexa594_exc561_80perc_00052AU1.ptu\")#medium file\n",
    "#fpin = ctypes.create_string_buffer(b\"K:\\\\vanderVoortN\\\\python\\\\FRC\\\\Alexa594_exc561_80perc_00630AU1.ptu\") #big file\n",
    "fpin = ctypes.create_string_buffer(b\"N:\\\\Singlem\\\\singlem19-1\\\\March\\\\06_FRC_20nmCrimson_NV\\\\STEDPowerSeries\\\\Crimson20nm_Exc_640_1perc_STED100perc_0016AU.ptu\")"
   ]
  },
  {
   "cell_type": "code",
   "execution_count": 22,
   "metadata": {},
   "outputs": [
    {
     "name": "stdout",
     "output_type": "stream",
     "text": [
      "2154175\n"
     ]
    }
   ],
   "source": [
    "#call header reader function\n",
    "fpout = ctypes.create_string_buffer(b\"fout.txt\")\n",
    "NumRecords = readPTU.PQ_ptuHeader_sf(fpin,fpout)\n",
    "print(NumRecords)"
   ]
  },
  {
   "cell_type": "markdown",
   "metadata": {},
   "source": [
    "## initialize c compatible variables for reading PTU files"
   ]
  },
  {
   "cell_type": "code",
   "execution_count": 23,
   "metadata": {},
   "outputs": [],
   "source": [
    "c_longlong_p = ctypes.POINTER(ctypes.c_longlong) #init class for long long pointer\n",
    "c_ubyte_p = ctypes.POINTER(ctypes.c_ubyte) #init class for unsigned char pointer\n",
    "c_int_p = ctypes.POINTER(ctypes.c_int) #init class for int pointer\n",
    "\n",
    "\n",
    "length = ctypes.c_longlong(NumRecords)\n",
    "\n",
    "eventN = np.zeros(NumRecords).astype(np.int64)\n",
    "eventN_p = eventN.ctypes.data_as(c_longlong_p)\n",
    "\n",
    "tac = np.zeros(NumRecords).astype(np.int)\n",
    "tac_p = tac.ctypes.data_as(c_int_p)\n",
    "\n",
    "t = np.zeros(NumRecords).astype(np.int64)\n",
    "t_p = t.ctypes.data_as(c_longlong_p)\n",
    "\n",
    "can = np.zeros(NumRecords).astype(np.int)\n",
    "can_p = can.ctypes.data_as(c_ubyte_p)\n",
    "\n",
    "j = ctypes.c_longlong()\n",
    "ov_in = ctypes.c_longlong()\n",
    "stage = ctypes.c_int()\n",
    "\n"
   ]
  },
  {
   "cell_type": "markdown",
   "metadata": {},
   "source": [
    "## Read in PTU files using picoquant routine"
   ]
  },
  {
   "cell_type": "code",
   "execution_count": 24,
   "metadata": {},
   "outputs": [
    {
     "data": {
      "text/plain": [
       "array([      0,     764,   11658,  199560,  221589,  399046,  454303,\n",
       "        479210,  511028,  711176,  869910,  896677, 1004405, 1078446,\n",
       "       1134836, 1135584, 1271555, 1282859, 1301363, 1414739, 1479648,\n",
       "       1489313, 1584978, 1599641, 1640305, 1665700, 1732223, 1812148,\n",
       "       1823159, 1858278, 1876163, 1964751, 2161966, 2185259, 2219329,\n",
       "       2229545, 2242628, 2451484, 2479656, 2502572, 2522662, 2578135,\n",
       "       2651239, 2700108, 3001681, 3091045, 3193492, 3269125, 3366220,\n",
       "       3411958, 3689770, 3741965, 3847813, 3979542, 4101492, 4315554,\n",
       "       4339782, 4485085, 4661307, 4711057, 4791394, 4820018, 4859376,\n",
       "       5127253, 5285187, 5613350, 5805018, 5856351, 6019774, 6104844,\n",
       "       6112697, 6193262, 6231926, 6319755, 6346460, 6347584, 6393590,\n",
       "       6434543, 6449042, 6465063, 6503878, 6597798, 6598587, 6758853,\n",
       "       6825607, 6833510, 6910992, 6915047, 7054983, 7114070, 7119199,\n",
       "       7165994, 7192914, 7372671, 7373546, 7460214, 7709074, 7877858,\n",
       "       8074959, 8226015], dtype=int64)"
      ]
     },
     "execution_count": 24,
     "metadata": {},
     "output_type": "execute_result"
    }
   ],
   "source": [
    "import time\n",
    "starttime = time.time()\n",
    "\n",
    "c_longlong_p = ctypes.POINTER(ctypes.c_longlong) #init class for long long pointer\n",
    "c_ubyte_p = ctypes.POINTER(ctypes.c_ubyte) #init class for unsigned char pointer\n",
    "c_int_p = ctypes.POINTER(ctypes.c_int) #init class for int pointer\n",
    "\n",
    "\n",
    "length = ctypes.c_longlong(NumRecords)\n",
    "\n",
    "eventN = np.zeros(NumRecords).astype(np.int64)\n",
    "eventN_p = eventN.ctypes.data_as(c_longlong_p)\n",
    "\n",
    "tac = np.zeros(NumRecords).astype(np.int)\n",
    "tac_p = tac.ctypes.data_as(c_int_p)\n",
    "\n",
    "t = np.zeros(NumRecords).astype(np.int64)\n",
    "t_p = t.ctypes.data_as(c_longlong_p)\n",
    "\n",
    "can = np.zeros(NumRecords).astype(np.uint8)\n",
    "can_p = can.ctypes.data_as(c_ubyte_p)\n",
    "\n",
    "j = ctypes.c_longlong()\n",
    "ov_in = ctypes.c_longlong()\n",
    "stage = ctypes.c_int()\n",
    "\n",
    "readPTU.PQ_ptu_sf(fpin, length, eventN_p, tac_p, t_p, can_p, ctypes.byref(j), ctypes.byref(ov_in), ctypes.byref(stage))\n",
    "elapsedtime = time.time() - starttime\n",
    "t[:100]-t[0]"
   ]
  },
  {
   "cell_type": "code",
   "execution_count": 25,
   "metadata": {},
   "outputs": [
    {
     "data": {
      "text/plain": [
       "1.314988613128662"
      ]
     },
     "execution_count": 25,
     "metadata": {},
     "output_type": "execute_result"
    }
   ],
   "source": [
    "elapsedtime"
   ]
  },
  {
   "cell_type": "code",
   "execution_count": 13,
   "metadata": {},
   "outputs": [
    {
     "data": {
      "text/plain": [
       "numpy.ndarray"
      ]
     },
     "execution_count": 13,
     "metadata": {},
     "output_type": "execute_result"
    }
   ],
   "source": [
    "type(tac)"
   ]
  },
  {
   "cell_type": "code",
   "execution_count": 26,
   "metadata": {},
   "outputs": [
    {
     "data": {
      "text/plain": [
       "array([ 1,  3,  3,  1,  3,  3,  3,  3,  3,  3,  3,  3,  1,  1,  1,  3,  3,\n",
       "        1,  3,  1,  1,  3,  3,  1,  1,  3,  3,  3,  1,  1,  1,  1,  3,  3,\n",
       "        1,  3,  3,  3,  1,  3,  3,  1,  1,  3,  1,  3,  3,  1,  1,  3,  3,\n",
       "        1,  3,  3,  3,  1,  3,  1,  3,  3,  1,  3,  1,  1,  3,  1,  1,  3,\n",
       "        3,  1,  1,  3,  1,  1,  3,  1,  1,  1,  3,  1,  3,  3,  3,  1,  1,\n",
       "        3,  1,  1,  3,  1,  3,  3,  3,  1,  1,  1,  3,  1,  1,  1,  3,  3,\n",
       "        1,  3,  1,  3,  3,  3,  3,  3,  3,  3,  3,  3,  1,  1,  1,  1,  3,\n",
       "        3,  3,  1,  3,  3,  3,  1,  3,  1,  3,  1,  3,  3,  3,  3,  1,  3,\n",
       "        3,  3,  3,  3,  3,  3,  3,  3,  1, 68, 65,  3,  3,  3,  3,  1,  1,\n",
       "        1,  1,  1,  3,  1,  1,  1,  3,  1,  3,  3,  3,  3,  3,  3,  1,  1,\n",
       "        3,  1,  3,  3,  1,  1,  1,  1,  1,  1,  1,  3,  1,  3,  1,  1,  1,\n",
       "        3,  1,  3,  3,  1,  1,  3,  3,  3,  3,  3,  3,  3,  3,  3,  3,  1,\n",
       "        3,  3,  1,  3,  1,  3,  1,  3,  3,  3,  3,  3,  3,  3,  3,  3,  3,\n",
       "        3,  3,  1,  3,  1,  3,  3,  1,  1,  3,  3,  1,  1,  3,  3,  1,  3,\n",
       "        1,  1,  1,  3,  3,  3,  1,  3,  1,  1,  1,  1,  3,  3,  1,  3,  3,\n",
       "        3,  1,  3,  3,  3,  1,  3,  3,  3,  3,  3,  3,  3,  3,  3,  3,  3,\n",
       "        3,  1,  3,  1,  1,  1,  1,  3,  3,  3,  3,  3,  3,  3,  1,  1,  1,\n",
       "        1,  1,  3,  1,  1,  1,  1,  3,  1,  1,  3,  1,  3,  3,  3,  3,  3,\n",
       "        1,  1,  3,  1,  1,  3,  3,  3,  3,  1,  1,  3,  3,  3,  3,  3,  1,\n",
       "        1,  1,  1,  1,  1,  1,  1,  3,  3,  1,  3,  1,  3,  3,  1,  3,  3,\n",
       "        1,  3,  3,  3,  3,  3,  1,  3,  3,  1,  3,  3,  3,  1,  3,  3,  1,\n",
       "        3,  1,  1,  1,  3,  3,  1,  1,  1,  3,  3,  1,  1,  1,  1,  3,  1,\n",
       "        3,  1,  1,  1,  1,  3,  3,  1,  3,  1,  1,  3,  1,  1,  3,  3,  3,\n",
       "        1,  3,  1,  1,  1,  3,  3,  1,  1,  3,  1,  1,  3,  1,  3,  1,  3,\n",
       "        1,  1,  1,  3,  1,  1,  3,  3,  3,  3,  3,  3,  3,  1,  1,  3,  3,\n",
       "        1,  3,  3,  1,  1,  1,  1,  3,  3,  1,  1,  1,  3,  3,  3,  3,  3,\n",
       "        1,  1,  1,  1,  1,  1,  1,  1,  1,  3,  3,  3,  3,  1,  1,  3,  3,\n",
       "        1,  1,  3,  3,  3,  3,  3,  1,  1,  3,  1,  1,  3,  3,  3,  3,  3,\n",
       "        1,  3,  3,  1,  1,  3,  3,  3,  1,  3,  3,  3,  3,  3,  3,  1,  3,\n",
       "        3,  1,  3,  3,  1,  3,  1,  3,  3,  3,  3,  3,  3,  1,  1,  3,  1,\n",
       "        1,  3,  3,  1,  3,  1,  3,  1,  3,  3,  3,  1,  1,  1,  1,  1,  3,\n",
       "        3,  3,  3,  3,  1,  1,  3,  1,  3,  1,  1,  1,  1,  3,  3,  1,  3,\n",
       "        1,  1,  3,  1,  1,  1,  1,  1,  3,  1,  3,  3,  3,  1,  1, 66,  3,\n",
       "       65,  3,  1,  3,  3,  3,  3,  1,  3,  3,  3,  3,  1,  1,  3,  1,  3,\n",
       "        1,  3,  1,  3,  3,  3,  3,  1,  1,  1,  3,  3,  1,  1,  1,  3,  1,\n",
       "        1,  3,  3,  1,  3,  3,  3,  1,  3,  3,  3,  3,  3,  1,  3,  1,  3,\n",
       "        1,  3,  1,  3,  3,  3,  3,  1,  1,  3,  3,  1,  1,  3,  3,  3,  1,\n",
       "        3,  1,  1,  3,  1,  1,  1,  3,  3,  3,  3,  1,  3,  3,  3,  1,  1,\n",
       "        3,  1,  1,  1,  3,  3,  3,  3,  3,  1,  1,  3,  3,  1,  3,  1,  3,\n",
       "        3,  3,  3,  3,  3,  1,  3,  3,  3,  3,  1,  3,  3,  3,  1,  1,  3,\n",
       "        3,  1,  3,  3,  1,  1,  3,  3,  3,  1,  1,  3,  1,  1,  1,  3,  1,\n",
       "        3,  3,  3,  3,  1,  1,  1,  1,  3,  1,  3,  3,  3,  1,  3,  3,  3,\n",
       "        3,  3,  3,  1,  1,  1,  1,  3,  1,  1,  3,  3,  3,  1,  3,  1,  3,\n",
       "        3,  1,  3,  3,  1,  3,  1,  3,  3,  1,  3,  3,  1,  1,  1,  1,  3,\n",
       "        1,  1,  1,  1,  1,  1,  1,  1,  3,  1,  1,  3,  1,  1,  1,  3,  1,\n",
       "        1,  1,  3,  3,  3,  3,  1,  1,  3,  3,  3,  3,  3,  3,  3,  3,  1,\n",
       "        3,  3,  3,  3,  3,  3,  3,  3,  1,  3,  3,  1,  1,  3,  3,  3,  1,\n",
       "        3,  3,  3,  1,  1,  3,  3,  3,  1,  1,  1,  3,  1,  3,  3,  1,  3,\n",
       "        3,  3,  1,  3,  3,  3,  3,  1,  1,  1,  1,  1,  3,  1,  1,  3,  1,\n",
       "        1,  3,  3,  1,  3,  3,  3,  1,  3,  3,  1,  3,  3,  1,  3,  1,  1,\n",
       "        1,  1,  3,  3,  3,  3,  3,  1,  3,  1,  1,  1,  3,  3,  3,  3,  1,\n",
       "        3,  3,  1,  3,  3,  1,  1,  1,  3,  1,  3,  3,  1,  1,  1,  1,  3,\n",
       "        3,  1,  1,  3,  1,  1,  1,  3,  1,  3,  3,  1,  3,  1,  1,  3,  3,\n",
       "        3,  3,  3,  3,  3,  3,  1,  3,  3,  1,  1,  3,  3,  3,  1,  3,  1,\n",
       "        3,  3,  1,  3,  3,  1,  1,  3,  3,  3,  3,  1,  3,  1,  3,  1,  3,\n",
       "        1,  3,  3,  3,  1,  3,  1,  1,  3,  1,  1,  3,  1, 66,  1, 65,  3,\n",
       "        1,  1,  3,  1,  3,  3,  3,  1,  3,  3,  3,  3,  1,  1,  1,  3,  1,\n",
       "        3,  1,  3,  3,  3,  3,  3,  1,  1,  3,  1,  3,  3,  3,  1,  3,  3,\n",
       "        3,  1,  3,  1,  3,  1,  1,  1,  3,  3,  3,  3,  1,  1],\n",
       "      dtype=uint8)"
      ]
     },
     "execution_count": 26,
     "metadata": {},
     "output_type": "execute_result"
    }
   ],
   "source": [
    "can[:1000]"
   ]
  },
  {
   "cell_type": "code",
   "execution_count": 31,
   "metadata": {
    "scrolled": true
   },
   "outputs": [
    {
     "name": "stdout",
     "output_type": "stream",
     "text": [
      "N65 is 0\n",
      "i is 145\n"
     ]
    }
   ],
   "source": [
    "i=0\n",
    "N65=0\n",
    "N66=0\n",
    "while can[i] < 67:\n",
    "    if can[i] == 65:\n",
    "        N65 +=1\n",
    "    elif can[i] ==66:\n",
    "        N66 += 1\n",
    "    i+=1\n",
    "print(\"N65 is \" + str(N65))\n",
    "print(\"i is \" + str(i))"
   ]
  },
  {
   "cell_type": "code",
   "execution_count": 28,
   "metadata": {},
   "outputs": [],
   "source": [
    "N68 = 0\n",
    "for el in can:\n",
    "    if el == 68:\n",
    "        N68 += 1"
   ]
  },
  {
   "cell_type": "code",
   "execution_count": 29,
   "metadata": {},
   "outputs": [
    {
     "data": {
      "text/plain": [
       "1"
      ]
     },
     "execution_count": 29,
     "metadata": {},
     "output_type": "execute_result"
    }
   ],
   "source": [
    "N68"
   ]
  },
  {
   "cell_type": "code",
   "execution_count": 30,
   "metadata": {},
   "outputs": [
    {
     "data": {
      "text/plain": [
       "6178"
      ]
     },
     "execution_count": 30,
     "metadata": {},
     "output_type": "execute_result"
    }
   ],
   "source": [
    "N66"
   ]
  },
  {
   "cell_type": "code",
   "execution_count": null,
   "metadata": {},
   "outputs": [],
   "source": []
  }
 ],
 "metadata": {
  "kernelspec": {
   "display_name": "Python 3",
   "language": "python",
   "name": "python3"
  },
  "language_info": {
   "codemirror_mode": {
    "name": "ipython",
    "version": 3
   },
   "file_extension": ".py",
   "mimetype": "text/x-python",
   "name": "python",
   "nbconvert_exporter": "python",
   "pygments_lexer": "ipython3",
   "version": "3.6.5"
  }
 },
 "nbformat": 4,
 "nbformat_minor": 2
}
