{
 "cells": [
  {
   "cell_type": "code",
   "execution_count": 1,
   "metadata": {},
   "outputs": [],
   "source": [
    "import ctypes\n",
    "import numpy as np"
   ]
  },
  {
   "cell_type": "code",
   "execution_count": 2,
   "metadata": {},
   "outputs": [],
   "source": [
    "readPTU = ctypes.WinDLL (r\"S:\\64bit dll 's\\PQ_PTU_sf\\release\\PQ_PTU.dll\")"
   ]
  },
  {
   "cell_type": "code",
   "execution_count": 5,
   "metadata": {},
   "outputs": [
    {
     "ename": "TypeError",
     "evalue": "K:\\vanderVoortN\\FRC\\python\\readPTU\\images\\PQSpcm_2019-02-01_16-37-57.ptu",
     "output_type": "error",
     "traceback": [
      "\u001b[1;31m---------------------------------------------------------------------------\u001b[0m",
      "\u001b[1;31mTypeError\u001b[0m                                 Traceback (most recent call last)",
      "\u001b[1;32m<ipython-input-5-800142a527be>\u001b[0m in \u001b[0;36m<module>\u001b[1;34m()\u001b[0m\n\u001b[0;32m      1\u001b[0m \u001b[1;31m#some sample files:\u001b[0m\u001b[1;33m\u001b[0m\u001b[1;33m\u001b[0m\u001b[0m\n\u001b[1;32m----> 2\u001b[1;33m \u001b[0mfpin\u001b[0m \u001b[1;33m=\u001b[0m \u001b[0mctypes\u001b[0m\u001b[1;33m.\u001b[0m\u001b[0mcreate_string_buffer\u001b[0m\u001b[1;33m(\u001b[0m\u001b[1;34mr\"K:\\vanderVoortN\\FRC\\python\\readPTU\\images\\PQSpcm_2019-02-01_16-37-57.ptu\"\u001b[0m\u001b[1;33m)\u001b[0m\u001b[1;31m#small image file\u001b[0m\u001b[1;33m\u001b[0m\u001b[0m\n\u001b[0m\u001b[0;32m      3\u001b[0m \u001b[1;31m#fpin = ctypes.create_string_buffer(b\"K:\\\\vanderVoortN\\\\python\\\\FRC\\\\Alexa594_exc561_80perc_00052AU1.ptu\")#medium file\u001b[0m\u001b[1;33m\u001b[0m\u001b[1;33m\u001b[0m\u001b[0m\n\u001b[0;32m      4\u001b[0m \u001b[1;31m#fpin = ctypes.create_string_buffer(b\"K:\\\\vanderVoortN\\\\python\\\\FRC\\\\Alexa594_exc561_80perc_00630AU1.ptu\") #big file\u001b[0m\u001b[1;33m\u001b[0m\u001b[1;33m\u001b[0m\u001b[0m\n",
      "\u001b[1;32mC:\\ProgramData\\Anaconda3\\lib\\ctypes\\__init__.py\u001b[0m in \u001b[0;36mcreate_string_buffer\u001b[1;34m(init, size)\u001b[0m\n\u001b[0;32m     61\u001b[0m         \u001b[0mbuf\u001b[0m \u001b[1;33m=\u001b[0m \u001b[0mbuftype\u001b[0m\u001b[1;33m(\u001b[0m\u001b[1;33m)\u001b[0m\u001b[1;33m\u001b[0m\u001b[0m\n\u001b[0;32m     62\u001b[0m         \u001b[1;32mreturn\u001b[0m \u001b[0mbuf\u001b[0m\u001b[1;33m\u001b[0m\u001b[0m\n\u001b[1;32m---> 63\u001b[1;33m     \u001b[1;32mraise\u001b[0m \u001b[0mTypeError\u001b[0m\u001b[1;33m(\u001b[0m\u001b[0minit\u001b[0m\u001b[1;33m)\u001b[0m\u001b[1;33m\u001b[0m\u001b[0m\n\u001b[0m\u001b[0;32m     64\u001b[0m \u001b[1;33m\u001b[0m\u001b[0m\n\u001b[0;32m     65\u001b[0m \u001b[1;32mdef\u001b[0m \u001b[0mc_buffer\u001b[0m\u001b[1;33m(\u001b[0m\u001b[0minit\u001b[0m\u001b[1;33m,\u001b[0m \u001b[0msize\u001b[0m\u001b[1;33m=\u001b[0m\u001b[1;32mNone\u001b[0m\u001b[1;33m)\u001b[0m\u001b[1;33m:\u001b[0m\u001b[1;33m\u001b[0m\u001b[0m\n",
      "\u001b[1;31mTypeError\u001b[0m: K:\\vanderVoortN\\FRC\\python\\readPTU\\images\\PQSpcm_2019-02-01_16-37-57.ptu"
     ]
    }
   ],
   "source": [
    "#some sample files:\n",
    "fpin = ctypes.create_string_buffer(b\"K:\\\\vanderVoortN\\\\FRC\\python\\readPTU\\images\\PQSpcm_2019-02-01_16-37-57.ptu\")#small image file\n",
    "#fpin = ctypes.create_string_buffer(b\"K:\\\\vanderVoortN\\\\python\\\\FRC\\\\Alexa594_exc561_80perc_00052AU1.ptu\")#medium file\n",
    "#fpin = ctypes.create_string_buffer(b\"K:\\\\vanderVoortN\\\\python\\\\FRC\\\\Alexa594_exc561_80perc_00630AU1.ptu\") #big file"
   ]
  },
  {
   "cell_type": "code",
   "execution_count": 4,
   "metadata": {},
   "outputs": [
    {
     "name": "stdout",
     "output_type": "stream",
     "text": [
      "-1\n"
     ]
    }
   ],
   "source": [
    "#call header reader function\n",
    "fpout = ctypes.create_string_buffer(b\"fout.txt\")\n",
    "NumRecords = readPTU.PQ_ptuHeader_sf(fpin,fpout)\n",
    "print(NumRecords)"
   ]
  },
  {
   "cell_type": "markdown",
   "metadata": {},
   "source": [
    "## initialize c compatible variables for reading PTU files"
   ]
  },
  {
   "cell_type": "code",
   "execution_count": 13,
   "metadata": {},
   "outputs": [],
   "source": [
    "c_longlong_p = ctypes.POINTER(ctypes.c_longlong) #init class for long long pointer\n",
    "c_ubyte_p = ctypes.POINTER(ctypes.c_ubyte) #init class for unsigned char pointer\n",
    "c_int_p = ctypes.POINTER(ctypes.c_int) #init class for int pointer\n",
    "\n",
    "\n",
    "length = ctypes.c_longlong(NumRecords)\n",
    "\n",
    "eventN = np.zeros(NumRecords).astype(np.int64)\n",
    "eventN_p = eventN.ctypes.data_as(c_longlong_p)\n",
    "\n",
    "tac = np.zeros(NumRecords).astype(np.int)\n",
    "tac_p = tac.ctypes.data_as(c_int_p)\n",
    "\n",
    "t = np.zeros(NumRecords).astype(np.int64)\n",
    "t_p = t.ctypes.data_as(c_longlong_p)\n",
    "\n",
    "can = np.zeros(NumRecords).astype(np.int)\n",
    "can_p = can.ctypes.data_as(c_ubyte_p)\n",
    "\n",
    "j = ctypes.c_longlong()\n",
    "ov_in = ctypes.c_longlong()\n",
    "stage = ctypes.c_int()\n",
    "\n"
   ]
  },
  {
   "cell_type": "markdown",
   "metadata": {},
   "source": [
    "## Read in PTU files using picoquant routine"
   ]
  },
  {
   "cell_type": "code",
   "execution_count": 55,
   "metadata": {},
   "outputs": [
    {
     "data": {
      "text/plain": [
       "array([      0,     747,     924,    1040,   30803,   40387,   47939,\n",
       "         64184,   91910,  108754,  112644,  134234,  178853,  217118,\n",
       "        277617,  297473,  303655,  313938,  363083,  414274,  440719,\n",
       "        455553,  544113,  544234,  583284,  608874,  630658,  687761,\n",
       "        751081,  831058,  852859,  862910,  890442,  912036,  921488,\n",
       "        969963,  992360, 1061634, 1079467, 1093892, 1228137, 1243705,\n",
       "       1264757, 1279898, 1287153, 1307725, 1318195, 1431986, 1457518,\n",
       "       1506008, 1543147, 1585832, 1600495, 1664689, 1729261, 1734671,\n",
       "       1825549, 1864320, 1883168, 1892460, 1948230, 1968899, 1988288,\n",
       "       2143320, 2209236, 2209270, 2219676, 2266155, 2278781, 2295105,\n",
       "       2321344, 2325892, 2341837, 2350882, 2382689, 2399482, 2433421,\n",
       "       2481207, 2538607, 2544430, 2569096, 2601052, 2622277, 2647622,\n",
       "       2800635, 2896027, 2951121, 2965255, 2983034, 2984950, 2998682,\n",
       "       3004507, 3005779, 3009331, 3080581, 3117985, 3147045, 3281205,\n",
       "       3283003, 3347795], dtype=int64)"
      ]
     },
     "execution_count": 55,
     "metadata": {},
     "output_type": "execute_result"
    }
   ],
   "source": [
    "import time\n",
    "starttime = time.time()\n",
    "\n",
    "c_longlong_p = ctypes.POINTER(ctypes.c_longlong) #init class for long long pointer\n",
    "c_ubyte_p = ctypes.POINTER(ctypes.c_ubyte) #init class for unsigned char pointer\n",
    "c_int_p = ctypes.POINTER(ctypes.c_int) #init class for int pointer\n",
    "\n",
    "\n",
    "length = ctypes.c_longlong(NumRecords)\n",
    "\n",
    "eventN = np.zeros(NumRecords).astype(np.int64)\n",
    "eventN_p = eventN.ctypes.data_as(c_longlong_p)\n",
    "\n",
    "tac = np.zeros(NumRecords).astype(np.int)\n",
    "tac_p = tac.ctypes.data_as(c_int_p)\n",
    "\n",
    "t = np.zeros(NumRecords).astype(np.int64)\n",
    "t_p = t.ctypes.data_as(c_longlong_p)\n",
    "\n",
    "can = np.zeros(NumRecords).astype(np.uint8)\n",
    "can_p = can.ctypes.data_as(c_ubyte_p)\n",
    "\n",
    "j = ctypes.c_longlong()\n",
    "ov_in = ctypes.c_longlong()\n",
    "stage = ctypes.c_int()\n",
    "\n",
    "readPTU.PQ_ptu_sf(fpin, length, eventN_p, tac_p, t_p, can_p, ctypes.byref(j), ctypes.byref(ov_in), ctypes.byref(stage))\n",
    "elapsedtime = time.time() - starttime\n",
    "t[:100]-t[0]"
   ]
  },
  {
   "cell_type": "code",
   "execution_count": 56,
   "metadata": {},
   "outputs": [
    {
     "data": {
      "text/plain": [
       "0.35003161430358887"
      ]
     },
     "execution_count": 56,
     "metadata": {},
     "output_type": "execute_result"
    }
   ],
   "source": [
    "elapsedtime"
   ]
  },
  {
   "cell_type": "code",
   "execution_count": 59,
   "metadata": {},
   "outputs": [
    {
     "data": {
      "text/plain": [
       "numpy.ndarray"
      ]
     },
     "execution_count": 59,
     "metadata": {},
     "output_type": "execute_result"
    }
   ],
   "source": [
    "type(tac)"
   ]
  },
  {
   "cell_type": "code",
   "execution_count": 65,
   "metadata": {},
   "outputs": [
    {
     "data": {
      "text/plain": [
       "array([ 0,  1,  2,  3,  2,  1,  0,  1,  3,  0,  2,  3,  2,  0,  2,  3,  0,\n",
       "        2,  0,  2,  3,  0,  2,  1,  3,  2,  3,  3,  3,  0,  0,  2,  0,  0,\n",
       "        1,  3,  3,  3,  0,  3,  1,  0,  0,  2,  0,  0,  2,  3,  1,  0,  1,\n",
       "        0,  3,  0,  0,  1,  0,  0,  1,  3,  2,  1,  3,  0,  2,  2,  2,  2,\n",
       "        3,  1,  2,  3,  0,  3,  3,  2,  3,  3,  1,  0,  2,  3,  3,  3,  1,\n",
       "        0,  3,  0,  0,  1,  2,  2,  0,  2,  3,  2,  2,  0,  1,  2,  1,  2,\n",
       "        0,  3,  2,  2,  1,  2,  2,  0,  1,  3,  1,  3,  0,  3,  0,  2,  3,\n",
       "        1,  0,  3,  0,  3,  3,  1,  3,  2,  1,  0,  0,  2,  1,  2,  0,  3,\n",
       "        2,  3,  1,  2,  2,  0,  3,  2,  0,  0,  2,  3,  0,  3,  0,  3,  2,\n",
       "        1,  3,  0,  3,  0,  2,  1,  0,  3,  0,  3,  2,  0,  2,  0,  1,  3,\n",
       "        2,  1,  1,  2,  3,  0,  1,  2,  3,  0,  3,  3,  3,  1,  2,  1,  3,\n",
       "        3,  3,  2,  2,  3,  2,  0,  0,  0,  3,  0,  3,  2,  1,  3,  1,  1,\n",
       "        0,  2,  2,  1,  0,  3,  0,  0,  2,  0,  3,  0,  1,  2,  0,  0,  3,\n",
       "        2,  3,  1,  0,  2,  0,  0,  2,  1,  2,  2,  3,  3,  1,  3,  0,  1,\n",
       "        0,  3,  3,  3,  0,  3,  2,  0,  0,  2,  1,  0,  0,  1,  1,  2,  3,\n",
       "        3,  2,  0,  1,  0,  2,  3,  1,  3,  3,  3,  3,  3,  0,  0,  1,  3,\n",
       "        0,  3,  2,  0,  2,  0,  0,  3,  0,  3,  1,  0,  3,  1,  0,  3,  2,\n",
       "        3,  0,  2,  3,  1,  2,  2,  2,  3,  0,  3,  3,  2,  0,  3,  1,  3,\n",
       "        1,  0,  3,  1,  2,  1,  2,  0,  1,  3,  3,  3,  0,  3,  1,  1,  2,\n",
       "        1,  2,  0,  0,  3,  1,  3,  3,  0,  3,  2, 68,  3, 65,  1,  3,  0,\n",
       "        0,  3,  1,  2,  0,  0,  3,  0,  3,  0,  3,  3,  1,  2,  1,  3,  0,\n",
       "        0,  1,  1,  2,  3,  2,  3,  0,  1,  3,  1,  1,  0,  2,  0,  2,  0,\n",
       "        3,  3,  3,  1,  2,  3,  1,  3,  0,  0,  2,  3,  2,  2,  2,  3,  0,\n",
       "        3,  2,  0,  3,  3,  3,  3,  2, 66,  3, 65,  0,  2,  2,  0,  2,  3,\n",
       "        0,  2,  3,  2,  3,  1,  2,  2,  0,  2,  3, 66, 65,  0,  1,  0,  2,\n",
       "        3,  2,  1,  3,  2,  2,  2,  2,  3,  2,  2,  3,  2,  3,  0,  0,  3,\n",
       "        3,  0,  3,  3,  1,  3,  2,  3,  2,  3,  3,  2,  0,  1,  3,  3,  3,\n",
       "        3,  2,  1,  2,  2,  3,  2,  0,  1,  3,  2,  1,  2,  1,  3,  3,  1,\n",
       "        3,  2,  0,  3,  2,  3,  1,  1,  2,  2,  2,  1,  3, 66,  0, 65,  1,\n",
       "        1,  0,  0,  3,  1,  0,  2,  0,  1,  2,  0,  1,  1,  2,  0,  2,  3,\n",
       "        2,  2, 66, 65,  1,  3,  1,  1,  1,  2,  3,  0,  3,  1,  3,  1,  2,\n",
       "        1,  1,  1,  0,  3,  1,  1,  2,  2,  0,  0,  0,  1,  3,  0,  1,  3,\n",
       "        2,  1,  1,  0,  2,  2,  3,  3,  0,  3,  3,  2,  2,  2,  0,  2,  3,\n",
       "        2,  2,  3,  3,  2,  0,  1,  0,  2,  2,  2,  0,  1,  0,  2,  0,  3,\n",
       "        1,  1,  0,  0,  1,  0,  0,  2, 66,  0,  0, 65,  2,  3,  2,  3,  0,\n",
       "        0,  2,  3,  3,  2,  2, 66, 65,  3,  1,  0,  2,  2,  1,  2,  3,  1,\n",
       "        3,  2,  2,  2,  3,  0,  2,  0,  3,  2,  1,  2,  3,  3,  3,  3,  3,\n",
       "        3,  2,  2,  2,  2,  3,  3,  2,  3,  3,  0,  3,  2,  3,  2,  1,  2,\n",
       "        0,  1,  3,  0,  2,  1,  3,  1,  3,  3,  1,  0,  3,  1,  3,  2,  3,\n",
       "        3,  3,  3,  2,  1,  2,  0,  0,  2,  3,  3,  1, 66,  0, 65,  0,  0,\n",
       "        3,  3,  2,  3,  2,  1,  2,  3, 66,  2, 65,  1,  1,  3,  2,  1,  3,\n",
       "        3,  3,  3,  2,  3,  1,  3,  3,  2,  1,  1,  2,  0,  3,  3,  3,  1,\n",
       "        2,  3,  2,  3,  2,  0,  1,  2,  2,  2,  0,  2,  0,  3,  3,  2,  2,\n",
       "        2,  3,  3,  1,  2,  3,  3,  3,  2,  0,  1,  1,  2,  2,  3,  0,  3,\n",
       "        3,  2,  3, 66,  2,  3, 65,  1,  3,  2,  3,  1,  1,  0,  0,  3,  3,\n",
       "        2, 66,  0,  3, 65,  1,  3,  2,  2,  0,  1,  0,  2,  1,  3,  3,  1,\n",
       "        3,  2,  0,  2,  3,  1,  0,  3,  2,  3,  1,  0,  2,  3,  2,  0,  2,\n",
       "        3,  0,  3,  2,  3,  3,  1,  1,  2,  3,  2,  1,  3,  2,  3,  3,  3,\n",
       "        2,  3,  2,  2,  2,  2,  3,  3,  3,  3,  1,  2,  0,  3,  3, 66,  2,\n",
       "       65,  2,  3,  2,  2,  2,  2,  2,  1,  3,  2,  2,  2, 66, 65,  2,  3,\n",
       "        0,  1,  3,  3,  0,  3,  3,  3,  2,  0,  0,  0,  3,  1,  3,  2,  1,\n",
       "        3,  2,  2,  2,  3,  1,  2,  3,  3,  2,  1,  1,  1,  2,  3,  2,  0,\n",
       "        2,  3,  2,  1,  2,  3,  2,  2,  2,  1,  2,  2,  2,  1,  2,  1,  3,\n",
       "        2,  2,  3,  2,  2,  2,  0,  2,  3,  3,  3,  2,  3,  1,  0,  0,  1,\n",
       "       66, 65,  2,  2,  0,  2,  3,  2,  3,  3,  3,  2,  1,  3,  2,  0,  3,\n",
       "       66, 65,  1,  3,  2,  3,  2,  3,  0,  1,  0,  3,  2,  1,  2,  1,  2,\n",
       "        2,  2,  3,  0,  0,  1,  3,  3,  2,  1,  0,  2,  2,  0,  1,  2,  2,\n",
       "        3,  2,  0,  3,  3,  0,  2,  2,  3,  0,  0,  1,  1,  3,  3,  3,  1,\n",
       "        2,  2,  2,  2,  1,  2,  2,  2,  3,  2, 66,  0, 65,  3],\n",
       "      dtype=uint8)"
      ]
     },
     "execution_count": 65,
     "metadata": {},
     "output_type": "execute_result"
    }
   ],
   "source": [
    "can[:1000]"
   ]
  },
  {
   "cell_type": "code",
   "execution_count": 73,
   "metadata": {},
   "outputs": [
    {
     "name": "stdout",
     "output_type": "stream",
     "text": [
      "N65 is 500/n\n",
      "i is 225296/n\n"
     ]
    }
   ],
   "source": [
    "i=112317\n",
    "N65=0\n",
    "N66=0\n",
    "while can[i] < 67:\n",
    "    if can[i] == 65:\n",
    "        N65 +=1\n",
    "    elif can[i] ==66:\n",
    "        N66 += 1\n",
    "    i+=1\n",
    "print(\"N65 is \" + str(N65) + \"/n\")\n",
    "print(\"i is \" + str(i) + \"/n\")"
   ]
  },
  {
   "cell_type": "code",
   "execution_count": 74,
   "metadata": {},
   "outputs": [],
   "source": [
    "N68 = 0\n",
    "for el in can:\n",
    "    if el == 68:\n",
    "        N68 += 1"
   ]
  },
  {
   "cell_type": "code",
   "execution_count": 75,
   "metadata": {},
   "outputs": [
    {
     "data": {
      "text/plain": [
       "51"
      ]
     },
     "execution_count": 75,
     "metadata": {},
     "output_type": "execute_result"
    }
   ],
   "source": [
    "N68"
   ]
  },
  {
   "cell_type": "code",
   "execution_count": 76,
   "metadata": {},
   "outputs": [
    {
     "data": {
      "text/plain": [
       "500"
      ]
     },
     "execution_count": 76,
     "metadata": {},
     "output_type": "execute_result"
    }
   ],
   "source": [
    "N66"
   ]
  },
  {
   "cell_type": "code",
   "execution_count": null,
   "metadata": {},
   "outputs": [],
   "source": []
  }
 ],
 "metadata": {
  "kernelspec": {
   "display_name": "Python 3",
   "language": "python",
   "name": "python3"
  },
  "language_info": {
   "codemirror_mode": {
    "name": "ipython",
    "version": 3
   },
   "file_extension": ".py",
   "mimetype": "text/x-python",
   "name": "python",
   "nbconvert_exporter": "python",
   "pygments_lexer": "ipython3",
   "version": "3.6.5"
  }
 },
 "nbformat": 4,
 "nbformat_minor": 2
}
