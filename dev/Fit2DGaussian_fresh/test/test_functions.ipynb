{
 "cells": [
  {
   "cell_type": "code",
   "execution_count": 90,
   "metadata": {},
   "outputs": [
    {
     "data": {
      "text/plain": [
       "0"
      ]
     },
     "execution_count": 90,
     "metadata": {},
     "output_type": "execute_result"
    }
   ],
   "source": [
    "import numpy as np\n",
    "import matplotlib.pyplot as plt\n",
    "import sys\n",
    "import os\n",
    "buildloc = r'K:\\vanderVoortN\\FRC\\dev\\Fit2DGaussian_fresh\\build\\Debug'\n",
    "sys.path.append(buildloc)\n",
    "import GaussFits"
   ]
  },
  {
   "cell_type": "code",
   "execution_count": 2,
   "metadata": {},
   "outputs": [],
   "source": [
    "params = np.array([5,5,5,2,1,1, 10, 10, 10, 15, 15, 5])\n",
    "model = np.zeros([20,20])"
   ]
  },
  {
   "cell_type": "code",
   "execution_count": 3,
   "metadata": {},
   "outputs": [],
   "source": [
    "model = GaussFits.modelThree2DGaussian(params, model)\n",
    "noisy = np.random.poisson(model)"
   ]
  },
  {
   "cell_type": "code",
   "execution_count": 4,
   "metadata": {
    "scrolled": true
   },
   "outputs": [
    {
     "data": {
      "text/plain": [
       "<matplotlib.image.AxesImage at 0x1e9ddce9e48>"
      ]
     },
     "execution_count": 4,
     "metadata": {},
     "output_type": "execute_result"
    },
    {
     "data": {
      "image/png": "[encoded data removed]",
      "text/plain": [
       "<Figure size 432x288 with 1 Axes>"
      ]
     },
     "metadata": {
      "needs_background": "light"
     },
     "output_type": "display_data"
    }
   ],
   "source": [
    "plt.imshow(noisy)"
   ]
  },
  {
   "cell_type": "code",
   "execution_count": 6,
   "metadata": {},
   "outputs": [],
   "source": [
    "params0 = np.array([4, #x0\n",
    "                    5,#y0\n",
    "                    5, #A0\n",
    "                    2, #sigma\n",
    "                    1,#eps\n",
    "                    1, #bg\n",
    "                    10, # x1\n",
    "                    10, #y1\n",
    "                    10, #A1\n",
    "                    15, #x2\n",
    "                    15, #y2\n",
    "                    5, #A2\n",
    "                    0, #info\n",
    "                    0, #wi_nowi\n",
    "                    0, #fitbg\n",
    "                    1, #ellipt_circ\n",
    "                    2, #model\n",
    "                    0]) # two Istar\n",
    "\n",
    "params = GaussFits.Fit2DGauss(params0, noisy)"
   ]
  },
  {
   "cell_type": "code",
   "execution_count": 7,
   "metadata": {},
   "outputs": [
    {
     "data": {
      "text/plain": [
       "array([ 4.49835161,  5.32009408,  5.43811657,  1.98140734,  1.        ,\n",
       "        1.18903861, 10.16070313,  9.90210672, 10.51559159, 14.7876337 ,\n",
       "       14.64483162,  4.39278765,  4.        ,  0.        ,  0.        ,\n",
       "        1.        ,  2.        ,  0.76514921])"
      ]
     },
     "execution_count": 7,
     "metadata": {},
     "output_type": "execute_result"
    }
   ],
   "source": [
    "params"
   ]
  },
  {
   "cell_type": "code",
   "execution_count": 280,
   "metadata": {},
   "outputs": [
    {
     "data": {
      "text/plain": [
       "<matplotlib.image.AxesImage at 0x14ebd6c4908>"
      ]
     },
     "execution_count": 280,
     "metadata": {},
     "output_type": "execute_result"
    },
    {
     "data": {
      "image/png": "[encoded data removed]",
      "text/plain": [
       "<Figure size 432x288 with 1 Axes>"
      ]
     },
     "metadata": {
      "needs_background": "light"
     },
     "output_type": "display_data"
    }
   ],
   "source": [
    "reconstructedmodel = GaussFits.modelThree2DGaussian(params[:12], np.zeros([20,20]))\n",
    "data = gaussian_filter(noisy.astype(np.double), 1)\n",
    "plt.imshow(data)"
   ]
  },
  {
   "cell_type": "code",
   "execution_count": 10,
   "metadata": {},
   "outputs": [
    {
     "data": {
      "text/plain": [
       "<matplotlib.colorbar.Colorbar at 0x1dc4a87dc48>"
      ]
     },
     "execution_count": 10,
     "metadata": {},
     "output_type": "execute_result"
    },
    {
     "data": {
      "image/png": "[encoded data removed]",
      "text/plain": [
       "<Figure size 432x288 with 2 Axes>"
      ]
     },
     "metadata": {
      "needs_background": "light"
     },
     "output_type": "display_data"
    }
   ],
   "source": [
    "plt.imshow(reconstructedmodel)\n",
    "plt.colorbar()"
   ]
  },
  {
   "cell_type": "code",
   "execution_count": 279,
   "metadata": {},
   "outputs": [
    {
     "data": {
      "image/png": "[encoded data removed]",
      "text/plain": [
       "<Figure size 432x288 with 1 Axes>"
      ]
     },
     "metadata": {
      "needs_background": "light"
     },
     "output_type": "display_data"
    },
    {
     "name": "stdout",
     "output_type": "stream",
     "text": [
      "1 gauss 1.00 \t 2 gauss 1.00 \t 3 gauss 1.00\n",
      "1 gauss 0.93 \t 2 gauss nan \t 3 gauss nan\n",
      "1 gauss 0.95 \t 2 gauss 1.00 \t 3 gauss 0.99\n",
      "1 gauss nan \t 2 gauss nan \t 3 gauss 1.00\n",
      "1 gauss 0.90 \t 2 gauss nan \t 3 gauss 0.99\n",
      "1 gauss 1.00 \t 2 gauss 0.99 \t 3 gauss 1.00\n",
      "1 gauss 0.99 \t 2 gauss 1.00 \t 3 gauss 1.00\n",
      "1 gauss 0.90 \t 2 gauss nan \t 3 gauss 0.80\n",
      "1 gauss 0.99 \t 2 gauss 1.00 \t 3 gauss 0.99\n",
      "1 gauss 0.90 \t 2 gauss nan \t 3 gauss nan\n",
      "1 gauss 0.90 \t 2 gauss 0.85 \t 3 gauss 1.00\n",
      "1 gauss 1.00 \t 2 gauss 1.00 \t 3 gauss 1.00\n",
      "1 gauss 1.00 \t 2 gauss 1.00 \t 3 gauss 0.99\n",
      "1 gauss 1.00 \t 2 gauss 0.99 \t 3 gauss 1.00\n",
      "1 gauss 0.90 \t 2 gauss 0.88 \t 3 gauss 1.00\n",
      "1 gauss 1.00 \t 2 gauss 0.99 \t 3 gauss 1.00\n",
      "1 gauss 0.90 \t 2 gauss 0.85 \t 3 gauss 1.00\n",
      "1 gauss 0.99 \t 2 gauss 0.99 \t 3 gauss nan\n",
      "1 gauss 1.00 \t 2 gauss 1.00 \t 3 gauss 0.99\n",
      "1 gauss 0.90 \t 2 gauss 0.88 \t 3 gauss nan\n"
     ]
    }
   ],
   "source": [
    "#params = np.array([5,5,5,2,1,1, 10, 10, 10, 15, 15, 5])\n",
    "model = np.zeros([20,20])\n",
    "params0 = np.array([4, #x0\n",
    "                    5,#y0\n",
    "                    2, #A0\n",
    "                    3, #sigma\n",
    "                    1,#eps\n",
    "                    1, #bg\n",
    "                    10, # x1\n",
    "                    10, #y1\n",
    "                    2, #A1\n",
    "                    15, #x2\n",
    "                    15, #y2\n",
    "                    2, #A2\n",
    "                    0, #info\n",
    "                    0, #wi_nowi\n",
    "                    0, #fitbg\n",
    "                    1, #ellipt_circ\n",
    "                    1, #model\n",
    "                    0]) # two Istar\n",
    "model = GaussFits.modelThree2DGaussian(params0, model)\n",
    "noisy = np.random.poisson(model)\n",
    "plt.imshow(noisy)\n",
    "plt.show()\n",
    "for i in range(20):\n",
    "    params0 = [20, 20, 10, 5, 1, 2, 20, 20, 10, 20, 20, 10, 0, 0, 0, 0, 0, 0]*np.random.random(18) + \\\n",
    "                [0, 0, 0, 0, 0, 0, 0, 0, 0, 0, 0, 0, 0, 0, 0, 1, 1, 0]\n",
    "    params0[16] = 0\n",
    "    params_model0 = GaussFits.Fit2DGauss(params0, noisy)\n",
    "    params0[16] = 1\n",
    "    params_model1 = GaussFits.Fit2DGauss(params0, noisy)\n",
    "    params0[16] = 2\n",
    "    params_model2 = GaussFits.Fit2DGauss(params0, noisy)\n",
    "    #plt.imshow(GaussFits.modelThree2DGaussian(params_model1[:12], np.zeros([20,20])))\n",
    "    #plt.colorbar()\n",
    "    #plt.show()\n",
    "    print('1 gauss %.2f \\t 2 gauss %.2f \\t 3 gauss %.2f' %(params_model0[17], params_model1[17], params_model2[17]))\n",
    "    #print('lm messsage: %.0f'  % params_model1[12])"
   ]
  },
  {
   "cell_type": "code",
   "execution_count": 9,
   "metadata": {},
   "outputs": [],
   "source": [
    "def findPeaks(data):\n",
    "    \"\"\"finds all local peaks according to 'raindrop' model.\n",
    "    All pixel get a raindrop. The rain flows uphill in neighbouring pixels\n",
    "    Priority is given to x-direction\n",
    "    input: A double gaussian-smoothed input image\n",
    "    returns: a list of where the raindrops have converged\"\"\"\n",
    "    xlen = data.shape[0]\n",
    "    ylen = data.shape[1]\n",
    "    points = np.zeros([xlen*ylen, 2], dtype = np.int)\n",
    "    for x in range(xlen):\n",
    "        for y in range(ylen):\n",
    "            points[x*ylen + y, 0] = x\n",
    "            points[x*ylen + y, 1] = y\n",
    "    points_copy = points.copy()\n",
    "    padded_data = np.pad(data, 1, mode = 'constant')\n",
    "    eps_step = 1\n",
    "    while(eps_step != 0):\n",
    "        for index, point in enumerate(points):\n",
    "            x,y = point\n",
    "            xneighbours = padded_data[x: x + 3, y + 1]\n",
    "            movex = xneighbours.argmax()\n",
    "            if movex == 0: #move point left\n",
    "                points_copy[index, 0] -= 1\n",
    "                continue\n",
    "            elif movex == 2: # move point right\n",
    "                points_copy[index, 0] += 1\n",
    "                continue\n",
    "            yneighbours = padded_data[ x + 1, y: y + 3]\n",
    "            movey = yneighbours.argmax()\n",
    "            if movey == 0: #move up\n",
    "                points_copy[index, 1] -= 1\n",
    "            if movey == 2: #move down\n",
    "                points_copy[index, 1] += 1\n",
    "        eps_step = np.linalg.norm(points-points_copy)\n",
    "        points = points_copy.copy()\n",
    "        #print(eps_step)\n",
    "    return points"
   ]
  },
  {
   "cell_type": "code",
   "execution_count": 3,
   "metadata": {},
   "outputs": [],
   "source": [
    "def findUniquePoints(image, points):\n",
    "    \"\"\"\n",
    "    DEPRICATED\n",
    "    selects unique entries in numpy array points.\n",
    "    returns an array of unique points and their corresponding smoothed image\n",
    "    intensity. The array is sorted with highed intensity on top\"\"\"\n",
    "    point_list = list(points)\n",
    "    peaks = []\n",
    "    while (len(point_list) > 0):\n",
    "        xpoint, ypoint = point_list.pop(0) #pop new unique value\n",
    "        #add unique value + image intensity to list\n",
    "        peaks.append(np.array([xpoint, ypoint, image[xpoint, ypoint]]))\n",
    "        #check remaining pointlist for duplicates\n",
    "        i = 0\n",
    "        while i < len(point_list):\n",
    "            #if duplicate: pop\n",
    "            if (point_list[i][0] == xpoint and point_list[i][1] == ypoint):\n",
    "                point_list.pop(i)\n",
    "            #else inspect next element\n",
    "            else: i+=1\n",
    "        #print(len(point_list))\n",
    "    peak_arr = np.array(peaks)\n",
    "    peak_arr = peak_arr[peak_arr[:,2].argsort(-1)][-1::-1]\n",
    "    return peak_arr"
   ]
  },
  {
   "cell_type": "code",
   "execution_count": 53,
   "metadata": {},
   "outputs": [],
   "source": [
    "def sortPeaks(peaks, xlen, ylen, mindiff = 2):\n",
    "    \"\"\"finds the most likely real starting locations of peaks\n",
    "    First the brightest is taken. Then the second brightest is taken\n",
    "    that is at least mindiff euclidian norm from the first point. etc.\n",
    "    peaks: sorted array of peaks according to intensity\n",
    "    xlen: xshape of image data\n",
    "    ylen: yshape of image data\n",
    "    mindiff: minimal euclidian norm from between peaks.\n",
    "    returns: 3 peaks\"\"\"\n",
    "    if mindiff == 0:\n",
    "        print('must set mindiff >0, setting mindigg = 0.1')\n",
    "        mindiff = 0.1\n",
    "    i = 0\n",
    "    goodpeak_cntr = 0\n",
    "    goodpeaks = np.ones([3,2]) * -10\n",
    "    #first peak is always the highest\n",
    "    goodpeaks[0] = peaks[0]\n",
    "    goodpeak_cntr += 1\n",
    "    i += 1\n",
    "    while i < peaks.shape[0]:\n",
    "        #check if next peak is closer than any know peak\n",
    "        if (np.linalg.norm(goodpeaks - peaks[i,0:2], axis = 1) < mindiff).any():\n",
    "            i+=1\n",
    "        #else another goodpeak is found\n",
    "        else:\n",
    "            goodpeaks[goodpeak_cntr] = peaks[i,0:2]\n",
    "            i+= 1\n",
    "            goodpeak_cntr += 1\n",
    "        #stop after 3 peaks\n",
    "        if goodpeak_cntr >= 3:\n",
    "            break\n",
    "    #if for some reason not enough peaks are found, supplement\n",
    "    while goodpeak_cntr < 3:\n",
    "        print ('not enough peaks found, try decreasing mindiff \\n setting remaining peaks at random')\n",
    "        goodpeaks[goodpeak_cntr] = np.random.random(2) * [xlen, ylen]\n",
    "        goodpeak_cntr += 1\n",
    "    return goodpeaks.astype(np.int)"
   ]
  },
  {
   "cell_type": "code",
   "execution_count": 26,
   "metadata": {},
   "outputs": [],
   "source": [
    "from scipy.ndimage import gaussian_filter"
   ]
  },
  {
   "cell_type": "code",
   "execution_count": 120,
   "metadata": {
    "scrolled": true
   },
   "outputs": [
    {
     "name": "stdout",
     "output_type": "stream",
     "text": [
      "0\n",
      "1\n",
      "2\n",
      "3\n",
      "4\n",
      "5\n",
      "6\n",
      "7\n",
      "8\n",
      "9\n",
      "10\n",
      "11\n",
      "12\n",
      "13\n",
      "14\n",
      "15\n",
      "16\n",
      "17\n",
      "18\n",
      "19\n",
      "20\n",
      "21\n",
      "22\n",
      "23\n",
      "24\n",
      "25\n",
      "26\n",
      "27\n",
      "28\n",
      "29\n",
      "30\n",
      "31\n",
      "32\n",
      "33\n",
      "34\n",
      "35\n",
      "36\n",
      "37\n",
      "38\n",
      "39\n",
      "40\n",
      "41\n",
      "42\n",
      "43\n",
      "44\n",
      "45\n",
      "46\n",
      "47\n",
      "48\n",
      "49\n",
      "50\n",
      "51\n",
      "52\n",
      "53\n",
      "54\n",
      "55\n",
      "56\n",
      "57\n",
      "58\n",
      "59\n",
      "60\n",
      "61\n",
      "62\n",
      "63\n",
      "64\n",
      "65\n",
      "66\n",
      "67\n",
      "68\n",
      "69\n",
      "70\n",
      "71\n",
      "72\n",
      "73\n",
      "74\n",
      "75\n",
      "76\n",
      "77\n",
      "78\n",
      "79\n",
      "80\n",
      "81\n",
      "82\n",
      "83\n",
      "84\n",
      "85\n",
      "86\n",
      "87\n",
      "88\n",
      "89\n",
      "90\n",
      "91\n",
      "92\n",
      "93\n",
      "94\n",
      "95\n",
      "96\n",
      "97\n",
      "98\n",
      "99\n"
     ]
    }
   ],
   "source": [
    "xlen = 20\n",
    "ylen = 20\n",
    "model = np.zeros([xlen,ylen])\n",
    "nruns = 100\n",
    "twoistar_correctparams0 = np.zeros(nruns)\n",
    "twoistar_estparams0 = np.zeros(nruns)\n",
    "for i in range(nruns):\n",
    "    params0 = np.array([5, #x0\n",
    "                        5,#y0\n",
    "                        10, #A0\n",
    "                        3, #sigma\n",
    "                        1,#eps\n",
    "                        1, #bg\n",
    "                        10, # x1\n",
    "                        10, #y1\n",
    "                        10, #A1\n",
    "                        15, #x2\n",
    "                        15, #y2\n",
    "                        10, #A2\n",
    "                        0, #info\n",
    "                        0, #wi_nowi\n",
    "                        0, #fitbg\n",
    "                        1, #ellipt_circ\n",
    "                        1, #model\n",
    "                        0]) # two Istar\n",
    "    model = GaussFits.modelThree2DGaussian(params0, model)\n",
    "    noisy = np.random.poisson(model)\n",
    "    smooth_image = gaussian_filter(noisy.astype(np.double), 1)\n",
    "    peaks = findPeaks(smooth_image)\n",
    "    uniquepeaks = findUniquePoints(smooth_image, peaks)\n",
    "    best_peaks = sortPeaks(uniquepeaks[:,:2], xlen, ylen, mindiff = 2)\n",
    "    plt.imshow(smooth_image)\n",
    "    params_est = np.array([best_peaks[0,0], #x0\n",
    "                        best_peaks[0,1],#y0\n",
    "                        smooth_image[best_peaks[0,0], best_peaks[0,1]], #A0\n",
    "                        4, #sigma\n",
    "                        1,#eps\n",
    "                        1, #bg\n",
    "                        best_peaks[1,0], # x1\n",
    "                        best_peaks[1,1], #y1\n",
    "                        smooth_image[best_peaks[1,0], best_peaks[1,1]], #A1\n",
    "                        best_peaks[2,0], #x2\n",
    "                        best_peaks[2,1], #y2\n",
    "                        smooth_image[best_peaks[2,0], best_peaks[2,1]], #A2\n",
    "                        0, #info\n",
    "                        0, #wi_nowi\n",
    "                        0, #fitbg\n",
    "                        1, #ellipt_circ\n",
    "                        1, #model\n",
    "                        0]) # two Istar\n",
    "    params_rand = [20, 20, 10, 5, 1, 2, 20, 20, 10, 20, 20, 10, 0, 0, 0, 0, 0, 0]*np.random.random(18) + \\\n",
    "                [0, 0, 0, 0, 0, 0, 0, 0, 0, 0, 0, 0, 0, 0, 0, 1, 1, 0]\n",
    "    test0 = GaussFits.Fit2DGauss(params0, noisy)\n",
    "    test1 = GaussFits.Fit2DGauss(params_est, noisy)\n",
    "    test_rand = GaussFits.Fit2DGauss(params_rand, noisy)\n",
    "    twoistar_correctparams0[i] = test0[17]\n",
    "    twoistar_estparams0[i] = test1[17]\n",
    "    #print('estimated starting variables: %f \\t random starting variables %f' \n",
    "    #      %(test0[17] - test1[17], test_rand[17] - test0[17]))\n",
    "    print(i)"
   ]
  },
  {
   "cell_type": "code",
   "execution_count": 131,
   "metadata": {},
   "outputs": [
    {
     "data": {
      "image/png": "[encoded data removed]",
      "text/plain": [
       "<Figure size 432x288 with 2 Axes>"
      ]
     },
     "metadata": {
      "needs_background": "light"
     },
     "output_type": "display_data"
    }
   ],
   "source": [
    "savedir = r'K:\\vanderVoortN\\reports\\BenchmarkingPrecision\\20200110MultipleSpotFitting'\n",
    "plt.imshow(noisy, cmap = 'hot')\n",
    "plt.plot(peaks[:,1], peaks[:,0], 'm.')\n",
    "plt.plot(best_peaks[:,1], best_peaks[:,0], 'go')\n",
    "plt.colorbar()\n",
    "plt.savefig(os.path.join(savedir,'Linear image (typ).png'), dpi = 300, bbox_inches = 'tight')"
   ]
  },
  {
   "cell_type": "code",
   "execution_count": 121,
   "metadata": {},
   "outputs": [],
   "source": [
    "Linear_diff=twoistar_estparams0 - twoistar_correctparams0\n",
    "Linear_best = twoistar_correctparams0\n",
    "#Triangle_diff=twoistar_estparams0 - twoistar_correctparams0\n",
    "#Triangle_best = twoistar_correctparams0"
   ]
  },
  {
   "cell_type": "code",
   "execution_count": 129,
   "metadata": {},
   "outputs": [
    {
     "data": {
      "image/png": "[encoded data removed]",
      "text/plain": [
       "<Figure size 432x288 with 1 Axes>"
      ]
     },
     "metadata": {
      "needs_background": "light"
     },
     "output_type": "display_data"
    }
   ],
   "source": [
    "plt.plot(Triangle_best, label = 'Triangle origami(typ)')\n",
    "plt.plot(Linear_best, label = 'Linear origami(typ)')\n",
    "plt.ylabel('\\u03C7\\u00B2MLE')\n",
    "plt.xlabel('simulated data sets')\n",
    "plt.title('best fit goodness for known starting parameters')\n",
    "plt.legend()\n",
    "plt.savefig(os.path.join(savedir,'best fit goodness.png'), dpi = 300, bbox_inches = 'tight')"
   ]
  },
  {
   "cell_type": "code",
   "execution_count": 130,
   "metadata": {},
   "outputs": [
    {
     "data": {
      "image/png": "[encoded data removed]",
      "text/plain": [
       "<Figure size 432x288 with 1 Axes>"
      ]
     },
     "metadata": {
      "needs_background": "light"
     },
     "output_type": "display_data"
    }
   ],
   "source": [
    "\n",
    "plt.plot(Triangle_diff, label = 'Triangle origami(typ)')\n",
    "plt.plot(Linear_diff, label = 'Linear origami(typ)')\n",
    "plt.ylabel('\\u0394\\u03C7\\u00B2MLE')\n",
    "plt.xlabel('simulated data sets')\n",
    "plt.title('fit goodness for estimated starting parameters \\nw.r.t. known starting parameters')\n",
    "plt.legend()\n",
    "plt.savefig(os.path.join(savedir,'relative fit goodness.png'), dpi = 300, bbox_inches = 'tight')"
   ]
  },
  {
   "cell_type": "code",
   "execution_count": null,
   "metadata": {},
   "outputs": [],
   "source": []
  }
 ],
 "metadata": {
  "kernelspec": {
   "display_name": "Python 3",
   "language": "python",
   "name": "python3"
  },
  "language_info": {
   "codemirror_mode": {
    "name": "ipython",
    "version": 3
   },
   "file_extension": ".py",
   "mimetype": "text/x-python",
   "name": "python",
   "nbconvert_exporter": "python",
   "pygments_lexer": "ipython3",
   "version": "3.7.4"
  }
 },
 "nbformat": 4,
 "nbformat_minor": 2
}
