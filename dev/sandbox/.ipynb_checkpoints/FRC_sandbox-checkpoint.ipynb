{
 "cells": [
  {
   "cell_type": "code",
   "execution_count": 22,
   "metadata": {},
   "outputs": [],
   "source": [
    "import ctypes\n",
    "from ctypes import *\n",
    "import numpy as np"
   ]
  },
  {
   "cell_type": "code",
   "execution_count": 24,
   "metadata": {},
   "outputs": [],
   "source": [
    "readPTU = ctypes.WinDLL (r\"S:\\64bit dll 's\\PQ_PTU_sf\\release\\PQ_PTU.dll\")\n",
    "mydll = WinDLL(r\"K:\\vanderVoortN\\FRC\\csandbox\\toydll\\mydll.dll\")"
   ]
  },
  {
   "cell_type": "markdown",
   "metadata": {},
   "source": [
    "## Write wrapper for test functions"
   ]
  },
  {
   "cell_type": "code",
   "execution_count": 34,
   "metadata": {},
   "outputs": [
    {
     "name": "stdout",
     "output_type": "stream",
     "text": [
      "Overwriting functions.c\n"
     ]
    }
   ],
   "source": [
    "%%file functions.c\n",
    "\n",
    "#include <stdio.h>\n",
    "\n",
    "typedef struct Options{\n",
    "    char mode[50];\n",
    "}Option;\n",
    "\n",
    "void hello(Option option);\n",
    "\n",
    "double dprod(double *x, int n);\n",
    "\n",
    "void dcumsum(double *a, double *b, int n);\n",
    "\n",
    "void\n",
    "hello(Option option)\n",
    "{\n",
    "    printf(\"C says hello\\n\");\n",
    "    printf(\"mode is %s\\n\", option.mode);\n",
    "}\n",
    "\n",
    "\n",
    "double \n",
    "dprod(double *x, int n)\n",
    "{\n",
    "    int i;\n",
    "    double y = 1.0;\n",
    "    \n",
    "    for (i = 0; i < n; i++)\n",
    "    {\n",
    "        y *= x[i];\n",
    "    }\n",
    "\n",
    "    return y;\n",
    "}\n",
    "\n",
    "void\n",
    "dcumsum(double *a, double *b, int n)\n",
    "{\n",
    "    int i;\n",
    "    \n",
    "    b[0] = a[0];\n",
    "    for (i = 1; i < n; i++)\n",
    "    {\n",
    "        b[i] = a[i] + b[i-1];\n",
    "    }\n",
    "}\n",
    "\n",
    "#define SMBUS_API __declspec(dllexport)\n",
    "#define SMB_MAX_DATA_SIZE 5\n",
    "\n",
    "typedef void* SMBUS_HANDLE;\n",
    "\n",
    "typedef struct _SMB_REQUEST\n",
    "{\n",
    "    unsigned char Address;\n",
    "    unsigned char Command;\n",
    "    unsigned char BlockLength;\n",
    "    unsigned char Data[SMB_MAX_DATA_SIZE];\n",
    "} SMB_REQUEST;\n",
    "\n",
    "SMBUS_API int SmBusReadByte(SMBUS_HANDLE handle,SMB_REQUEST *request)\n",
    "{\n",
    "    unsigned char i;\n",
    "    for(i = 0; i < request->BlockLength; i++)\n",
    "        request->Data[i] = i;\n",
    "    return request->BlockLength;\n",
    "}\n",
    "\n",
    "SMBUS_API SMBUS_HANDLE OpenSmbus(void)\n",
    "{\n",
    "    return (void*)0x12345678;\n",
    "}"
   ]
  },
  {
   "cell_type": "code",
   "execution_count": 35,
   "metadata": {},
   "outputs": [],
   "source": [
    "#!gcc -c -Wall -O2 -Wall -ansi -pedantic -fPIC -o functions.o functions.c\n",
    "!gcc -c -o functions.o functions.c\n",
    "!gcc -o libfunctions.dll -shared functions.o"
   ]
  },
  {
   "cell_type": "code",
   "execution_count": 18,
   "metadata": {},
   "outputs": [
    {
     "name": "stdout",
     "output_type": "stream",
     "text": [
      "Overwriting functions.py\n"
     ]
    }
   ],
   "source": [
    "%%file functions.py\n",
    "\n",
    "import numpy\n",
    "import ctypes\n",
    "\n",
    "_libfunctions = numpy.ctypeslib.load_library('libfunctions', '.')\n",
    "\n",
    "_libfunctions.hello.argtypes = [ctypes.c_int]\n",
    "_libfunctions.hello.restype  =  ctypes.c_void_p\n",
    "\n",
    "_libfunctions.dprod.argtypes = [numpy.ctypeslib.ndpointer(dtype=numpy.float), ctypes.c_int]\n",
    "_libfunctions.dprod.restype  = ctypes.c_double\n",
    "\n",
    "_libfunctions.dcumsum.argtypes = [numpy.ctypeslib.ndpointer(dtype=numpy.float), numpy.ctypeslib.ndpointer(dtype=numpy.float), ctypes.c_int]\n",
    "_libfunctions.dcumsum.restype  = ctypes.c_void_p\n",
    "\n",
    "def hello(n):\n",
    "    return _libfunctions.hello(int(n))\n",
    "\n",
    "def dprod(x, n=None):\n",
    "    if n is None:\n",
    "        n = len(x)\n",
    "    x = numpy.asarray(x, dtype=numpy.float)\n",
    "    return _libfunctions.dprod(x, int(n))\n",
    "\n",
    "def dcumsum(a, n):\n",
    "    a = numpy.asarray(a, dtype=numpy.float)\n",
    "    b = numpy.empty(len(a), dtype=numpy.float)\n",
    "    _libfunctions.dcumsum(a, b, int(n))\n",
    "    return b"
   ]
  },
  {
   "cell_type": "code",
   "execution_count": 19,
   "metadata": {},
   "outputs": [
    {
     "name": "stdout",
     "output_type": "stream",
     "text": [
      "Overwriting run_hello_c.py\n"
     ]
    }
   ],
   "source": [
    "%%file run_hello_c.py\n",
    "\n",
    "import functions\n",
    "\n",
    "functions.hello(3)"
   ]
  },
  {
   "cell_type": "code",
   "execution_count": 42,
   "metadata": {},
   "outputs": [
    {
     "name": "stdout",
     "output_type": "stream",
     "text": [
      "Overwriting run_struct_func_c\n"
     ]
    }
   ],
   "source": [
    "%%file run_struct_func_c\n",
    "\n",
    "from ctypes import *\n",
    "SMB_MAX_DATA_SIZE = 5\n",
    "ARRAY5 = c_ubyte * SMB_MAX_DATA_SIZE\n",
    "\n",
    "class SMB_REQUEST(Structure):\n",
    "    _fields_ = [\n",
    "        (\"Address\", c_ubyte),\n",
    "        (\"Command\", c_ubyte),\n",
    "        (\"BlockLength\", c_ubyte),\n",
    "        (\"Data\", ARRAY5)]\n",
    "\n",
    "smbus_read_byte = CDLL('libfunctions').SmBusReadByte\n",
    "smbus_read_byte.argtypes = [c_void_p,POINTER(SMB_REQUEST)]\n",
    "smbus_read_byte.restype = c_int\n",
    "open_smbus = CDLL('libfunctions').OpenSmbus\n",
    "open_smbus.argtypes = []\n",
    "open_smbus.restype = c_void_p\n",
    "\n",
    "handle = open_smbus()\n",
    "print ('handle = %08Xh' % handle)\n",
    "\n",
    "smb_request = SMB_REQUEST(1,2,5)\n",
    "\n",
    "print ('returned =',smbus_read_byte(handle,byref(smb_request)))\n",
    "print ('Address =',smb_request.Address)\n",
    "print ('Command =',smb_request.Command)\n",
    "print ('BlockLength =',smb_request.BlockLength)\n",
    "for i,b in enumerate(smb_request.Data):\n",
    "    print ('Data[%d] = %02Xh' % (i,b))"
   ]
  },
  {
   "cell_type": "code",
   "execution_count": 43,
   "metadata": {},
   "outputs": [
    {
     "name": "stdout",
     "output_type": "stream",
     "text": [
      "handle = 12345678h\n",
      "returned = 5\n",
      "Address = 1\n",
      "Command = 2\n",
      "BlockLength = 5\n",
      "Data[0] = 00h\n",
      "Data[1] = 01h\n",
      "Data[2] = 02h\n",
      "Data[3] = 03h\n",
      "Data[4] = 04h\n"
     ]
    }
   ],
   "source": [
    "!python run_struct_func_c"
   ]
  },
  {
   "cell_type": "code",
   "execution_count": 20,
   "metadata": {},
   "outputs": [
    {
     "name": "stdout",
     "output_type": "stream",
     "text": [
      "C says hello\n",
      "C says hello\n",
      "C says hello\n"
     ]
    }
   ],
   "source": [
    "!python run_hello_c.py"
   ]
  },
  {
   "cell_type": "code",
   "execution_count": 14,
   "metadata": {},
   "outputs": [
    {
     "data": {
      "text/plain": [
       "40.0"
      ]
     },
     "execution_count": 14,
     "metadata": {},
     "output_type": "execute_result"
    }
   ],
   "source": [
    "import functions\n",
    "x = [1,2,4,5]\n",
    "functions.dprod(x)"
   ]
  },
  {
   "cell_type": "code",
   "execution_count": 11,
   "metadata": {
    "scrolled": true
   },
   "outputs": [
    {
     "name": "stdout",
     "output_type": "stream",
     "text": [
      "195519853\n"
     ]
    }
   ],
   "source": [
    "#fpin = ctypes.create_string_buffer(b\"K:\\\\vanderVoortN\\\\python\\\\FRC\\\\PQSpcm_2019-02-01_16-37-57.ptu\")#medium file\n",
    "#fpin = ctypes.create_string_buffer(b\"K:\\\\vanderVoortN\\\\python\\\\FRC\\\\Alexa594_exc561_0perc_0017AU1.ptu\")#small file\n",
    "fpin = ctypes.create_string_buffer(b\"K:\\\\vanderVoortN\\\\python\\\\FRC\\\\Alexa594_exc561_80perc_00630AU1.ptu\") #big file\n",
    "fpout = ctypes.create_string_buffer(b\"K:\\\\vanderVoortN\\\\python\\\\FRC\\\\fout.txt\")\n",
    "NumRecords = readPTU.PQ_ptuHeader_sf(fpin,fpout)\n",
    "print(NumRecords)"
   ]
  },
  {
   "cell_type": "markdown",
   "metadata": {},
   "source": [
    "## initialize c compatible variables for reading PTU files"
   ]
  },
  {
   "cell_type": "code",
   "execution_count": 12,
   "metadata": {},
   "outputs": [],
   "source": [
    "c_longlong_p = ctypes.POINTER(ctypes.c_longlong) #init class for long long pointer\n",
    "c_ubyte_p = ctypes.POINTER(ctypes.c_ubyte) #init class for unsigned char pointer\n",
    "c_int_p = ctypes.POINTER(ctypes.c_int) #init class for int pointer\n",
    "\n",
    "\n",
    "length = ctypes.c_longlong(NumRecords)\n",
    "\n",
    "eventN = np.zeros(NumRecords).astype(np.int64)\n",
    "eventN_p = eventN.ctypes.data_as(c_longlong_p)\n",
    "\n",
    "tac = np.zeros(NumRecords).astype(np.int)\n",
    "tac_p = tac.ctypes.data_as(c_int_p)\n",
    "\n",
    "t = np.zeros(NumRecords).astype(np.int64)\n",
    "t_p = t.ctypes.data_as(c_longlong_p)\n",
    "\n",
    "can = np.zeros(NumRecords).astype(np.uint)\n",
    "can_p = can.ctypes.data_as(c_ubyte_p)\n",
    "\n",
    "j = ctypes.c_longlong()\n",
    "ov_in = ctypes.c_longlong()\n",
    "stage = ctypes.c_int()\n",
    "\n"
   ]
  },
  {
   "cell_type": "code",
   "execution_count": 6,
   "metadata": {},
   "outputs": [
    {
     "data": {
      "text/plain": [
       "162842"
      ]
     },
     "execution_count": 6,
     "metadata": {},
     "output_type": "execute_result"
    }
   ],
   "source": [
    "mydll._Z9printfuncPcxPxPiPh(fpin, length, eventN_p, tac_p, can_p)"
   ]
  },
  {
   "cell_type": "markdown",
   "metadata": {},
   "source": [
    "## Read in PTU files using picoquant routine"
   ]
  },
  {
   "cell_type": "code",
   "execution_count": 13,
   "metadata": {},
   "outputs": [
    {
     "data": {
      "text/plain": [
       "-885047296"
      ]
     },
     "execution_count": 13,
     "metadata": {},
     "output_type": "execute_result"
    }
   ],
   "source": [
    "readPTU.PQ_ptu_sf(fpin, length, eventN_p, tac_p, t_p, can_p, ctypes.byref(j), ov_in, stage)"
   ]
  },
  {
   "cell_type": "code",
   "execution_count": 67,
   "metadata": {},
   "outputs": [],
   "source": [
    "from PIL import Image\n",
    "import matplotlib.pyplot as plt"
   ]
  },
  {
   "cell_type": "code",
   "execution_count": 68,
   "metadata": {},
   "outputs": [],
   "source": [
    "im = Image.open(r\"K:\\vanderVoortN\\python\\FRC\\PQSpcm_2019-02-01_15-59-23-gate0-25.tiff\")\n",
    "imarray = np.array(im, dtype = np.uint8)"
   ]
  }
 ],
 "metadata": {
  "kernelspec": {
   "display_name": "Python 3",
   "language": "python",
   "name": "python3"
  },
  "language_info": {
   "codemirror_mode": {
    "name": "ipython",
    "version": 3
   },
   "file_extension": ".py",
   "mimetype": "text/x-python",
   "name": "python",
   "nbconvert_exporter": "python",
   "pygments_lexer": "ipython3",
   "version": "3.6.5"
  }
 },
 "nbformat": 4,
 "nbformat_minor": 2
}
