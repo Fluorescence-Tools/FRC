{
 "cells": [
  {
   "cell_type": "code",
   "execution_count": 4,
   "metadata": {},
   "outputs": [],
   "source": [
    "import ctypes\n",
    "from ctypes import *\n",
    "import numpy as np\n",
    "from precisionFuncs import *\n",
    "from cpp_wrappers import fit2DGaussian_wrap"
   ]
  },
  {
   "cell_type": "code",
   "execution_count": 6,
   "metadata": {},
   "outputs": [],
   "source": [
    "readPTU = ctypes.WinDLL (r\"S:\\64bit dll 's\\PQ_PTU_sf\\release\\PQ_PTU.dll\")\n",
    "mydll = WinDLL(r\"K:\\vanderVoortN\\FRC\\dev\\csandbox\\toydll\\mydll.dll\")"
   ]
  },
  {
   "cell_type": "markdown",
   "metadata": {},
   "source": [
    "## Write wrapper for test functions"
   ]
  },
  {
   "cell_type": "code",
   "execution_count": 130,
   "metadata": {},
   "outputs": [
    {
     "name": "stdout",
     "output_type": "stream",
     "text": [
      "Overwriting functions.c\n"
     ]
    }
   ],
   "source": [
    "%%file functions.c\n",
    "\n",
    "\n",
    "#define SMBUS_API __declspec(dllexport)\n",
    "#define SMB_MAX_DATA_SIZE 5\n",
    "#include <stdlib.h>\n",
    "\n",
    "typedef void* SMBUS_HANDLE;\n",
    "\n",
    "typedef struct _SMB_REQUEST\n",
    "{\n",
    "    unsigned char Address;\n",
    "    unsigned char Command;\n",
    "    unsigned char BlockLength;\n",
    "    unsigned char Data[SMB_MAX_DATA_SIZE];\n",
    "    unsigned char** ppDat;\n",
    "} SMB_REQUEST;\n",
    "\n",
    "SMBUS_API int SmBusReadByte(SMBUS_HANDLE handle,SMB_REQUEST *request)\n",
    "{\n",
    "    unsigned char i;\n",
    "    for(i = 0; i < request->BlockLength; i++)\n",
    "        request::Data[i] = i;\n",
    "    request->ppDat = malloc(4);\n",
    "    \n",
    "    return request->BlockLength;\n",
    "}\n",
    "\n",
    "SMBUS_API SMBUS_HANDLE OpenSmbus(void)\n",
    "{\n",
    "    return (void*)0x12345678;\n",
    "}\n",
    "\n",
    "#include <stdlib.h>\n",
    "\n",
    "__declspec(dllexport) void __stdcall Foo(unsigned char** ppMem, int* pSize)\n",
    "{\n",
    "    char i;\n",
    "    *pSize = 4;\n",
    "    *ppMem = (unsigned char*)malloc(*pSize);\n",
    "    for(i = 0; i < *pSize; i++)\n",
    "        (*ppMem)[i] = i;\n",
    "}"
   ]
  },
  {
   "cell_type": "code",
   "execution_count": 131,
   "metadata": {},
   "outputs": [
    {
     "name": "stderr",
     "output_type": "stream",
     "text": [
      "functions.c: In function 'SmBusReadByte':\n",
      "functions.c:22:17: error: expected expression before ':' token\n",
      "         request::Data[i] = i;\n",
      "                 ^\n"
     ]
    }
   ],
   "source": [
    "#!gcc -c -Wall -O2 -Wall -ansi -pedantic -fPIC -o functions.o functions.c\n",
    "!gcc -c -o functions.o functions.c\n",
    "!gcc -o libfunctions.dll -shared functions.o"
   ]
  },
  {
   "cell_type": "code",
   "execution_count": 128,
   "metadata": {},
   "outputs": [
    {
     "name": "stdout",
     "output_type": "stream",
     "text": [
      "Overwriting run_struct_func_c\n"
     ]
    }
   ],
   "source": [
    "%%file run_struct_func_c\n",
    "\n",
    "from ctypes import *\n",
    "SMB_MAX_DATA_SIZE = 5\n",
    "ARRAY5 = c_ubyte * SMB_MAX_DATA_SIZE\n",
    "\n",
    "class SMB_REQUEST(Structure):\n",
    "    _fields_ = [\n",
    "        (\"Address\", c_ubyte),\n",
    "        (\"Command\", c_ubyte),\n",
    "        (\"BlockLength\", c_ubyte),\n",
    "        (\"Data\", ARRAY5),\n",
    "        (\"ppDAT\", POINTER(POINTER(c_ubyte)))]\n",
    "\n",
    "smbus_read_byte = CDLL('libfunctions').SmBusReadByte\n",
    "smbus_read_byte.argtypes = [c_void_p,POINTER(SMB_REQUEST)]\n",
    "smbus_read_byte.restype = c_int\n",
    "open_smbus = CDLL('libfunctions').OpenSmbus\n",
    "open_smbus.argtypes = []\n",
    "open_smbus.restype = c_void_p\n",
    "\n",
    "handle = open_smbus()\n",
    "print ('handle = %08Xh' % handle)\n",
    "\n",
    "smb_request = SMB_REQUEST(1,2,5)\n",
    "\n",
    "print ('returned =',smbus_read_byte(handle,byref(smb_request)))\n",
    "print ('Address =',smb_request.Address)\n",
    "print ('Command =',smb_request.Command)\n",
    "print ('BlockLength =',smb_request.BlockLength)\n",
    "for i,b in enumerate(smb_request.Data):\n",
    "    print ('Data[%d] = %02Xh' % (i,b))\n",
    "    \n",
    "Foo = CDLL('libfunctions').Foo\n",
    "Foo.argtypes = [POINTER(POINTER(c_ubyte)),POINTER(c_int)]\n",
    "mem = POINTER(c_ubyte)()\n",
    "size = c_int(0)\n",
    "Foo(byref(mem),byref(size))\n",
    "print(size.value,mem[0],mem[1],mem[2],mem[3])"
   ]
  },
  {
   "cell_type": "code",
   "execution_count": 129,
   "metadata": {},
   "outputs": [
    {
     "name": "stdout",
     "output_type": "stream",
     "text": [
      "handle = 12345678h\n"
     ]
    },
    {
     "name": "stderr",
     "output_type": "stream",
     "text": [
      "Traceback (most recent call last):\n",
      "  File \"run_struct_func_c\", line 26, in <module>\n",
      "    print ('returned =',smbus_read_byte(handle,byref(smb_request)))\n",
      "OSError: exception: access violation writing 0x0000000000000000\n"
     ]
    }
   ],
   "source": [
    "!python run_struct_func_c"
   ]
  },
  {
   "cell_type": "code",
   "execution_count": 11,
   "metadata": {
    "scrolled": true
   },
   "outputs": [
    {
     "name": "stdout",
     "output_type": "stream",
     "text": [
      "195519853\n"
     ]
    }
   ],
   "source": [
    "#fpin = ctypes.create_string_buffer(b\"K:\\\\vanderVoortN\\\\python\\\\FRC\\\\PQSpcm_2019-02-01_16-37-57.ptu\")#medium file\n",
    "#fpin = ctypes.create_string_buffer(b\"K:\\\\vanderVoortN\\\\python\\\\FRC\\\\Alexa594_exc561_0perc_0017AU1.ptu\")#small file\n",
    "fpin = ctypes.create_string_buffer(b\"K:\\\\vanderVoortN\\\\python\\\\FRC\\\\Alexa594_exc561_80perc_00630AU1.ptu\") #big file\n",
    "fpout = ctypes.create_string_buffer(b\"K:\\\\vanderVoortN\\\\python\\\\FRC\\\\fout.txt\")\n",
    "NumRecords = readPTU.PQ_ptuHeader_sf(fpin,fpout)\n",
    "print(NumRecords)"
   ]
  },
  {
   "cell_type": "markdown",
   "metadata": {},
   "source": [
    "## initialize c compatible variables for reading PTU files"
   ]
  },
  {
   "cell_type": "code",
   "execution_count": 12,
   "metadata": {},
   "outputs": [],
   "source": [
    "c_longlong_p = ctypes.POINTER(ctypes.c_longlong) #init class for long long pointer\n",
    "c_ubyte_p = ctypes.POINTER(ctypes.c_ubyte) #init class for unsigned char pointer\n",
    "c_int_p = ctypes.POINTER(ctypes.c_int) #init class for int pointer\n",
    "\n",
    "\n",
    "length = ctypes.c_longlong(NumRecords)\n",
    "\n",
    "eventN = np.zeros(NumRecords).astype(np.int64)\n",
    "eventN_p = eventN.ctypes.data_as(c_longlong_p)\n",
    "\n",
    "tac = np.zeros(NumRecords).astype(np.int)\n",
    "tac_p = tac.ctypes.data_as(c_int_p)\n",
    "\n",
    "t = np.zeros(NumRecords).astype(np.int64)\n",
    "t_p = t.ctypes.data_as(c_longlong_p)\n",
    "\n",
    "can = np.zeros(NumRecords).astype(np.uint)\n",
    "can_p = can.ctypes.data_as(c_ubyte_p)\n",
    "\n",
    "j = ctypes.c_longlong()\n",
    "ov_in = ctypes.c_longlong()\n",
    "stage = ctypes.c_int()\n",
    "\n"
   ]
  },
  {
   "cell_type": "code",
   "execution_count": 6,
   "metadata": {},
   "outputs": [
    {
     "data": {
      "text/plain": [
       "162842"
      ]
     },
     "execution_count": 6,
     "metadata": {},
     "output_type": "execute_result"
    }
   ],
   "source": [
    "mydll._Z9printfuncPcxPxPiPh(fpin, length, eventN_p, tac_p, can_p)"
   ]
  },
  {
   "cell_type": "markdown",
   "metadata": {},
   "source": [
    "## Read in PTU files using picoquant routine"
   ]
  },
  {
   "cell_type": "code",
   "execution_count": 13,
   "metadata": {},
   "outputs": [
    {
     "data": {
      "text/plain": [
       "-885047296"
      ]
     },
     "execution_count": 13,
     "metadata": {},
     "output_type": "execute_result"
    }
   ],
   "source": [
    "readPTU.PQ_ptu_sf(fpin, length, eventN_p, tac_p, t_p, can_p, ctypes.byref(j), ov_in, stage)"
   ]
  },
  {
   "cell_type": "code",
   "execution_count": 67,
   "metadata": {},
   "outputs": [],
   "source": [
    "from PIL import Image\n",
    "import matplotlib.pyplot as plt"
   ]
  },
  {
   "cell_type": "code",
   "execution_count": 68,
   "metadata": {},
   "outputs": [],
   "source": [
    "im = Image.open(r\"K:\\vanderVoortN\\python\\FRC\\PQSpcm_2019-02-01_15-59-23-gate0-25.tiff\")\n",
    "imarray = np.array(im, dtype = np.uint8)"
   ]
  },
  {
   "cell_type": "markdown",
   "metadata": {},
   "source": [
    "## Read in GaussFit from Suren"
   ]
  },
  {
   "cell_type": "code",
   "execution_count": 2,
   "metadata": {},
   "outputs": [],
   "source": [
    "import ctypes\n",
    "from ctypes import *\n",
    "import numpy as np\n",
    "from precisionFuncs import *\n",
    "from cpp_wrappers import fit2DGaussian_wrap"
   ]
  },
  {
   "cell_type": "code",
   "execution_count": 28,
   "metadata": {},
   "outputs": [],
   "source": [
    "def fit2DGaussian_wrap(params0, a, im):\n",
    "    \"\"\"wrapper to fit2DGaussian function from cpp used in Ani Fitting routine\n",
    "    params0: initial guess for parameters. They are ordered according to Mortensen et al.\n",
    "    im: 2D Gauss image to be fitted\n",
    "    a: pixel size\"\"\"\n",
    "    \n",
    "    #ISSUE: class declaration occurs inside of function, this disables use outside of current\n",
    "    #function. It cannot be changed easily as imsize must be known for class initialisation.\n",
    "    \n",
    "    fit2DGaussian = ctypes.WinDLL(r\"K:\\vanderVoortN\\FRC\\dev\\Fit2DGaussian\\x64\\Debug\\Fit2DGaussian.dll\").fit2DGaussian\n",
    "\n",
    "    c_double_p = ctypes.POINTER(ctypes.c_double)\n",
    "    im = im.flatten()\n",
    "    imsize = im.shape[0]\n",
    "    DOUBLEARRAY = ctypes.c_double * imsize\n",
    "\n",
    "    class LVDoubleArray(ctypes.Structure):\n",
    "        _fields_ = [\n",
    "            ('length', ctypes.c_int),#length of array i.e. imsize\n",
    "            ('data', DOUBLEARRAY) #image array\n",
    "        ]\n",
    "\n",
    "    class MGPARAM(ctypes.Structure):\n",
    "        _fields_ = [\n",
    "            ('subimage', ctypes.POINTER(ctypes.POINTER(LVDoubleArray))),\n",
    "            ('osize', ctypes.c_int), #number or rows in squared image\n",
    "            ('M', ctypes.POINTER(ctypes.POINTER(LVDoubleArray)))\n",
    "        ]\n",
    "    #give paramaters in correct format\n",
    "    variables = np.zeros(10, dtype = np.double).ctypes.data_as(c_double_p)\n",
    "    variables[0] = params0[0] / a#ux\n",
    "    variables[1] = params0[1] / a#uy\n",
    "    variables[3] = params0[2] / a#sx = s\n",
    "    variables[2] = params0[4] /(variables[3]**2 * 2*np.pi)#N\n",
    "    variables[4] = 1 #ellipticity, for circular 1\n",
    "    variables[5] = params0[3]**2#b\n",
    "    variables[6] = 0#info from optimization algorithm\n",
    "    variables[7] = 1#bool fr weight or no weight: Ask Suren for correct setting1\n",
    "    variables[8] = 0#bool if background is fitted: 0 -> background is fitted\n",
    "    variables[9] = 1#bool for ellipticity: 1 means circular, 0 means elliptical\n",
    "    \n",
    "#    for i in range(9):\n",
    "#        print('variables element %i has value %f'%(i, variables[i]))\n",
    "\n",
    "    c_double_p = ctypes.POINTER(ctypes.c_double)\n",
    "    fit2DGaussian.argtypes = [ctypes.POINTER(ctypes.c_double), ctypes.POINTER(MGPARAM)]\n",
    "    fit2DGaussian.restypes = ctypes.c_double\n",
    "\n",
    "    c_im = DOUBLEARRAY()\n",
    "    c_M = DOUBLEARRAY()\n",
    "\n",
    "    for i, el in enumerate(im):\n",
    "        c_im[i] = el\n",
    "        c_M[i] = 1\n",
    "\n",
    "    c_imsize = ctypes.c_int(imsize)\n",
    "    c_osize = ctypes.c_int(int(np.sqrt(imsize)))\n",
    "    print('osize is ' + str(c_osize))\n",
    "\n",
    "\n",
    "    subimage = ctypes.pointer(LVDoubleArray(c_imsize, c_im))\n",
    "    subM = ctypes.pointer(LVDoubleArray(c_imsize, c_M))\n",
    "    mgparam = MGPARAM(ctypes.pointer(subimage), c_osize, ctypes.pointer(subM))\n",
    "    fit2DGaussian(variables, mgparam)\n",
    "    \n",
    "    params = np.zeros(5)\n",
    "    params[0] = (variables[0]+0.5) * a\n",
    "    params[1] = (variables[1]+0.5) *a\n",
    "    params[2] = variables[3] * a\n",
    "    params[3] = np.sqrt(variables[5])\n",
    "    params[4] = variables[2]\n",
    "    return params"
   ]
  },
  {
   "cell_type": "code",
   "execution_count": 34,
   "metadata": {},
   "outputs": [
    {
     "name": "stdout",
     "output_type": "stream",
     "text": [
      "[453.23321288616955, 445.9068843017808, 52.94983903998185, 9.681181369748473e-07, 110.28260572424318]\n",
      "osize is c_long(20)\n",
      "[4.98195900e+02 5.00773186e+02 4.40168164e+01 9.68118137e-07\n",
      " 1.99202601e+01]\n"
     ]
    },
    {
     "data": {
      "image/png": "[encoded data removed]",
      "text/plain": [
       "<Figure size 432x288 with 1 Axes>"
      ]
     },
     "metadata": {},
     "output_type": "display_data"
    }
   ],
   "source": [
    "import ctypes\n",
    "from ctypes import *\n",
    "import numpy as np\n",
    "from precisionFuncs import *\n",
    "from cpp_wrappers import fit2DGaussian_wrap\n",
    "import matplotlib.pyplot as plt\n",
    "params0 = [500.,500.,50.,1e-6,100.]\n",
    "a = 50\n",
    "imsize = 1000\n",
    "\n",
    "im = createGaussImg(imsize / a, params0, a)\n",
    "#im = np.arange(441)\n",
    "randparams = []\n",
    "#for i in range(10000000):\n",
    "#    im = createGaussImg(imsize / a, params0, a)\n",
    "\n",
    "for el in params0:\n",
    "    randparams.append( el*(0.8 +np.random.rand()*0.4))\n",
    "print(randparams)\n",
    "fitparams, tIstar = fit2DGaussian_wrap(randparams, a, im)\n",
    "print(fitparams)\n",
    "plt.imshow(im)\n",
    "plt.colorbar\n",
    "plt.show()\n"
   ]
  },
  {
   "cell_type": "code",
   "execution_count": 127,
   "metadata": {},
   "outputs": [
    {
     "data": {
      "text/plain": [
       "0"
      ]
     },
     "execution_count": 127,
     "metadata": {},
     "output_type": "execute_result"
    }
   ],
   "source": [
    "tIstar"
   ]
  },
  {
   "cell_type": "code",
   "execution_count": 68,
   "metadata": {},
   "outputs": [
    {
     "name": "stdout",
     "output_type": "stream",
     "text": [
      "Overwriting toy2DGauss.cpp\n"
     ]
    }
   ],
   "source": [
    "%%file toy2DGauss.cpp\n",
    "#include <cstdio>\n",
    "\n",
    "typedef struct {\n",
    "  int length;\n",
    "  double data[1];\n",
    "} LVDoubleArray;\n",
    "\n",
    "typedef struct {\n",
    "\tLVDoubleArray** subimage;\n",
    "\tint osize;\n",
    "\tLVDoubleArray** M;\n",
    "} MGParam;\n",
    "\n",
    "double fit2DGaussian(double* vars, MGParam* p)\n",
    "{\n",
    "\t// vars = [x0 y0 A sigma_x sigma_y bg info wi_nowi free_fixed_bg]\n",
    "    vars[8] = 42;\n",
    "    LVDoubleArray *subimage = *(p->subimage);\n",
    "    LVDoubleArray *M = *(p->M);\n",
    "    int length = subimage->length;\n",
    "    int i;\n",
    "    double *imdat = subimage->data, *mdat = M->data;\n",
    "    printf(\"size of mdat is %i\", sizeof(&mdat));\n",
    "\n",
    "    for ( i=0; i < 400; i++){\n",
    "        mdat[i] = imdat[i];\n",
    "//        printf(\"value of imdat at position %i  is %f\\n\",i, mdat[i]);\n",
    "    };\n",
    "    printf(\"succesfull loop completion \\n\");\n",
    "    \n",
    "  return 1;\n",
    "}"
   ]
  },
  {
   "cell_type": "code",
   "execution_count": 244,
   "metadata": {},
   "outputs": [],
   "source": [
    "!gcc -c -o toy2DGauss.o toy2DGauss.cpp\n",
    "!gcc -o fit2DGaussian.dll -shared toy2DGauss.o"
   ]
  },
  {
   "cell_type": "code",
   "execution_count": null,
   "metadata": {},
   "outputs": [],
   "source": [
    "np.cos()"
   ]
  }
 ],
 "metadata": {
  "kernelspec": {
   "display_name": "Python 3",
   "language": "python",
   "name": "python3"
  },
  "language_info": {
   "codemirror_mode": {
    "name": "ipython",
    "version": 3
   },
   "file_extension": ".py",
   "mimetype": "text/x-python",
   "name": "python",
   "nbconvert_exporter": "python",
   "pygments_lexer": "ipython3",
   "version": "3.6.5"
  }
 },
 "nbformat": 4,
 "nbformat_minor": 2
}
