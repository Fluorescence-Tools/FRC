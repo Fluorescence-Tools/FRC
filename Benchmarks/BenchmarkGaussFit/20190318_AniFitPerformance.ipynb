{
 "cells": [
  {
   "cell_type": "code",
   "execution_count": 1,
   "metadata": {},
   "outputs": [],
   "source": [
    "import numpy as np\n",
    "import collections\n",
    "import os\n",
    "import matplotlib.pyplot as plt"
   ]
  },
  {
   "cell_type": "code",
   "execution_count": 2,
   "metadata": {},
   "outputs": [],
   "source": [
    "class dataset():\n",
    "    \"Stores name and place pairs\"\n",
    "    def __init__(self, fname, Nphotons, sigma):\n",
    "        self.fname = fname\n",
    "        self.Nphotons = Nphotons\n",
    "        self.sigma = sigma\n",
    "        #to be filled later\n",
    "        self.data = None\n",
    "        self.precision = None\n",
    "        self.theoreticalPrecision = None"
   ]
  },
  {
   "cell_type": "code",
   "execution_count": 3,
   "metadata": {},
   "outputs": [],
   "source": [
    "wdir = r'K:\\vanderVoortN\\FRC\\BenchmarkGaussFit'\n",
    "data = []\n",
    "data.append(dataset(os.path.join(wdir,'A10Sigma4\\Colocalization Fit results/Green Photons_Fit results.cla4'), 1000, 4))\n",
    "data.append(dataset(os.path.join(wdir,'A10Sigma8\\Colocalization Fit results/Green Photons_Fit results.cla4'), 4000, 8))\n",
    "data.append(dataset(os.path.join(wdir,'A50Sigma4\\Colocalization Fit results/Green Photons_Fit results.cla4'), 5000, 4))\n",
    "data.append(dataset(os.path.join(wdir,'A50Sigma8\\Colocalization Fit results/Green Photons_Fit results.cla4'), 20000, 8))\n",
    "data.append(dataset(os.path.join(wdir,'A500Sigma4\\Colocalization Fit results/Green Photons_Fit results.cla4'), 50000, 4))\n",
    "data.append(dataset(os.path.join(wdir,'A500Sigma8\\Colocalization Fit results/Green Photons_Fit results.cla4'), 200000, 8))\n",
    "data.append(dataset(os.path.join(wdir,'A10Sigma1\\Colocalization Fit results/Green Photons_Fit results.cla4'), 62, 1))\n",
    "data.append(dataset(os.path.join(wdir,'A10Sigma2\\Colocalization Fit results/Green Photons_Fit results.cla4'), 250, 2))\n",
    "\n",
    "\n",
    "BeadLst = np.genfromtxt(os.path.join(wdir,'GaussDat2D_spotLst.txt'))\n",
    "BeadLst = BeadLst[BeadLst[:,0].argsort()]"
   ]
  },
  {
   "cell_type": "code",
   "execution_count": null,
   "metadata": {},
   "outputs": [],
   "source": []
  },
  {
   "cell_type": "code",
   "execution_count": 5,
   "metadata": {},
   "outputs": [],
   "source": [
    "def getFisherPrecision(Nphotons, sigma):\n",
    "    return 2 * sigma / (np.pi * np.sqrt(Nphotons))"
   ]
  },
  {
   "cell_type": "code",
   "execution_count": 26,
   "metadata": {},
   "outputs": [
    {
     "name": "stdout",
     "output_type": "stream",
     "text": [
      "data 1 at position 6 is bad\n",
      "data 1 at position 7 is bad\n",
      "data 3 at position 19 is bad\n",
      "data 3 at position 20 is bad\n",
      "data 6 at position 15 is bad\n",
      "data 6 at position 16 is bad\n",
      "data 6 at position 17 is bad\n",
      "data 6 at position 18 is bad\n",
      "data 6 at position 20 is bad\n",
      "data 6 at position 21 is bad\n",
      "data 6 at position 22 is bad\n",
      "data 6 at position 23 is bad\n",
      "data 6 at position 24 is bad\n",
      "data 6 at position 25 is bad\n",
      "data 6 at position 26 is bad\n",
      "data 6 at position 27 is bad\n",
      "data 6 at position 28 is bad\n",
      "data 6 at position 29 is bad\n"
     ]
    }
   ],
   "source": [
    "for i in range(8):\n",
    "    data_tmp = np.genfromtxt(data[i].fname, delimiter = '\\t', skip_header = 1)[:,2:4]\n",
    "    data_tmp = data_tmp[data_tmp[:,0].argsort()]-BeadLst\n",
    "    #check all elements in list and delete those with more than 5 pixels difference. \n",
    "    #This is done to remove those sorting errors\n",
    "    l = []\n",
    "    for j in range(data_tmp.data.shape[0]):\n",
    "        if (np.linalg.norm(data_tmp[j]) > 5):\n",
    "            print(\"data %d at position %d is bad\" % (i,j))\n",
    "        else:\n",
    "            l.append(j)\n",
    "    data[i].data = data_tmp[l]\n",
    "    data[i].theoreticalPrecision = getFisherPrecision(data[i].Nphotons, data[i].sigma)\n",
    "    data[i].precision = np.std(data[i].data)"
   ]
  },
  {
   "cell_type": "code",
   "execution_count": 18,
   "metadata": {},
   "outputs": [
    {
     "data": {
      "text/plain": [
       "(23, 2)"
      ]
     },
     "execution_count": 18,
     "metadata": {},
     "output_type": "execute_result"
    }
   ],
   "source": [
    "np.arange(0, len(data[6].data), 1).shape\n",
    "data[6].data.shape"
   ]
  },
  {
   "cell_type": "code",
   "execution_count": 27,
   "metadata": {},
   "outputs": [
    {
     "data": {
      "text/plain": [
       "<matplotlib.collections.PathCollection at 0x24397402048>"
      ]
     },
     "execution_count": 27,
     "metadata": {},
     "output_type": "execute_result"
    },
    {
     "data": {
      "image/png": "[encoded data removed]",
      "text/plain": [
       "<Figure size 432x288 with 1 Axes>"
      ]
     },
     "metadata": {},
     "output_type": "display_data"
    }
   ],
   "source": [
    "plt.scatter(data[6].data[:,0], data[6].data[:,1])"
   ]
  },
  {
   "cell_type": "code",
   "execution_count": 20,
   "metadata": {},
   "outputs": [
    {
     "name": "stdout",
     "output_type": "stream",
     "text": [
      "precision is 0.15866767676844956\n",
      "theoretical precision is 0.08052673936717927\n",
      "precision is 0.22100549561930039\n",
      "theoretical precision is 0.08052673936717927\n",
      "precision is 0.06895642592605276\n",
      "theoretical precision is 0.03601265264628425\n",
      "precision is 0.07543876687949258\n",
      "theoretical precision is 0.03601265264628425\n",
      "precision is 0.024568482055568743\n",
      "theoretical precision is 0.011388200694674833\n",
      "precision is 0.023257628020083125\n",
      "theoretical precision is 0.011388200694674833\n",
      "precision is 0.20091307037446915\n",
      "theoretical precision is 0.0808507919415152\n",
      "precision is 0.1398281363320248\n",
      "theoretical precision is 0.08052673936717927\n"
     ]
    }
   ],
   "source": [
    "for i in range(8):\n",
    "    print(\"precision is \" + str(data[i].precision))\n",
    "    print(\"theoretical precision is \" + str(data[i].theoreticalPrecision))"
   ]
  },
  {
   "cell_type": "code",
   "execution_count": 22,
   "metadata": {},
   "outputs": [
    {
     "name": "stdout",
     "output_type": "stream",
     "text": [
      "0\n",
      "2\n",
      "4\n",
      "0\n",
      "1\n",
      "2\n"
     ]
    }
   ],
   "source": [
    "#transfer into plottable lists\n",
    "sigma4 = np.zeros(3)\n",
    "sigma4_fisher = np.zeros(3)\n",
    "sigma8 = np.zeros(3)\n",
    "sigma8_fisher = np.zeros(3)\n",
    "for i, el in enumerate(np.arange(0,6,2)):\n",
    "    print(el)\n",
    "    sigma4[i] = data[el].precision\n",
    "    sigma4_fisher[i] = data[el].theoreticalPrecision\n",
    "for i, el in enumerate(np.arange(1,6,2)):\n",
    "    print(i)\n",
    "    sigma8[i] = data[el].precision\n",
    "    sigma8_fisher[i] = data[el].theoreticalPrecision\n",
    "Amplitudes = [10, 50, 500]"
   ]
  },
  {
   "cell_type": "code",
   "execution_count": 23,
   "metadata": {},
   "outputs": [
    {
     "name": "stderr",
     "output_type": "stream",
     "text": [
      "C:\\ProgramData\\Anaconda3\\lib\\site-packages\\matplotlib\\axes\\_base.py:3124: UserWarning: Attempting to set identical left==right results\n",
      "in singular transformations; automatically expanding.\n",
      "left=10.0, right=10.0\n",
      "  'left=%s, right=%s') % (left, right))\n"
     ]
    },
    {
     "data": {
      "image/png": "[encoded data removed]",
      "text/plain": [
       "<Figure size 432x288 with 1 Axes>"
      ]
     },
     "metadata": {},
     "output_type": "display_data"
    }
   ],
   "source": [
    "px = 25\n",
    "plt.loglog(10, data[6].precision*px, 'yo', label = 'precision for 2\\u03C3 = 50nm')\n",
    "plt.loglog(10, data[7].precision*px, 'co', label = 'precision for 2\\u03C3 = 100nm')\n",
    "plt.loglog(Amplitudes, sigma4*px, 'ro', label = 'precision for 2\\u03C3 = 200nm')\n",
    "plt.loglog(Amplitudes, sigma8*px, 'bo', label = 'precision for 2\\u03C3 = 400nm')\n",
    "plt.loglog(Amplitudes, sigma4_fisher*px, 'g*', label = u'fisher precision for 2\\u03C3 = 50, 100, 200nm, 400nm')\n",
    "plt.legend()\n",
    "plt.title(\"Fitting performance of Ani on 18 March 2019\")\n",
    "plt.xlabel(\"Amplitude of gaussian spot (photons)\")\n",
    "plt.ylabel(\"precision (nm)\")\n",
    "plt.savefig(\"AniFitPerformance.png\", dpi = 300)"
   ]
  },
  {
   "cell_type": "code",
   "execution_count": null,
   "metadata": {},
   "outputs": [],
   "source": []
  }
 ],
 "metadata": {
  "kernelspec": {
   "display_name": "Python 3",
   "language": "python",
   "name": "python3"
  },
  "language_info": {
   "codemirror_mode": {
    "name": "ipython",
    "version": 3
   },
   "file_extension": ".py",
   "mimetype": "text/x-python",
   "name": "python",
   "nbconvert_exporter": "python",
   "pygments_lexer": "ipython3",
   "version": "3.6.5"
  }
 },
 "nbformat": 4,
 "nbformat_minor": 2
}
