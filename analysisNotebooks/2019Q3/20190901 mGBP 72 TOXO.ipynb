{
 "cells": [
  {
   "cell_type": "code",
   "execution_count": 1,
   "metadata": {},
   "outputs": [],
   "source": [
    "import numpy as np\n",
    "import matplotlib.pyplot as plt\n",
    "import cpp_wrappers\n",
    "import FRCfuncs\n",
    "import os\n",
    "import copy\n",
    "from ImageManipulation import *"
   ]
  },
  {
   "cell_type": "code",
   "execution_count": 8,
   "metadata": {},
   "outputs": [],
   "source": [
    "from PIL import Image\n",
    "def saveGRYIm(RGYobj, outfolder, preposition = '', xmin = 0, xmax = -1, ymin = 0, ymax = -1): \n",
    "    #convert all strings to bytes\n",
    "    try: outfolder = outfolder.encode()\n",
    "    except: pass\n",
    "    try: preposition = preposition.encode()\n",
    "    except: pass\n",
    "    try:\n",
    "        os.mkdir(outfolder)\n",
    "        print('creating new folder %s\\n' %os.path.join(outfolder))\n",
    "    except: 'folder already exists'\n",
    "    im = Image.fromarray(RGYobj.G[xmin:xmax, ymin:ymax])\n",
    "    outname = os.path.join(outfolder, preposition + b'imG.tif').decode()\n",
    "    im.save(outname)\n",
    "    im = Image.fromarray(RGYobj.R[xmin:xmax, ymin:ymax])\n",
    "    outname = os.path.join(outfolder, preposition + b'imR.tif').decode()\n",
    "    im.save(outname)\n",
    "    im = Image.fromarray(RGYobj.Y[xmin:xmax, ymin:ymax])\n",
    "    outname = os.path.join(outfolder, preposition + b'imY.tif').decode()\n",
    "    im.save(outname)\n",
    "    return 0"
   ]
  },
  {
   "cell_type": "code",
   "execution_count": 18,
   "metadata": {},
   "outputs": [
    {
     "ename": "ModuleNotFoundError",
     "evalue": "No module named 'tifffile'",
     "output_type": "error",
     "traceback": [
      "\u001b[1;31m---------------------------------------------------------------------------\u001b[0m",
      "\u001b[1;31mModuleNotFoundError\u001b[0m                       Traceback (most recent call last)",
      "\u001b[1;32m<ipython-input-18-5601786b44e7>\u001b[0m in \u001b[0;36m<module>\u001b[1;34m()\u001b[0m\n\u001b[1;32m----> 1\u001b[1;33m \u001b[1;32mimport\u001b[0m \u001b[0mtifffile\u001b[0m \u001b[1;32mas\u001b[0m \u001b[0mtiff\u001b[0m\u001b[1;33m\u001b[0m\u001b[0m\n\u001b[0m",
      "\u001b[1;31mModuleNotFoundError\u001b[0m: No module named 'tifffile'"
     ]
    }
   ],
   "source": [
    "import tifffile as tiff"
   ]
  },
  {
   "cell_type": "code",
   "execution_count": 19,
   "metadata": {},
   "outputs": [
    {
     "name": "stdout",
     "output_type": "stream",
     "text": [
      "header dir already exists\n",
      "b'N:\\\\Singlem\\\\singlem19-3\\\\September\\\\01_mGBP_NV\\\\sample190704\\\\header\\\\TOXO_mGBP72_DA__02_STED.txt'\n",
      "number of records is 42344980\n",
      "N:\\Singlem\\singlem19-3\\September\\01_mGBP_NV\\sample190704\\header\\TOXO_mGBP72_DA__02_STED.txt\n",
      "header dir already exists\n",
      "b'N:\\\\Singlem\\\\singlem19-3\\\\September\\\\01_mGBP_NV\\\\sample190704\\\\header\\\\TOXO_mGBP72_DA__03_STED.txt'\n",
      "number of records is 171716317\n",
      "N:\\Singlem\\singlem19-3\\September\\01_mGBP_NV\\sample190704\\header\\TOXO_mGBP72_DA__03_STED.txt\n",
      "header dir already exists\n",
      "b'N:\\\\Singlem\\\\singlem19-3\\\\September\\\\01_mGBP_NV\\\\sample190704\\\\header\\\\TOXO_mGBP72_DA__04_STED.txt'\n",
      "number of records is 165740388\n",
      "N:\\Singlem\\singlem19-3\\September\\01_mGBP_NV\\sample190704\\header\\TOXO_mGBP72_DA__04_STED.txt\n",
      "header dir already exists\n",
      "b'N:\\\\Singlem\\\\singlem19-3\\\\September\\\\01_mGBP_NV\\\\sample190704\\\\header\\\\TOXO_mGBP72_DA__05_STED.txt'\n",
      "number of records is 275260252\n",
      "N:\\Singlem\\singlem19-3\\September\\01_mGBP_NV\\sample190704\\header\\TOXO_mGBP72_DA__05_STED.txt\n"
     ]
    }
   ],
   "source": [
    "wdir = b'N:\\\\Singlem\\\\singlem19-3\\\\September\\\\01_mGBP_NV\\\\sample190704'\n",
    "outdir = b'N:\\\\Singlem\\\\singlem19-3\\\\September\\\\01_mGBP_NV\\\\sample190704\\\\raw'\n",
    "f2 = b'TOXO_mGBP72_DA__02_STED.ptu'\n",
    "f3 = b'TOXO_mGBP72_DA__03_STED.ptu'\n",
    "f4 = b'TOXO_mGBP72_DA__04_STED.ptu'\n",
    "f5 = b'TOXO_mGBP72_DA__05_STED.ptu'\n",
    "\n",
    "for f in [f2, f3, f4, f5]:\n",
    "    fname = os.path.join(wdir, f)\n",
    "    obj = processLifetimeImage(fname, np.array([1,2]))\n",
    "    obj.loadLifetime()\n",
    "    obj.gate(25,200)\n",
    "    obj.loadIntensity()\n",
    "    saveGRYIm(obj.workIntensity, outdir, f[:-4])"
   ]
  },
  {
   "cell_type": "code",
   "execution_count": 20,
   "metadata": {},
   "outputs": [
    {
     "name": "stdout",
     "output_type": "stream",
     "text": [
      "header dir already exists\n",
      "b'N:\\\\Singlem\\\\singlem19-3\\\\September\\\\01_mGBP_NV\\\\sample190704\\\\header\\\\TOXO_mGBP72_DA__02_CF.txt'\n",
      "number of records is 6946576\n",
      "N:\\Singlem\\singlem19-3\\September\\01_mGBP_NV\\sample190704\\header\\TOXO_mGBP72_DA__02_CF.txt\n",
      "header dir already exists\n",
      "b'N:\\\\Singlem\\\\singlem19-3\\\\September\\\\01_mGBP_NV\\\\sample190704\\\\header\\\\TOXO_mGBP72_DA__03_CF.txt'\n",
      "number of records is 54067208\n",
      "N:\\Singlem\\singlem19-3\\September\\01_mGBP_NV\\sample190704\\header\\TOXO_mGBP72_DA__03_CF.txt\n",
      "header dir already exists\n",
      "b'N:\\\\Singlem\\\\singlem19-3\\\\September\\\\01_mGBP_NV\\\\sample190704\\\\header\\\\TOXO_mGBP72_DA__04_CF.txt'\n",
      "number of records is 46203807\n",
      "N:\\Singlem\\singlem19-3\\September\\01_mGBP_NV\\sample190704\\header\\TOXO_mGBP72_DA__04_CF.txt\n",
      "header dir already exists\n",
      "b'N:\\\\Singlem\\\\singlem19-3\\\\September\\\\01_mGBP_NV\\\\sample190704\\\\header\\\\TOXO_mGBP72_DA__05_CF.txt'\n",
      "number of records is 97468252\n",
      "N:\\Singlem\\singlem19-3\\September\\01_mGBP_NV\\sample190704\\header\\TOXO_mGBP72_DA__05_CF.txt\n"
     ]
    }
   ],
   "source": [
    "wdir = b'N:\\\\Singlem\\\\singlem19-3\\\\September\\\\01_mGBP_NV\\\\sample190704'\n",
    "outdir = b'N:\\\\Singlem\\\\singlem19-3\\\\September\\\\01_mGBP_NV\\\\sample190704\\\\raw'\n",
    "f2 = b'TOXO_mGBP72_DA__02_CF.ptu'\n",
    "f3 = b'TOXO_mGBP72_DA__03_CF.ptu'\n",
    "f4 = b'TOXO_mGBP72_DA__04_CF.ptu'\n",
    "f5 = b'TOXO_mGBP72_DA__05_CF.ptu'\n",
    "\n",
    "for f in [f2, f3, f4, f5]:\n",
    "    fname = os.path.join(wdir, f)\n",
    "    obj = processLifetimeImage(fname, np.array([1,2]))\n",
    "    obj.loadLifetime()\n",
    "    obj.loadIntensity()\n",
    "    saveGRYIm(obj.workIntensity, outdir, f[:-4])"
   ]
  },
  {
   "cell_type": "code",
   "execution_count": null,
   "metadata": {},
   "outputs": [],
   "source": []
  }
 ],
 "metadata": {
  "kernelspec": {
   "display_name": "Python 3",
   "language": "python",
   "name": "python3"
  },
  "language_info": {
   "codemirror_mode": {
    "name": "ipython",
    "version": 3
   },
   "file_extension": ".py",
   "mimetype": "text/x-python",
   "name": "python",
   "nbconvert_exporter": "python",
   "pygments_lexer": "ipython3",
   "version": "3.6.5"
  }
 },
 "nbformat": 4,
 "nbformat_minor": 2
}
