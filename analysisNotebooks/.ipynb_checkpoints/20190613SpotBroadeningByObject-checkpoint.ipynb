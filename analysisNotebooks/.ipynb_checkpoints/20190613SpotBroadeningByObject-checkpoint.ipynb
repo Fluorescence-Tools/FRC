{
 "cells": [
  {
   "cell_type": "code",
   "execution_count": 1,
   "metadata": {},
   "outputs": [],
   "source": [
    "import numpy as np\n",
    "from FRCfuncs import *\n",
    "import matplotlib.pyplot as plt\n",
    "from scipy import special"
   ]
  },
  {
   "cell_type": "markdown",
   "metadata": {},
   "source": [
    "## spot broadening for polar constrained linkers"
   ]
  },
  {
   "cell_type": "markdown",
   "metadata": {},
   "source": [
    "Suppose we have a diffraction limited Gaussian spot of 40nm FWHM. Our object is a DNA strand of 14 nm with Donor at the glass surface and acceptor at the far end. The DNA strand has a fixed polar angle \\theta with the glass surface and can freely diffuse in the azimuthal angle phi. Suppose the angle \\theta is 30, the position of the dye is then fixed on a circle with radius 7nm.\n",
    "We can describe the observed spot as a convolution between the PSF and the object function. The convolution is computed via multiplication in Fourier space. The FT of a Gauss is a Gauss. The FT of a cirkel is a zeroth order Besselfunction with argument 2\\pi R \\rho. Where R is the radius of the cirkel and \\rho is the radial argument in Fourier space. (Derivation on paper) and here: https://www.eee.hku.hk/~work8501/WWW2008/ho2.pdf."
   ]
  },
  {
   "cell_type": "code",
   "execution_count": 134,
   "metadata": {},
   "outputs": [],
   "source": [
    "def OBJECT(rho):\n",
    "    return special.j0(2 * np.pi * R * rho) #Applicable Bessel function from paper derivation"
   ]
  },
  {
   "cell_type": "code",
   "execution_count": 177,
   "metadata": {},
   "outputs": [],
   "source": [
    "def ImageRing(sigma, R, box = 200):\n",
    "    \"\"\"Convolves ring object with gaussian PSF. Ring object is calculated directly in Fourier Space\n",
    "    using zero order Bessel \"\"\"\n",
    "    sigma = 40 /2.355 #FWHM to sigma\n",
    "    box = 200\n",
    "    x = np.arange(box)\n",
    "    y = np.arange(box)\n",
    "    coord = np.meshgrid(x, y)\n",
    "    rho_coord = np.sqrt((coord[0]-box/2)**2+(coord[1]-box/2)**2)/box #radial coordinate map centered around middle\n",
    "\n",
    "    psf = twoD_Gaussian(coord, 1, box/2, box/2, sigma, sigma, 0, 0).reshape([box,box])\n",
    "    OTF = np.fft.fftshift(np.fft.fft2(PSF))\n",
    "    OBJECT = special.j0(2 * np.pi * R * rho_coord)\n",
    "    IMAGE = OTF * OBJECT #operation. note complex conjugate is not taken as OBJECT is already real.\n",
    "    image = np.fft.ifft2(np.fft.fftshift(IMAGE))\n",
    "    Object = np.fft.ifft2(OBJECT)\n",
    "    [_,_,_,sigma,*_], _ = curve_fit(twoD_Gaussian, coord, abs(image).ravel(), p0=p0)\n",
    "\n",
    "    return sigma, image\n",
    "sigma, _ = ImageRing(40 /2.355,7)"
   ]
  },
  {
   "cell_type": "code",
   "execution_count": 179,
   "metadata": {},
   "outputs": [
    {
     "name": "stderr",
     "output_type": "stream",
     "text": [
      "C:\\Users\\voort\\AppData\\Local\\Continuum\\anaconda3\\lib\\site-packages\\scipy\\optimize\\minpack.py:794: OptimizeWarning: Covariance of the parameters could not be estimated\n",
      "  category=OptimizeWarning)\n"
     ]
    }
   ],
   "source": [
    "R = np.arange(30)\n",
    "sigma = np.ones(30)\n",
    "for i, el in enumerate(R):\n",
    "    sigma[i], _ = ImageRing(40 /2.355,el)"
   ]
  },
  {
   "cell_type": "code",
   "execution_count": null,
   "metadata": {},
   "outputs": [],
   "source": []
  },
  {
   "cell_type": "code",
   "execution_count": 162,
   "metadata": {},
   "outputs": [
    {
     "name": "stdout",
     "output_type": "stream",
     "text": [
      "16.985138004246284\n",
      "[ 3.21982550e-01  9.99990819e+01  9.99990819e+01  3.27207358e+01\n",
      "  3.27207358e+01 -3.75613525e-08 -8.59059631e-03]\n"
     ]
    },
    {
     "name": "stderr",
     "output_type": "stream",
     "text": [
      "C:\\Users\\voort\\AppData\\Local\\Continuum\\anaconda3\\lib\\site-packages\\scipy\\optimize\\minpack.py:794: OptimizeWarning: Covariance of the parameters could not be estimated\n",
      "  category=OptimizeWarning)\n"
     ]
    }
   ],
   "source": [
    "p0 = 1, box/2, box/2, sigma, sigma, 0, 0\n",
    "print(sigma)\n",
    "popt, pcov = curve_fit(twoD_Gaussian, coord, abs(image).ravel(), p0=p0)\n",
    "print(popt)"
   ]
  },
  {
   "cell_type": "code",
   "execution_count": 178,
   "metadata": {},
   "outputs": [
    {
     "data": {
      "text/plain": [
       "17.722833076719205"
      ]
     },
     "execution_count": 178,
     "metadata": {},
     "output_type": "execute_result"
    }
   ],
   "source": [
    "sigma"
   ]
  },
  {
   "cell_type": "code",
   "execution_count": 174,
   "metadata": {},
   "outputs": [
    {
     "data": {
      "text/plain": [
       "<matplotlib.colorbar.Colorbar at 0x1ba820e3c18>"
      ]
     },
     "execution_count": 174,
     "metadata": {},
     "output_type": "execute_result"
    },
    {
     "data": {
      "image/png": "[encoded data removed]",
      "text/plain": [
       "<Figure size 432x288 with 2 Axes>"
      ]
     },
     "metadata": {},
     "output_type": "display_data"
    }
   ],
   "source": [
    "plt.imshow(np.abs(image))\n",
    "plt.colorbar()"
   ]
  },
  {
   "cell_type": "code",
   "execution_count": null,
   "metadata": {},
   "outputs": [],
   "source": []
  }
 ],
 "metadata": {
  "kernelspec": {
   "display_name": "Python 3",
   "language": "python",
   "name": "python3"
  },
  "language_info": {
   "codemirror_mode": {
    "name": "ipython",
    "version": 3
   },
   "file_extension": ".py",
   "mimetype": "text/x-python",
   "name": "python",
   "nbconvert_exporter": "python",
   "pygments_lexer": "ipython3",
   "version": "3.6.5"
  }
 },
 "nbformat": 4,
 "nbformat_minor": 2
}
