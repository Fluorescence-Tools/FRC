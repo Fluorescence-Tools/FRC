{
 "cells": [
  {
   "cell_type": "code",
   "execution_count": 1,
   "metadata": {},
   "outputs": [],
   "source": [
    "import developmental_functions as df"
   ]
  },
  {
   "cell_type": "code",
   "execution_count": 2,
   "metadata": {},
   "outputs": [
    {
     "name": "stdout",
     "output_type": "stream",
     "text": [
      "N:\\Singlem\\singlem20-1\\February\\10_dBnoFRET_JHB\\all\n",
      "creating folder\n"
     ]
    }
   ],
   "source": [
    "infolder = r'N:\\Singlem\\singlem20-1\\February\\10_dBnoFRET_JHB'\n",
    "df.simplePTUmerge(infolder)"
   ]
  },
  {
   "cell_type": "code",
   "execution_count": 3,
   "metadata": {},
   "outputs": [
    {
     "name": "stdout",
     "output_type": "stream",
     "text": [
      "N:\\Singlem\\singlem20-1\\January\\20200228_dBlowFRET_JHB\\all\n",
      "creating folder\n"
     ]
    }
   ],
   "source": [
    "infolder = r'N:\\Singlem\\singlem20-1\\January\\20200228_dBlowFRET_JHB'\n",
    "df.simplePTUmerge(infolder)"
   ]
  },
  {
   "cell_type": "code",
   "execution_count": 4,
   "metadata": {},
   "outputs": [
    {
     "name": "stdout",
     "output_type": "stream",
     "text": [
      "N:\\Singlem\\singlem20-1\\January\\20200127_dBmidFRET_JHB\\dB_midFRET_good\\all\n",
      "creating folder\n"
     ]
    }
   ],
   "source": [
    "infolder = r'N:\\Singlem\\singlem20-1\\January\\20200127_dBmidFRET_JHB\\dB_midFRET_good'\n",
    "df.simplePTUmerge(infolder)"
   ]
  },
  {
   "cell_type": "code",
   "execution_count": 5,
   "metadata": {},
   "outputs": [
    {
     "name": "stdout",
     "output_type": "stream",
     "text": [
      "N:\\Singlem\\singlem20-2\\May\\01_sB_MF_Ruler_NV\\all\n",
      "creating folder\n"
     ]
    }
   ],
   "source": [
    "infolder = r'N:\\Singlem\\singlem20-2\\May\\01_sB_MF_Ruler_NV'\n",
    "df.simplePTUmerge(infolder)"
   ]
  },
  {
   "cell_type": "code",
   "execution_count": 6,
   "metadata": {},
   "outputs": [
    {
     "name": "stdout",
     "output_type": "stream",
     "text": [
      "N:\\Singlem\\singlem20-2\\May\\02_sB_LF_Ruler_NV\\data\\all\n",
      "creating folder\n"
     ]
    }
   ],
   "source": [
    "infolder = r'N:\\Singlem\\singlem20-2\\May\\02_sB_LF_Ruler_NV\\data'\n",
    "df.simplePTUmerge(infolder)"
   ]
  },
  {
   "cell_type": "code",
   "execution_count": 7,
   "metadata": {},
   "outputs": [
    {
     "name": "stdout",
     "output_type": "stream",
     "text": [
      "N:\\Singlem\\singlem20-2\\May\\04_sB_NF_Ruler_JHB_NV\\data\\all\n",
      "creating folder\n"
     ]
    }
   ],
   "source": [
    "infolder = r'N:\\Singlem\\singlem20-2\\May\\04_sB_NF_Ruler_JHB_NV\\data'\n",
    "df.simplePTUmerge(infolder)"
   ]
  },
  {
   "cell_type": "markdown",
   "metadata": {},
   "source": [
    "#the data in the source folder is still being copied to this location\n",
    "infolder = r'N:\\Singlem\\singlem20-2\\april\\30_sB_hFRET_JHB'\n",
    "df.simplemPTUmerge(infolder)"
   ]
  },
  {
   "cell_type": "code",
   "execution_count": null,
   "metadata": {},
   "outputs": [],
   "source": []
  }
 ],
 "metadata": {
  "kernelspec": {
   "display_name": "Python 3",
   "language": "python",
   "name": "python3"
  },
  "language_info": {
   "codemirror_mode": {
    "name": "ipython",
    "version": 3
   },
   "file_extension": ".py",
   "mimetype": "text/x-python",
   "name": "python",
   "nbconvert_exporter": "python",
   "pygments_lexer": "ipython3",
   "version": "3.7.4"
  }
 },
 "nbformat": 4,
 "nbformat_minor": 2
}
